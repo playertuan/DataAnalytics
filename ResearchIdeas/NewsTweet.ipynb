{
 "cells": [
  {
   "cell_type": "code",
   "execution_count": 55,
   "metadata": {
    "collapsed": true
   },
   "outputs": [],
   "source": [
    "import tweepy\n",
    "import json\n",
    "import numpy as np\n",
    "import time\n",
    "\n",
    "from vaderSentiment.vaderSentiment import SentimentIntensityAnalyzer\n",
    "analyzer = SentimentIntensityAnalyzer()"
   ]
  },
  {
   "cell_type": "code",
   "execution_count": 56,
   "metadata": {
    "collapsed": true
   },
   "outputs": [],
   "source": [
    "# Twitter API Keys\n",
    "consumer_key = \"69yszdTLVmckDxrzA5UAQxZq5\"\n",
    "consumer_secret = \"cisvW7V58fW27caqBB2lH7lzZbKIrYm75hfK1TUuxmdeSmG4Zv\"\n",
    "access_token = \"2959159369-a1kQ3sqRsC3ZRbdENksDCjg7Y0OS0DakBYL9Ex7\"\n",
    "access_token_secret = \"mtYv1fDKM6oR6DQ56p2vniGPk3MzcAvB1imvAD9wFdZ3z\""
   ]
  },
  {
   "cell_type": "code",
   "execution_count": 57,
   "metadata": {
    "collapsed": true
   },
   "outputs": [],
   "source": [
    "# Setup Tweepy API Authentication\n",
    "auth = tweepy.OAuthHandler(consumer_key, consumer_secret)\n",
    "auth.set_access_token(access_token, access_token_secret)\n",
    "api = tweepy.API(auth, parser=tweepy.parsers.JSONParser())"
   ]
  },
  {
   "cell_type": "code",
   "execution_count": 59,
   "metadata": {
    "collapsed": false
   },
   "outputs": [
    {
     "name": "stdout",
     "output_type": "stream",
     "text": [
      "the trump administration has halted a study of the health effects of a common mining technique in appalachia… https://t.co/0dzggmzq78\n",
      "trump administration rejects coal execs' request for an emergency order that would protect coal-fired power plants… https://t.co/y9w64wffle\n",
      "gop rep. sanford: if trump further condemned charlottesville violence during #trumprally, it would \"be a good thing\" https://t.co/ocnzydqnea\n",
      "president trump will not declare a decision today on whether to pardon joe arpaio, white house press secretary says… https://t.co/kvsxmnv3l8\n",
      "thousands of people are expected to protest president trump's rally in phoenix tonight https://t.co/zooynm2lv2 https://t.co/ng9iqfs7vs\n",
      "tillerson: trump's newly unveiled afghanistan strategy is meant to pressure the taliban to the negotiating table… https://t.co/ouelwjb7gq\n",
      "the scene in downtown phoenix, where some people have lined up for hours to enter president trump's campaign rally https://t.co/1hs0jjrmyd\n",
      "about 28 million tv viewers watched trump's afghanistan speech https://t.co/urioaswlq1 https://t.co/eknkl8xqnl\n",
      "rt @cnnpolitics: why one big-time republican consultant thinks trump won't be president by 2019 https://t.co/iwt1r8zfks https://t.co/x3h8i7…\n",
      "more: breitbart editor suggests he could have jared kushner &amp; ivanka trump ousted from white house \"by end of year\"… https://t.co/tvp07buhzb\n",
      "in afghanistan course correction, trump learns winning is not so easy https://t.co/fv9goy8he1\n",
      "nonprofit cancels event at trump golf course in new jersey https://t.co/un5ixjpupa\n",
      "7 things donald trump shouldn't talk about in arizona tonight (but probably will) | analysis by chris cillizza https://t.co/ei2omuymu0\n",
      "“trump is the world's biggest troll”: the best quotes from cnn's trump voter panel discussion… https://t.co/lmhr7wmuvc\n",
      "they were among president trump's biggest threats. and so far he hasn't followed through. https://t.co/1vlybtr8sn\n",
      "arizona congressman: president trump “is clearly racist” and “just an abject liar” https://t.co/8pahoxwfbi https://t.co/5xirmk45nu\n",
      "german police seize around 5,000 ecstasy tablets shaped like the head of president trump https://t.co/4ekp29ev2q https://t.co/trz2ei0ppa\n",
      "donald trump: culture warrior || analysis by @gregjkrieg https://t.co/fs1gz8f1pp https://t.co/m6sdrw4fhm\n",
      "\"president trump is smarter than anybody in this room\": the 5 best quotes from alisyn camerota's trump voter panel… https://t.co/nsjhj1j5qf\n",
      "trump supporter: “i wish he would tone down the twitter a little bit” https://t.co/chuiflevvy https://t.co/xu7jsclakl\n",
      "far-right website breitbart chides president trump for his \"flip-flop\" on afghanistan policy https://t.co/lzg733mhtc https://t.co/yytk8uimp5\n",
      "read the full text of president trump's speech on the war in afghanistan https://t.co/104z9shfqa https://t.co/lxf7bbxsxk\n",
      "the trump administration has ended a study of the health effects of a common mining technique in appalachia… https://t.co/on7vagod9s\n",
      "chelsea clinton is defending fellow first child, barron trump, after an article criticized his casual fashion choic… https://t.co/86xm0hudyu\n",
      "arizona congressman: president trump “is clearly racist” and “just an abject liar” https://t.co/pg89atgosl https://t.co/9ehdonvlee\n",
      "trump \"listened to his generals\" on afghanistan, us ambassador to the un nikki haley says https://t.co/8cswqewnad https://t.co/p7fhemompt\n",
      "trump supporter: \"trump is the world's biggest troll. and everybody falls for it every day -- hook, line and sinker… https://t.co/gw2ka4padh\n",
      "the reality is, president trump can make a difference in afghanistan (via @cnnopinion) https://t.co/mfehy3i9ql https://t.co/zuko7t7qgr\n",
      "rt @cnnnewsroom: .@repdonbacon acknowledges trump \"switched\" on afghanistan, says \"pulling out would have been a disaster\"   https://t.co/x…\n",
      "why one big-time republican consultant thinks donald trump won't be president by 2019 https://t.co/bwpijn2vxb https://t.co/b97a8cgzsk\n",
      "in afghanistan course correction, donald trump learns winning is not so easy, writes @stcollinson… https://t.co/tyrsas5nzf\n",
      "german police seize around 5,000 ecstasy tablets shaped like the head of president trump https://t.co/0jei73wamo https://t.co/vk2kheclky\n",
      "president trump calls for pakistan and india to do more on afghanistan https://t.co/ahcon6tlrx https://t.co/xn5pcqrf0g\n",
      "less than 24 hours after a speech outlining afghanistan strategy, trump will hold a campaign-style rally in phoenix… https://t.co/bebdy7te2k\n",
      "rt @newday: .@nikkihaley on trump's afghanistan plan: in the past it was \"time-based ... now it's results-based and that works.\" https://t.…\n",
      "the five key things to know about president trump's new strategy for afghanistan https://t.co/4zfydkez0t https://t.co/g1flzaqtq4\n",
      "here are the five key pieces of president trump's afghanistan plan https://t.co/ix6yipasqr https://t.co/d84mh6zdls\n",
      "in afghanistan course correction, donald trump learns winning is not so easy, writes @stcollinson… https://t.co/9n7xuoyvef\n",
      "here are the five key pieces of president trump's afghanistan plan https://t.co/qwqv71pyib https://t.co/syc9pxdgow\n",
      "president trump calls for pakistan and india to do more on afghanistan https://t.co/gjkmuh8ekc https://t.co/vp9g5wtubj\n",
      "\n",
      "User: CNN\n",
      "Compound: 0.0373225\n",
      "Positive: 0.07165\n",
      "Neutral: 0.873925\n",
      "Negative: 0.054425\n",
      "cnn star under fire for revealing secret, off-camera discussions about trump's 'mental fitness' https://t.co/y1n6kbhlne\n",
      ".@realdonaldtrump will not pardon former sheriff joe arpaio at phoenix rally, white house says… https://t.co/fchm9nljbp\n",
      ".@georgeforeman praises @realdonaldtrump, slams @kaepernick7 and @kdtrey5 https://t.co/gprgnabboe\n",
      "missouri senator who urged trump assassination booted from committees\n",
      "https://t.co/jov8bw8elc\n",
      "german police seize thousands of 'trump' ecstasy tablets https://t.co/spa9i6co11\n",
      "trump will not pardon arpaio at phoenix rally, white house says - via @brookefoxnews\n",
      "\n",
      "https://t.co/iuxt3e0rdd\n",
      "trump dossier figure, glenn simpson, questioned behind closed doors on capitol hill - via @brookefoxnews\n",
      "https://t.co/zxpp7binds\n",
      ".@georgeforeman praises @realdonaldtrump, slams @kaepernick7 and @kdtrey5 https://t.co/gprgnabboe\n",
      "trump dossier figure questioned behind closed doors on capitol hill https://t.co/dcpfmhv1vi\n",
      "trump dossier figure questioned behind closed doors on capitol hill- via @brookefoxnews\n",
      "https://t.co/zxpp7binds\n",
      "rt @foxnewspolitics: trump dossier figure questioned behind closed doors on capitol hill- via @brookefoxnews \n",
      "https://t.co/cncirdqchr\n",
      "north korea’s latest propaganda puts trump in cemetery https://t.co/livp1nrcjd\n",
      "trump planning arpaio pardon? ex-sheriff says 'we’ll see what happens'  https://t.co/grnunksoj9 via @brookefoxnews… https://t.co/jh3usjiwgt\n",
      "trump planning arpaio pardon? ex-sheriff says 'we’ll see what happens' – via @brookefoxnews https://t.co/jhsawedgie\n",
      "rt @mikeemanuelfox: az politicians clash with pres trump ahead of campaign rally - from @americanewsroom with @billhemmer this morning:\n",
      "\n",
      "ht…\n",
      ".@ingrahamangle: trump voters expected 'drain the swamp, not clear the desert' https://t.co/tqfnmga6re\n",
      "rt @foxnewsinsider: .@ingrahamangle: trump voters expected 'drain the swamp, not clear the desert' @foxandfriends https://t.co/0okte9tu8b\n",
      "trump ends obama's 'water bottle ban'  https://t.co/sxbfnehddi\n",
      "taliban spokesman not impressed by trump's 'old, 'unclear' afghanistan speech  https://t.co/avfjauv6vu\n",
      ".@vp on @foxandfriends: “the progress under president trump’s leadership in iraq and in syria has truly been remark… https://t.co/cro1oryxkg\n",
      "taliban spokesman not impressed by trump's 'old, 'unclear' afghanistan speech https://t.co/41i4cbvafy\n",
      "morning brief: trump announces new focus on afghanistan https://t.co/0ealqxeh3k\n",
      "no blackout: could trump's afghanistan move eclipse his political problems? https://t.co/n8yklg1jcj via @howardkurtz @mediabuzzfnc\n",
      "taliban spokesman not impressed by trump's 'old, 'unclear' afghanistan speech https://t.co/41i4cbml76\n",
      "\n",
      "User: FoxNews\n",
      "Compound: -0.0707666666667\n",
      "Positive: 0.069625\n",
      "Neutral: 0.810125\n",
      "Negative: 0.120208333333\n",
      "what to know ahead of president trump’s rally in arizona tonight https://t.co/5tp8jfdyjf\n",
      "rt @viasimonromero: on the street in downtown phoenix where people are gathering ahead of trump's rally tonight https://t.co/1vaifxz6m2\n",
      "breaking news: mitch mcconnell, the senate leader, privately doubts whether trump can salvage his administration https://t.co/mkthupzgpv\n",
      "president trump's former childhood house is listed for rent on airbnb. but traces of him are elusive.… https://t.co/zj2gyoiqpq\n",
      "the trump administration announced new sanctions as part of its campaign to pressure north korea https://t.co/zvbogpq1il\n",
      "one nyt reader's reaction to trump's strategy for resolving the conflict in afghanistan https://t.co/j8gy6gmgqb https://t.co/fcyx9fydrv\n",
      "one nyt reader's reaction to trump's strategy for resolving the conflict in afghanistan https://t.co/j8gy6gmgqb https://t.co/murbmjx5ad\n",
      "rt @nytvideo: president trump laid out his new plan for afghanistan, emphasizing that conditions on the ground, not timetables, will dictat…\n",
      "the man whom trump famously called “my african-american” said his backing for the president is on “life support” https://t.co/fuwp5oirkh\n",
      "large protests are expected near president trump’s rally, his first such event since his comments on charlottesville https://t.co/pju1gg9ela\n",
      "conan o’brien suggested that if reverse psychology worked well on trump, someone should tell him not to resign https://t.co/eguy4ztas5\n",
      "president trump will meet with border patrol officials in arizona before attending a campaign-style rally https://t.co/kabldbxdo7\n",
      "president trump asked india — which pakistan has historically seen as its enemy — to “help us more” in afghanistan https://t.co/wrqyvgw8nv\n",
      "as trump promises a renewed u.s. commitment to afghanistan, the war has become more violent and complex than ever https://t.co/tgux14nnnz\n",
      "ryan condemned trump's “both sides\" remarks, but argued that the president had since repaired the damage he had done https://t.co/mg36haxpk3\n",
      "trump has defied so many things: historical precedent, political gravity. so why not the sun? https://t.co/fsluftlyzq\n",
      "\n",
      "User: nytimes\n",
      "Compound: -0.1346875\n",
      "Positive: 0.0455\n",
      "Neutral: 0.865625\n",
      "Negative: 0.08875\n"
     ]
    }
   ],
   "source": [
    "users = [\"CNN\", \"FoxNews\", \"nytimes\"]\n",
    "for user in users:\n",
    "    cpd_list = []\n",
    "    pos_list = []\n",
    "    neu_list = []\n",
    "    neg_list = []\n",
    "\n",
    "    tweets = api.user_timeline(user, count=100)\n",
    "    for tweet in tweets:\n",
    "        text =  tweet['text'].encode('utf8').decode()\n",
    "        tweet_text = text.lower()\n",
    "        if \"trump\" in tweet_text:\n",
    "            print(tweet_text)\n",
    "            \n",
    "            compound = analyzer.polarity_scores(tweet_text)[\"compound\"]\n",
    "            pos = analyzer.polarity_scores(tweet_text)[\"pos\"]\n",
    "            neu = analyzer.polarity_scores(tweet_text)[\"neu\"]\n",
    "            neg = analyzer.polarity_scores(tweet_text)[\"neg\"]\n",
    "\n",
    "            cpd_list.append(compound)\n",
    "            pos_list.append(pos)\n",
    "            neg_list.append(neg)\n",
    "            neu_list.append(neu)\n",
    "\n",
    "    print(\"\")\n",
    "    print(\"User: %s\" % user)\n",
    "    print(\"Compound: %s\" % np.mean(cpd_list))\n",
    "    print(\"Positive: %s\" % np.mean(pos_list))\n",
    "    print(\"Neutral: %s\" % np.mean(neu_list))\n",
    "    print(\"Negative: %s\" % np.mean(neg_list))"
   ]
  },
  {
   "cell_type": "code",
   "execution_count": null,
   "metadata": {
    "collapsed": true
   },
   "outputs": [],
   "source": []
  }
 ],
 "metadata": {
  "kernelspec": {
   "display_name": "Python 3",
   "language": "python",
   "name": "python3"
  },
  "language_info": {
   "codemirror_mode": {
    "name": "ipython",
    "version": 3
   },
   "file_extension": ".py",
   "mimetype": "text/x-python",
   "name": "python",
   "nbconvert_exporter": "python",
   "pygments_lexer": "ipython3",
   "version": "3.6.0"
  }
 },
 "nbformat": 4,
 "nbformat_minor": 2
}
