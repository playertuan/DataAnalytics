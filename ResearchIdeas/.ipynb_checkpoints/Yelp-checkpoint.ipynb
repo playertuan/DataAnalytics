{
 "cells": [
  {
   "cell_type": "code",
   "execution_count": 4,
   "metadata": {
    "collapsed": true
   },
   "outputs": [],
   "source": [
    "import requests\n",
    "import json\n",
    "import urllib"
   ]
  },
  {
   "cell_type": "code",
   "execution_count": 5,
   "metadata": {
    "collapsed": true
   },
   "outputs": [],
   "source": [
    "CLIENT_ID = \"ZRkwtqrqEh3M63fZwugKUg\"\n",
    "CLIENT_SECRET = \"QhBAZ03CPqOmlKE5DpXLtILlTWZHwJw9GtWKOLiNKnBYOuBBXBrVXS4R8SJGEqQp\"\n",
    "GRANT_TYPE = 'client_credentials'"
   ]
  },
  {
   "cell_type": "code",
   "execution_count": 9,
   "metadata": {
    "collapsed": false
   },
   "outputs": [],
   "source": [
    "url = 'https://api.yelp.com/oauth2/token'\n",
    "data = urllib.parse.urlencode({\n",
    "    'client_id': CLIENT_ID,\n",
    "    'client_secret': CLIENT_SECRET,\n",
    "    'grant_type': GRANT_TYPE,\n",
    "})\n",
    "headers = {\n",
    "    'content-type': 'application/x-www-form-urlencoded',\n",
    "}\n",
    "response = requests.request('POST', url, data=data, headers=headers)\n",
    "bearer_token = response.json()['access_token']"
   ]
  },
  {
   "cell_type": "code",
   "execution_count": 37,
   "metadata": {
    "collapsed": false
   },
   "outputs": [
    {
     "name": "stdout",
     "output_type": "stream",
     "text": [
      "[{'name': 'The Pork Exchange', 'url': 'https://www.yelp.com/biz/the-pork-exchange-san-francisco?adjust_creative=ZRkwtqrqEh3M63fZwugKUg&utm_campaign=yelp_api_v3&utm_medium=api_v3_business_search&utm_source=ZRkwtqrqEh3M63fZwugKUg', 'rating': 4.5}, {'name': \"MAC'D\", 'url': 'https://www.yelp.com/biz/macd-san-francisco?adjust_creative=ZRkwtqrqEh3M63fZwugKUg&utm_campaign=yelp_api_v3&utm_medium=api_v3_business_search&utm_source=ZRkwtqrqEh3M63fZwugKUg', 'rating': 4.0}, {'name': 'SF Kebab', 'url': 'https://www.yelp.com/biz/sf-kebab-san-francisco-2?adjust_creative=ZRkwtqrqEh3M63fZwugKUg&utm_campaign=yelp_api_v3&utm_medium=api_v3_business_search&utm_source=ZRkwtqrqEh3M63fZwugKUg', 'rating': 4.5}, {'name': 'Parker Cafe', 'url': 'https://www.yelp.com/biz/parker-cafe-san-francisco-2?adjust_creative=ZRkwtqrqEh3M63fZwugKUg&utm_campaign=yelp_api_v3&utm_medium=api_v3_business_search&utm_source=ZRkwtqrqEh3M63fZwugKUg', 'rating': 4.5}, {'name': 'RT Rotisserie', 'url': 'https://www.yelp.com/biz/rt-rotisserie-san-francisco?adjust_creative=ZRkwtqrqEh3M63fZwugKUg&utm_campaign=yelp_api_v3&utm_medium=api_v3_business_search&utm_source=ZRkwtqrqEh3M63fZwugKUg', 'rating': 4.0}, {'name': \"Chef Li's Cafe\", 'url': 'https://www.yelp.com/biz/chef-lis-cafe-san-francisco-3?adjust_creative=ZRkwtqrqEh3M63fZwugKUg&utm_campaign=yelp_api_v3&utm_medium=api_v3_business_search&utm_source=ZRkwtqrqEh3M63fZwugKUg', 'rating': 4.5}, {'name': \"Francisca's\", 'url': 'https://www.yelp.com/biz/franciscas-san-francisco?adjust_creative=ZRkwtqrqEh3M63fZwugKUg&utm_campaign=yelp_api_v3&utm_medium=api_v3_business_search&utm_source=ZRkwtqrqEh3M63fZwugKUg', 'rating': 4.5}, {'name': \"Sue's Kitchen\", 'url': 'https://www.yelp.com/biz/sues-kitchen-san-francisco?adjust_creative=ZRkwtqrqEh3M63fZwugKUg&utm_campaign=yelp_api_v3&utm_medium=api_v3_business_search&utm_source=ZRkwtqrqEh3M63fZwugKUg', 'rating': 4.5}, {'name': 'Duna', 'url': 'https://www.yelp.com/biz/duna-san-francisco?adjust_creative=ZRkwtqrqEh3M63fZwugKUg&utm_campaign=yelp_api_v3&utm_medium=api_v3_business_search&utm_source=ZRkwtqrqEh3M63fZwugKUg', 'rating': 4.5}, {'name': \"Ike's Love & Sandwiches\", 'url': 'https://www.yelp.com/biz/ikes-love-and-sandwiches-san-francisco-3?adjust_creative=ZRkwtqrqEh3M63fZwugKUg&utm_campaign=yelp_api_v3&utm_medium=api_v3_business_search&utm_source=ZRkwtqrqEh3M63fZwugKUg', 'rating': 4.0}, {'name': 'Robin', 'url': 'https://www.yelp.com/biz/robin-san-francisco?adjust_creative=ZRkwtqrqEh3M63fZwugKUg&utm_campaign=yelp_api_v3&utm_medium=api_v3_business_search&utm_source=ZRkwtqrqEh3M63fZwugKUg', 'rating': 4.0}, {'name': 'Poke Life', 'url': 'https://www.yelp.com/biz/poke-life-san-francisco?adjust_creative=ZRkwtqrqEh3M63fZwugKUg&utm_campaign=yelp_api_v3&utm_medium=api_v3_business_search&utm_source=ZRkwtqrqEh3M63fZwugKUg', 'rating': 4.0}, {'name': 'Sababa', 'url': 'https://www.yelp.com/biz/sababa-san-francisco-2?adjust_creative=ZRkwtqrqEh3M63fZwugKUg&utm_campaign=yelp_api_v3&utm_medium=api_v3_business_search&utm_source=ZRkwtqrqEh3M63fZwugKUg', 'rating': 4.5}, {'name': 'Khamsa', 'url': 'https://www.yelp.com/biz/khamsa-san-francisco?adjust_creative=ZRkwtqrqEh3M63fZwugKUg&utm_campaign=yelp_api_v3&utm_medium=api_v3_business_search&utm_source=ZRkwtqrqEh3M63fZwugKUg', 'rating': 4.5}, {'name': 'The Grove - Design District', 'url': 'https://www.yelp.com/biz/the-grove-design-district-san-francisco-3?adjust_creative=ZRkwtqrqEh3M63fZwugKUg&utm_campaign=yelp_api_v3&utm_medium=api_v3_business_search&utm_source=ZRkwtqrqEh3M63fZwugKUg', 'rating': 3.5}, {'name': 'Alta', 'url': 'https://www.yelp.com/biz/alta-san-francisco?adjust_creative=ZRkwtqrqEh3M63fZwugKUg&utm_campaign=yelp_api_v3&utm_medium=api_v3_business_search&utm_source=ZRkwtqrqEh3M63fZwugKUg', 'rating': 4.0}, {'name': 'The New Spot On Polk', 'url': 'https://www.yelp.com/biz/the-new-spot-on-polk-san-francisco-2?adjust_creative=ZRkwtqrqEh3M63fZwugKUg&utm_campaign=yelp_api_v3&utm_medium=api_v3_business_search&utm_source=ZRkwtqrqEh3M63fZwugKUg', 'rating': 4.5}, {'name': 'Petit Marlowe', 'url': 'https://www.yelp.com/biz/petit-marlowe-san-francisco-4?adjust_creative=ZRkwtqrqEh3M63fZwugKUg&utm_campaign=yelp_api_v3&utm_medium=api_v3_business_search&utm_source=ZRkwtqrqEh3M63fZwugKUg', 'rating': 4.0}, {'name': 'Barcino', 'url': 'https://www.yelp.com/biz/barcino-san-francisco-2?adjust_creative=ZRkwtqrqEh3M63fZwugKUg&utm_campaign=yelp_api_v3&utm_medium=api_v3_business_search&utm_source=ZRkwtqrqEh3M63fZwugKUg', 'rating': 3.5}, {'name': 'Kuma Sushi + Sake', 'url': 'https://www.yelp.com/biz/kuma-sushi-sake-san-francisco?adjust_creative=ZRkwtqrqEh3M63fZwugKUg&utm_campaign=yelp_api_v3&utm_medium=api_v3_business_search&utm_source=ZRkwtqrqEh3M63fZwugKUg', 'rating': 4.5}, {'name': 'Sapporo Ramen Izakaya', 'url': 'https://www.yelp.com/biz/sapporo-ramen-izakaya-san-francisco-2?adjust_creative=ZRkwtqrqEh3M63fZwugKUg&utm_campaign=yelp_api_v3&utm_medium=api_v3_business_search&utm_source=ZRkwtqrqEh3M63fZwugKUg', 'rating': 3.0}, {'name': 'Namu Stonepot', 'url': 'https://www.yelp.com/biz/namu-stonepot-san-francisco-2?adjust_creative=ZRkwtqrqEh3M63fZwugKUg&utm_campaign=yelp_api_v3&utm_medium=api_v3_business_search&utm_source=ZRkwtqrqEh3M63fZwugKUg', 'rating': 4.0}, {'name': 'El Picacho', 'url': 'https://www.yelp.com/biz/el-picacho-san-francisco?adjust_creative=ZRkwtqrqEh3M63fZwugKUg&utm_campaign=yelp_api_v3&utm_medium=api_v3_business_search&utm_source=ZRkwtqrqEh3M63fZwugKUg', 'rating': 4.5}, {'name': 'Ritual Coffee Roasters', 'url': 'https://www.yelp.com/biz/ritual-coffee-roasters-san-francisco-7?adjust_creative=ZRkwtqrqEh3M63fZwugKUg&utm_campaign=yelp_api_v3&utm_medium=api_v3_business_search&utm_source=ZRkwtqrqEh3M63fZwugKUg', 'rating': 4.5}, {'name': 'Cochinita', 'url': 'https://www.yelp.com/biz/cochinita-san-francisco?adjust_creative=ZRkwtqrqEh3M63fZwugKUg&utm_campaign=yelp_api_v3&utm_medium=api_v3_business_search&utm_source=ZRkwtqrqEh3M63fZwugKUg', 'rating': 4.5}, {'name': 'Cheesesteak on Clay', 'url': 'https://www.yelp.com/biz/cheesesteak-on-clay-san-francisco?adjust_creative=ZRkwtqrqEh3M63fZwugKUg&utm_campaign=yelp_api_v3&utm_medium=api_v3_business_search&utm_source=ZRkwtqrqEh3M63fZwugKUg', 'rating': 4.0}, {'name': 'Asian Box', 'url': 'https://www.yelp.com/biz/asian-box-san-francisco-4?adjust_creative=ZRkwtqrqEh3M63fZwugKUg&utm_campaign=yelp_api_v3&utm_medium=api_v3_business_search&utm_source=ZRkwtqrqEh3M63fZwugKUg', 'rating': 4.0}, {'name': 'Enter The Cafe', 'url': 'https://www.yelp.com/biz/enter-the-cafe-san-francisco-4?adjust_creative=ZRkwtqrqEh3M63fZwugKUg&utm_campaign=yelp_api_v3&utm_medium=api_v3_business_search&utm_source=ZRkwtqrqEh3M63fZwugKUg', 'rating': 5.0}, {'name': 'Big Fish Little Fish', 'url': 'https://www.yelp.com/biz/big-fish-little-fish-san-francisco?adjust_creative=ZRkwtqrqEh3M63fZwugKUg&utm_campaign=yelp_api_v3&utm_medium=api_v3_business_search&utm_source=ZRkwtqrqEh3M63fZwugKUg', 'rating': 4.0}, {'name': 'Pot & Noodle', 'url': 'https://www.yelp.com/biz/pot-and-noodle-san-francisco-2?adjust_creative=ZRkwtqrqEh3M63fZwugKUg&utm_campaign=yelp_api_v3&utm_medium=api_v3_business_search&utm_source=ZRkwtqrqEh3M63fZwugKUg', 'rating': 3.0}, {'name': 'Lapats Thai Noodles Bar', 'url': 'https://www.yelp.com/biz/lapats-thai-noodles-bar-san-francisco?adjust_creative=ZRkwtqrqEh3M63fZwugKUg&utm_campaign=yelp_api_v3&utm_medium=api_v3_business_search&utm_source=ZRkwtqrqEh3M63fZwugKUg', 'rating': 4.0}, {'name': 'Crown & Acre \\u200b', 'url': 'https://www.yelp.com/biz/crown-and-acre-san-francisco?adjust_creative=ZRkwtqrqEh3M63fZwugKUg&utm_campaign=yelp_api_v3&utm_medium=api_v3_business_search&utm_source=ZRkwtqrqEh3M63fZwugKUg', 'rating': 4.5}, {'name': 'General Tso Kitchen', 'url': 'https://www.yelp.com/biz/general-tso-kitchen-san-francisco?adjust_creative=ZRkwtqrqEh3M63fZwugKUg&utm_campaign=yelp_api_v3&utm_medium=api_v3_business_search&utm_source=ZRkwtqrqEh3M63fZwugKUg', 'rating': 4.0}, {'name': 'Mint Greenhouse Eatery', 'url': 'https://www.yelp.com/biz/mint-greenhouse-eatery-san-francisco?adjust_creative=ZRkwtqrqEh3M63fZwugKUg&utm_campaign=yelp_api_v3&utm_medium=api_v3_business_search&utm_source=ZRkwtqrqEh3M63fZwugKUg', 'rating': 3.0}, {'name': 'B55 Craft House & Kitchen', 'url': 'https://www.yelp.com/biz/b55-craft-house-and-kitchen-san-francisco-2?adjust_creative=ZRkwtqrqEh3M63fZwugKUg&utm_campaign=yelp_api_v3&utm_medium=api_v3_business_search&utm_source=ZRkwtqrqEh3M63fZwugKUg', 'rating': 4.0}, {'name': 'Beanstalk Café', 'url': 'https://www.yelp.com/biz/beanstalk-caf%C3%A9-san-francisco-7?adjust_creative=ZRkwtqrqEh3M63fZwugKUg&utm_campaign=yelp_api_v3&utm_medium=api_v3_business_search&utm_source=ZRkwtqrqEh3M63fZwugKUg', 'rating': 4.5}, {'name': 'Ardiana', 'url': 'https://www.yelp.com/biz/ardiana-san-francisco?adjust_creative=ZRkwtqrqEh3M63fZwugKUg&utm_campaign=yelp_api_v3&utm_medium=api_v3_business_search&utm_source=ZRkwtqrqEh3M63fZwugKUg', 'rating': 5.0}, {'name': 'Limón Rotisserie Food Truck', 'url': 'https://www.yelp.com/biz/lim%C3%B3n-rotisserie-food-truck-san-francisco?adjust_creative=ZRkwtqrqEh3M63fZwugKUg&utm_campaign=yelp_api_v3&utm_medium=api_v3_business_search&utm_source=ZRkwtqrqEh3M63fZwugKUg', 'rating': 4.0}, {'name': 'Yum Yum Sushi House', 'url': 'https://www.yelp.com/biz/yum-yum-sushi-house-san-francisco?adjust_creative=ZRkwtqrqEh3M63fZwugKUg&utm_campaign=yelp_api_v3&utm_medium=api_v3_business_search&utm_source=ZRkwtqrqEh3M63fZwugKUg', 'rating': 4.5}, {'name': 'Roma Antica', 'url': 'https://www.yelp.com/biz/roma-antica-san-francisco-3?adjust_creative=ZRkwtqrqEh3M63fZwugKUg&utm_campaign=yelp_api_v3&utm_medium=api_v3_business_search&utm_source=ZRkwtqrqEh3M63fZwugKUg', 'rating': 5.0}, {'name': 'J Bird Chicken', 'url': 'https://www.yelp.com/biz/j-bird-chicken-san-francisco?adjust_creative=ZRkwtqrqEh3M63fZwugKUg&utm_campaign=yelp_api_v3&utm_medium=api_v3_business_search&utm_source=ZRkwtqrqEh3M63fZwugKUg', 'rating': 4.0}, {'name': 'Enough Tea & Coffee', 'url': 'https://www.yelp.com/biz/enough-tea-and-coffee-san-francisco?adjust_creative=ZRkwtqrqEh3M63fZwugKUg&utm_campaign=yelp_api_v3&utm_medium=api_v3_business_search&utm_source=ZRkwtqrqEh3M63fZwugKUg', 'rating': 4.5}, {'name': 'Pesce e Riso', 'url': 'https://www.yelp.com/biz/pesce-e-riso-san-francisco?adjust_creative=ZRkwtqrqEh3M63fZwugKUg&utm_campaign=yelp_api_v3&utm_medium=api_v3_business_search&utm_source=ZRkwtqrqEh3M63fZwugKUg', 'rating': 4.5}, {'name': 'Norcina', 'url': 'https://www.yelp.com/biz/norcina-san-francisco?adjust_creative=ZRkwtqrqEh3M63fZwugKUg&utm_campaign=yelp_api_v3&utm_medium=api_v3_business_search&utm_source=ZRkwtqrqEh3M63fZwugKUg', 'rating': 4.5}, {'name': 'leCupboard Cafe', 'url': 'https://www.yelp.com/biz/lecupboard-cafe-san-francisco?adjust_creative=ZRkwtqrqEh3M63fZwugKUg&utm_campaign=yelp_api_v3&utm_medium=api_v3_business_search&utm_source=ZRkwtqrqEh3M63fZwugKUg', 'rating': 4.5}, {'name': 'Kaiju Cooks', 'url': 'https://www.yelp.com/biz/kaiju-cooks-san-francisco?adjust_creative=ZRkwtqrqEh3M63fZwugKUg&utm_campaign=yelp_api_v3&utm_medium=api_v3_business_search&utm_source=ZRkwtqrqEh3M63fZwugKUg', 'rating': 4.5}, {'name': 'Wafl', 'url': 'https://www.yelp.com/biz/wafl-san-francisco-2?adjust_creative=ZRkwtqrqEh3M63fZwugKUg&utm_campaign=yelp_api_v3&utm_medium=api_v3_business_search&utm_source=ZRkwtqrqEh3M63fZwugKUg', 'rating': 4.0}, {'name': 'Wok This Way', 'url': 'https://www.yelp.com/biz/wok-this-way-san-francisco-2?adjust_creative=ZRkwtqrqEh3M63fZwugKUg&utm_campaign=yelp_api_v3&utm_medium=api_v3_business_search&utm_source=ZRkwtqrqEh3M63fZwugKUg', 'rating': 3.0}, {'name': 'Hamilton Fog', 'url': 'https://www.yelp.com/biz/hamilton-fog-san-francisco-2?adjust_creative=ZRkwtqrqEh3M63fZwugKUg&utm_campaign=yelp_api_v3&utm_medium=api_v3_business_search&utm_source=ZRkwtqrqEh3M63fZwugKUg', 'rating': 3.5}, {'name': 'Mission Asia Noodle', 'url': 'https://www.yelp.com/biz/mission-asia-noodle-san-francisco?adjust_creative=ZRkwtqrqEh3M63fZwugKUg&utm_campaign=yelp_api_v3&utm_medium=api_v3_business_search&utm_source=ZRkwtqrqEh3M63fZwugKUg', 'rating': 4.5}]\n"
     ]
    }
   ],
   "source": [
    "url = 'https://api.yelp.com/v3/businesses/search'\n",
    "    \n",
    "url_params = {\n",
    "    'term': 'restaurants',\n",
    "    'location': 'San Francisco, CA',\n",
    "    'limit': 50, #max limit\n",
    "    'attributes': 'hot_and_new'\n",
    "}\n",
    "\n",
    "headers = {\n",
    "    'Authorization': 'Bearer %s' % bearer_token,\n",
    "}\n",
    "\n",
    "yelp_bus = []\n",
    "response = requests.request('GET', url, headers=headers, params=url_params)\n",
    "data = response.json()\n",
    "for business in data[\"businesses\"]:\n",
    "    #print(business[\"rating\"])\n",
    "    #print(business[\"name\"])\n",
    "    #print(business[\"url\"])\n",
    "    yelp_bus.append({'name':business[\"name\"], 'url': business[\"url\"], 'rating': business[\"rating\"]})\n",
    "\n",
    "print(yelp_bus)\n",
    "    "
   ]
  },
  {
   "cell_type": "code",
   "execution_count": null,
   "metadata": {
    "collapsed": true
   },
   "outputs": [],
   "source": []
  }
 ],
 "metadata": {
  "kernelspec": {
   "display_name": "Python 3",
   "language": "python",
   "name": "python3"
  },
  "language_info": {
   "codemirror_mode": {
    "name": "ipython",
    "version": 3
   },
   "file_extension": ".py",
   "mimetype": "text/x-python",
   "name": "python",
   "nbconvert_exporter": "python",
   "pygments_lexer": "ipython3",
   "version": "3.6.0"
  }
 },
 "nbformat": 4,
 "nbformat_minor": 2
}
