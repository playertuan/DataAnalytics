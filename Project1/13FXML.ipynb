{
 "cells": [
  {
   "cell_type": "code",
   "execution_count": 1,
   "metadata": {
    "collapsed": false
   },
   "outputs": [],
   "source": [
    "# !pip install lxml\n",
    "# !pip install html5lib"
   ]
  },
  {
   "cell_type": "code",
   "execution_count": 2,
   "metadata": {
    "collapsed": false
   },
   "outputs": [],
   "source": [
    "import requests\n",
    "import os\n",
    "import csv\n",
    "from bs4 import BeautifulSoup\n",
    "from datetime import datetime\n",
    "import pandas as pd\n",
    "import html5lib"
   ]
  },
  {
   "cell_type": "code",
   "execution_count": 3,
   "metadata": {
    "collapsed": false
   },
   "outputs": [
    {
     "name": "stdout",
     "output_type": "stream",
     "text": [
      "['https://www.sec.gov/Archives/edgar/data/1067983/000095012317007953/form13fInfoTable.html', 'https://www.sec.gov/Archives/edgar/data/1067983/000095012317005259/form13fInfoTable.html', 'https://www.sec.gov/Archives/edgar/data/1067983/000095012317002417/form13fInfoTable.html', 'https://www.sec.gov/Archives/edgar/data/1067983/000095012316022377/form13fInfoTable.html', 'https://www.sec.gov/Archives/edgar/data/1067983/000095012316020120/form13fInfoTable.html', 'https://www.sec.gov/Archives/edgar/data/1067983/000095012316017295/form13fInfoTable.html', 'https://www.sec.gov/Archives/edgar/data/1067983/000095012316015025/form13fInfoTable.html', 'https://www.sec.gov/Archives/edgar/data/1067983/000095012315011992/form13fInfoTable.html', 'https://www.sec.gov/Archives/edgar/data/1067983/000095012315009404/form13fInfoTable.html', 'https://www.sec.gov/Archives/edgar/data/1067983/000095012315006438/form13fInfoTable.html', 'https://www.sec.gov/Archives/edgar/data/1067983/000095012315002961/form13fInfoTable.html', 'https://www.sec.gov/Archives/edgar/data/1067983/000095012314012218/form13fInfoTable.html', 'https://www.sec.gov/Archives/edgar/data/1067983/000095012314009048/form13fInfoTable.html', 'https://www.sec.gov/Archives/edgar/data/1067983/000095012314006252/form13fInfoTable.html', 'https://www.sec.gov/Archives/edgar/data/1067983/000095012314002615/form13fInfoTable.html', 'https://www.sec.gov/Archives/edgar/data/1067983/000095012313009777/form13fInfoTable.html', 'https://www.sec.gov/Archives/edgar/data/1067983/000095012313006925/form13fInfoTable.html', 'https://www.sec.gov/Archives/edgar/data/1067983/000119312513222307/form13fInfoTable.html', 'https://www.sec.gov/Archives/edgar/data/1067983/000119312513060317/form13fInfoTable.html', 'https://www.sec.gov/Archives/edgar/data/1067983/000119312512470800/form13fInfoTable.html', 'https://www.sec.gov/Archives/edgar/data/1067983/000119312512355534/form13fInfoTable.html', 'https://www.sec.gov/Archives/edgar/data/1067983/000119312512234582/form13fInfoTable.html', 'https://www.sec.gov/Archives/edgar/data/1067983/000119312512060928/form13fInfoTable.html', 'https://www.sec.gov/Archives/edgar/data/1067983/000119312511310972/form13fInfoTable.html', 'https://www.sec.gov/Archives/edgar/data/1067983/000119312511223118/form13fInfoTable.html', 'https://www.sec.gov/Archives/edgar/data/1067983/000095012311050728/form13fInfoTable.html', 'https://www.sec.gov/Archives/edgar/data/1067983/000095012311013623/form13fInfoTable.html', 'https://www.sec.gov/Archives/edgar/data/1067983/000095012310105654/form13fInfoTable.html', 'https://www.sec.gov/Archives/edgar/data/1067983/000095012310078001/form13fInfoTable.html', 'https://www.sec.gov/Archives/edgar/data/1067983/000095012310050487/form13fInfoTable.html']\n"
     ]
    }
   ],
   "source": [
    "base_url = \"https://www.sec.gov\"\n",
    "url = \"https://www.sec.gov/cgi-bin/browse-edgar?action=getcompany&filenum=028-04545&owner=exclude&count=40\"\n",
    "xmls = []\n",
    "page = requests.get(url)\n",
    "soup = BeautifulSoup(page.text, \"lxml\")\n",
    "for tr in soup.find(\"table\",{\"class\":\"tableFile2\"}).find_all(\"tr\"):\n",
    "    first_td = tr.find(\"td\")\n",
    "    if first_td:\n",
    "        if (first_td.text == \"13F-HR\"): # don't want amendments\n",
    "            for a in tr.find_all(\"a\", href=True):\n",
    "                link= \"/\".join(a[\"href\"].split(\"/\")[0:6])\n",
    "                xmls.append(base_url + link + \"/form13fInfoTable.html\")\n",
    "\n",
    "print(xmls)"
   ]
  },
  {
   "cell_type": "code",
   "execution_count": 4,
   "metadata": {
    "collapsed": false
   },
   "outputs": [
    {
     "ename": "HTTPError",
     "evalue": "HTTP Error 403: Forbidden",
     "output_type": "error",
     "traceback": [
      "\u001b[0;31m---------------------------------------------------------------------------\u001b[0m",
      "\u001b[0;31mHTTPError\u001b[0m                                 Traceback (most recent call last)",
      "\u001b[0;32m<ipython-input-4-70a55eadd4c3>\u001b[0m in \u001b[0;36m<module>\u001b[0;34m()\u001b[0m\n\u001b[1;32m      2\u001b[0m \u001b[1;31m#     page = requests.get(xml)\u001b[0m\u001b[1;33m\u001b[0m\u001b[1;33m\u001b[0m\u001b[0m\n\u001b[1;32m      3\u001b[0m \u001b[1;31m#     soup = BeautifulSoup(page.text, \"lxml\")\u001b[0m\u001b[1;33m\u001b[0m\u001b[1;33m\u001b[0m\u001b[0m\n\u001b[0;32m----> 4\u001b[0;31m     \u001b[0mpd\u001b[0m\u001b[1;33m.\u001b[0m\u001b[0mread_html\u001b[0m\u001b[1;33m(\u001b[0m\u001b[0mmyxml\u001b[0m\u001b[1;33m)\u001b[0m\u001b[1;33m\u001b[0m\u001b[0m\n\u001b[0m\u001b[1;32m      5\u001b[0m \u001b[1;33m\u001b[0m\u001b[0m\n\u001b[1;32m      6\u001b[0m \u001b[1;33m\u001b[0m\u001b[0m\n",
      "\u001b[0;32mC:\\ProgramData\\Anaconda3\\lib\\site-packages\\pandas\\io\\html.py\u001b[0m in \u001b[0;36mread_html\u001b[0;34m(io, match, flavor, header, index_col, skiprows, attrs, parse_dates, tupleize_cols, thousands, encoding, decimal, converters, na_values, keep_default_na)\u001b[0m\n\u001b[1;32m    894\u001b[0m                   \u001b[0mthousands\u001b[0m\u001b[1;33m=\u001b[0m\u001b[0mthousands\u001b[0m\u001b[1;33m,\u001b[0m \u001b[0mattrs\u001b[0m\u001b[1;33m=\u001b[0m\u001b[0mattrs\u001b[0m\u001b[1;33m,\u001b[0m \u001b[0mencoding\u001b[0m\u001b[1;33m=\u001b[0m\u001b[0mencoding\u001b[0m\u001b[1;33m,\u001b[0m\u001b[1;33m\u001b[0m\u001b[0m\n\u001b[1;32m    895\u001b[0m                   \u001b[0mdecimal\u001b[0m\u001b[1;33m=\u001b[0m\u001b[0mdecimal\u001b[0m\u001b[1;33m,\u001b[0m \u001b[0mconverters\u001b[0m\u001b[1;33m=\u001b[0m\u001b[0mconverters\u001b[0m\u001b[1;33m,\u001b[0m \u001b[0mna_values\u001b[0m\u001b[1;33m=\u001b[0m\u001b[0mna_values\u001b[0m\u001b[1;33m,\u001b[0m\u001b[1;33m\u001b[0m\u001b[0m\n\u001b[0;32m--> 896\u001b[0;31m                   keep_default_na=keep_default_na)\n\u001b[0m",
      "\u001b[0;32mC:\\ProgramData\\Anaconda3\\lib\\site-packages\\pandas\\io\\html.py\u001b[0m in \u001b[0;36m_parse\u001b[0;34m(flavor, io, match, attrs, encoding, **kwargs)\u001b[0m\n\u001b[1;32m    731\u001b[0m             \u001b[1;32mbreak\u001b[0m\u001b[1;33m\u001b[0m\u001b[0m\n\u001b[1;32m    732\u001b[0m     \u001b[1;32melse\u001b[0m\u001b[1;33m:\u001b[0m\u001b[1;33m\u001b[0m\u001b[0m\n\u001b[0;32m--> 733\u001b[0;31m         \u001b[0mraise_with_traceback\u001b[0m\u001b[1;33m(\u001b[0m\u001b[0mretained\u001b[0m\u001b[1;33m)\u001b[0m\u001b[1;33m\u001b[0m\u001b[0m\n\u001b[0m\u001b[1;32m    734\u001b[0m \u001b[1;33m\u001b[0m\u001b[0m\n\u001b[1;32m    735\u001b[0m     \u001b[0mret\u001b[0m \u001b[1;33m=\u001b[0m \u001b[1;33m[\u001b[0m\u001b[1;33m]\u001b[0m\u001b[1;33m\u001b[0m\u001b[0m\n",
      "\u001b[0;32mC:\\ProgramData\\Anaconda3\\lib\\site-packages\\pandas\\compat\\__init__.py\u001b[0m in \u001b[0;36mraise_with_traceback\u001b[0;34m(exc, traceback)\u001b[0m\n\u001b[1;32m    338\u001b[0m         \u001b[1;32mif\u001b[0m \u001b[0mtraceback\u001b[0m \u001b[1;33m==\u001b[0m \u001b[0mEllipsis\u001b[0m\u001b[1;33m:\u001b[0m\u001b[1;33m\u001b[0m\u001b[0m\n\u001b[1;32m    339\u001b[0m             \u001b[0m_\u001b[0m\u001b[1;33m,\u001b[0m \u001b[0m_\u001b[0m\u001b[1;33m,\u001b[0m \u001b[0mtraceback\u001b[0m \u001b[1;33m=\u001b[0m \u001b[0msys\u001b[0m\u001b[1;33m.\u001b[0m\u001b[0mexc_info\u001b[0m\u001b[1;33m(\u001b[0m\u001b[1;33m)\u001b[0m\u001b[1;33m\u001b[0m\u001b[0m\n\u001b[0;32m--> 340\u001b[0;31m         \u001b[1;32mraise\u001b[0m \u001b[0mexc\u001b[0m\u001b[1;33m.\u001b[0m\u001b[0mwith_traceback\u001b[0m\u001b[1;33m(\u001b[0m\u001b[0mtraceback\u001b[0m\u001b[1;33m)\u001b[0m\u001b[1;33m\u001b[0m\u001b[0m\n\u001b[0m\u001b[1;32m    341\u001b[0m \u001b[1;32melse\u001b[0m\u001b[1;33m:\u001b[0m\u001b[1;33m\u001b[0m\u001b[0m\n\u001b[1;32m    342\u001b[0m     \u001b[1;31m# this version of raise is a syntax error in Python 3\u001b[0m\u001b[1;33m\u001b[0m\u001b[1;33m\u001b[0m\u001b[0m\n",
      "\u001b[0;31mHTTPError\u001b[0m: HTTP Error 403: Forbidden"
     ]
    }
   ],
   "source": [
    "for myxml in xmls[0:1]:\n",
    "#     page = requests.get(xml)\n",
    "#     soup = BeautifulSoup(page.text, \"lxml\")\n",
    "    pd.read_html(myxml)\n",
    "    \n",
    "                     "
   ]
  },
  {
   "cell_type": "code",
   "execution_count": null,
   "metadata": {
    "collapsed": true
   },
   "outputs": [],
   "source": []
  }
 ],
 "metadata": {
  "kernelspec": {
   "display_name": "Python 3",
   "language": "python",
   "name": "python3"
  },
  "language_info": {
   "codemirror_mode": {
    "name": "ipython",
    "version": 3
   },
   "file_extension": ".py",
   "mimetype": "text/x-python",
   "name": "python",
   "nbconvert_exporter": "python",
   "pygments_lexer": "ipython3",
   "version": "3.6.0"
  }
 },
 "nbformat": 4,
 "nbformat_minor": 2
}
