{
 "cells": [
  {
   "cell_type": "code",
   "execution_count": 1,
   "metadata": {
    "collapsed": true
   },
   "outputs": [],
   "source": [
    "import pandas as pd\n",
    "import numpy as np\n",
    "import os"
   ]
  },
  {
   "cell_type": "code",
   "execution_count": 2,
   "metadata": {
    "collapsed": false
   },
   "outputs": [],
   "source": [
    "csvfile = \"./decorated_data.csv\"\n",
    "df = pd.read_csv(csvfile,dtype=object)"
   ]
  },
  {
   "cell_type": "code",
   "execution_count": 3,
   "metadata": {
    "collapsed": false
   },
   "outputs": [
    {
     "data": {
      "text/html": [
       "<div>\n",
       "<table border=\"1\" class=\"dataframe\">\n",
       "  <thead>\n",
       "    <tr style=\"text-align: right;\">\n",
       "      <th></th>\n",
       "      <th>cusip</th>\n",
       "      <th>indsec</th>\n",
       "      <th>indgrp</th>\n",
       "    </tr>\n",
       "  </thead>\n",
       "  <tbody>\n",
       "    <tr>\n",
       "      <th>0</th>\n",
       "      <td>00206R102</td>\n",
       "      <td>Public Utilities</td>\n",
       "      <td>Telecommunications Equipment</td>\n",
       "    </tr>\n",
       "    <tr>\n",
       "      <th>1</th>\n",
       "      <td>02376R102</td>\n",
       "      <td>Transportation</td>\n",
       "      <td>Air Freight/Delivery Services</td>\n",
       "    </tr>\n",
       "    <tr>\n",
       "      <th>2</th>\n",
       "      <td>025816109</td>\n",
       "      <td>Finance</td>\n",
       "      <td>Finance: Consumer Services</td>\n",
       "    </tr>\n",
       "    <tr>\n",
       "      <th>3</th>\n",
       "      <td>037833100</td>\n",
       "      <td>Technology</td>\n",
       "      <td>Computer Manufacturing</td>\n",
       "    </tr>\n",
       "    <tr>\n",
       "      <th>4</th>\n",
       "      <td>064058100</td>\n",
       "      <td>Finance</td>\n",
       "      <td>Major Banks</td>\n",
       "    </tr>\n",
       "  </tbody>\n",
       "</table>\n",
       "</div>"
      ],
      "text/plain": [
       "       cusip            indsec                         indgrp\n",
       "0  00206R102  Public Utilities   Telecommunications Equipment\n",
       "1  02376R102    Transportation  Air Freight/Delivery Services\n",
       "2  025816109           Finance     Finance: Consumer Services\n",
       "3  037833100        Technology         Computer Manufacturing\n",
       "4  064058100           Finance                    Major Banks"
      ]
     },
     "execution_count": 3,
     "metadata": {},
     "output_type": "execute_result"
    }
   ],
   "source": [
    "df.head()"
   ]
  },
  {
   "cell_type": "code",
   "execution_count": 4,
   "metadata": {
    "collapsed": false
   },
   "outputs": [],
   "source": [
    "import sqlalchemy\n",
    "from sqlalchemy import create_engine, MetaData\n",
    "from sqlalchemy.ext.declarative import declarative_base\n",
    "from sqlalchemy import Column, Integer, String, Numeric, Text, Float"
   ]
  },
  {
   "cell_type": "code",
   "execution_count": 5,
   "metadata": {
    "collapsed": true
   },
   "outputs": [],
   "source": [
    "# create an engine to sqlite db\n",
    "engine = create_engine(\"sqlite:///sec13f.sqlite\")"
   ]
  },
  {
   "cell_type": "code",
   "execution_count": 6,
   "metadata": {
    "collapsed": true
   },
   "outputs": [],
   "source": [
    "# Create a connection to the engine called conn\n",
    "conn = engine.connect()"
   ]
  },
  {
   "cell_type": "code",
   "execution_count": 7,
   "metadata": {
    "collapsed": true
   },
   "outputs": [],
   "source": [
    "# Use `declarative_base` from SQLAlchemy to connect your class to your sqlite database\n",
    "Base = declarative_base()"
   ]
  },
  {
   "cell_type": "code",
   "execution_count": 8,
   "metadata": {
    "collapsed": false
   },
   "outputs": [],
   "source": [
    "class IndSectorIndGroup(Base):\n",
    "    __tablename__ = 'indsectorindgroup'\n",
    "    id = Column(Integer, primary_key=True)\n",
    "    cusip = Column(Text)\n",
    "    indsec = Column(Text)\n",
    "    indgrp = Column(Text)\n",
    "    \n",
    "    def __repr__(self):\n",
    "        return f\"indsec={self.indsec}, indgrp={self.indgrp}, cusip={self.cusip}\"\n",
    "    "
   ]
  },
  {
   "cell_type": "code",
   "execution_count": 9,
   "metadata": {
    "collapsed": true
   },
   "outputs": [],
   "source": [
    "# Use `create_all` to create the indsectorindgroup table in the database\n",
    "Base.metadata.create_all(engine)"
   ]
  },
  {
   "cell_type": "code",
   "execution_count": 10,
   "metadata": {
    "collapsed": true
   },
   "outputs": [],
   "source": [
    "# Use MetaData from SQLAlchemy to reflect the tables\\n\",\n",
    "metadata = MetaData(bind=engine)\n",
    "metadata.reflect()"
   ]
  },
  {
   "cell_type": "code",
   "execution_count": 11,
   "metadata": {
    "collapsed": false
   },
   "outputs": [],
   "source": [
    "# Save the reference to the `indsectorindgroup` table as a variable called `table`\n",
    "table = sqlalchemy.Table('indsectorindgroup', metadata, autoload=True)"
   ]
  },
  {
   "cell_type": "code",
   "execution_count": 12,
   "metadata": {
    "collapsed": false
   },
   "outputs": [
    {
     "data": {
      "text/plain": [
       "<sqlalchemy.engine.result.ResultProxy at 0x121f667ccf8>"
      ]
     },
     "execution_count": 12,
     "metadata": {},
     "output_type": "execute_result"
    }
   ],
   "source": [
    "# Use `table.delete()` to remove any existing data.\n",
    "conn.execute(table.delete())"
   ]
  },
  {
   "cell_type": "code",
   "execution_count": 13,
   "metadata": {
    "collapsed": false
   },
   "outputs": [
    {
     "name": "stdout",
     "output_type": "stream",
     "text": [
      "[{'cusip': '00206R102', 'indsec': 'Public Utilities', 'indgrp': 'Telecommunications Equipment'}, {'cusip': '02376R102', 'indsec': 'Transportation', 'indgrp': 'Air Freight/Delivery Services'}, {'cusip': '025816109', 'indsec': 'Finance', 'indgrp': 'Finance: Consumer Services'}, {'cusip': '037833100', 'indsec': 'Technology', 'indgrp': 'Computer Manufacturing'}, {'cusip': '064058100', 'indsec': 'Finance', 'indgrp': 'Major Banks'}, {'cusip': '16117M305', 'indsec': 'Consumer Services', 'indgrp': 'Television Services'}, {'cusip': '16119P108', 'indsec': 'None', 'indgrp': 'None'}, {'cusip': '167250109', 'indsec': 'Basic Industries', 'indgrp': 'Engineering & Construction'}, {'cusip': '191216100', 'indsec': 'Consumer Non-Durables', 'indgrp': 'Beverages (Production/Distribution)'}, {'cusip': '20825C104', 'indsec': 'Energy', 'indgrp': 'Integrated oil Companies'}, {'cusip': '22160K105', 'indsec': 'Consumer Services', 'indgrp': 'Department/Specialty Retail Stores'}, {'cusip': '23918K108', 'indsec': 'Health Care', 'indgrp': 'Hospital/Nursing Management'}, {'cusip': '244199105', 'indsec': 'Capital Goods', 'indgrp': 'Industrial Machinery/Components'}, {'cusip': '247361702', 'indsec': 'Transportation', 'indgrp': 'Air Freight/Delivery Services'}, {'cusip': '25470M109', 'indsec': 'Technology', 'indgrp': 'Radio And Television Broadcasting And Communications Equipment'}, {'cusip': '25490A309', 'indsec': nan, 'indgrp': nan}, {'cusip': '30219G108', 'indsec': 'Health Care', 'indgrp': 'Medical/Nursing Services'}, {'cusip': '30231G102', 'indsec': 'Energy', 'indgrp': 'Integrated oil Companies'}, {'cusip': '369604103', 'indsec': 'Energy', 'indgrp': 'Consumer Electronics/Appliances'}, {'cusip': '37045V100', 'indsec': 'Capital Goods', 'indgrp': 'Auto Manufacturing'}, {'cusip': '37733W105', 'indsec': 'Health Care', 'indgrp': 'Major Pharmaceuticals'}, {'cusip': '38141G104', 'indsec': 'Finance', 'indgrp': 'Investment Bankers/Brokers/Service'}, {'cusip': '384637104', 'indsec': 'Consumer Services', 'indgrp': 'Other Consumer Services'}, {'cusip': '459200101', 'indsec': 'Technology', 'indgrp': 'Computer Manufacturing'}, {'cusip': '478160104', 'indsec': 'Health Care', 'indgrp': 'Major Pharmaceuticals'}, {'cusip': '49456B101', 'indsec': 'Public Utilities', 'indgrp': 'Natural Gas Distribution'}, {'cusip': '500754106', 'indsec': 'Consumer Non-Durables', 'indgrp': 'Packaged Foods'}, {'cusip': '50076Q106', 'indsec': 'None', 'indgrp': 'None'}, {'cusip': '523768109', 'indsec': 'Consumer Services', 'indgrp': 'Newspapers/Magazines'}, {'cusip': '531229102', 'indsec': nan, 'indgrp': nan}, {'cusip': '531229300', 'indsec': nan, 'indgrp': nan}, {'cusip': '531229409', 'indsec': 'None', 'indgrp': 'None'}, {'cusip': '531229607', 'indsec': 'None', 'indgrp': 'None'}, {'cusip': '531229854', 'indsec': 'None', 'indgrp': 'None'}, {'cusip': '531229870', 'indsec': 'None', 'indgrp': 'None'}, {'cusip': '55261F104', 'indsec': 'Finance', 'indgrp': 'Major Banks'}, {'cusip': '57636Q104', 'indsec': 'Miscellaneous', 'indgrp': 'Business Services'}, {'cusip': '584404107', 'indsec': nan, 'indgrp': nan}, {'cusip': '58441K100', 'indsec': nan, 'indgrp': nan}, {'cusip': '609207105', 'indsec': 'Consumer Non-Durables', 'indgrp': 'Packaged Foods'}, {'cusip': '61166W101', 'indsec': 'Basic Industries', 'indgrp': 'Agricultural Chemicals'}, {'cusip': '615369105', 'indsec': 'Finance', 'indgrp': 'Finance: Consumer Services'}, {'cusip': '637071101', 'indsec': 'Energy', 'indgrp': 'Metal Fabrications'}, {'cusip': '67011P100', 'indsec': 'Energy', 'indgrp': 'Metal Fabrications'}, {'cusip': '718546104', 'indsec': 'Energy', 'indgrp': 'Integrated oil Companies'}, {'cusip': '740189105', 'indsec': nan, 'indgrp': nan}, {'cusip': '742718109', 'indsec': 'Basic Industries', 'indgrp': 'Package Goods/Cosmetics'}, {'cusip': '76131D103', 'indsec': 'Consumer Services', 'indgrp': 'Restaurants'}, {'cusip': '80105N105', 'indsec': 'None', 'indgrp': 'None'}, {'cusip': '82968B103', 'indsec': 'Consumer Services', 'indgrp': 'Broadcasting'}, {'cusip': '844741108', 'indsec': 'Transportation', 'indgrp': 'Air Freight/Delivery Services'}, {'cusip': '85571Q102', 'indsec': nan, 'indgrp': nan}, {'cusip': '862121100', 'indsec': 'Consumer Services', 'indgrp': 'Real Estate Investment Trusts'}, {'cusip': '867224107', 'indsec': 'Energy', 'indgrp': 'Integrated oil Companies'}, {'cusip': '87165B103', 'indsec': 'Finance', 'indgrp': 'Finance: Consumer Services'}, {'cusip': '891027104', 'indsec': 'Finance', 'indgrp': 'Life Insurance'}, {'cusip': '90130A101', 'indsec': 'Consumer Services', 'indgrp': 'Television Services'}, {'cusip': '902973304', 'indsec': 'Finance', 'indgrp': 'Major Banks'}, {'cusip': '903293405', 'indsec': 'Capital Goods', 'indgrp': 'Building Materials'}, {'cusip': '910047109', 'indsec': 'Transportation', 'indgrp': 'Air Freight/Delivery Services'}, {'cusip': '911312106', 'indsec': 'Transportation', 'indgrp': 'Trucking Freight/Courier Services'}, {'cusip': '92343E102', 'indsec': 'Technology', 'indgrp': 'EDP Services'}, {'cusip': '92343V104', 'indsec': 'Public Utilities', 'indgrp': 'Telecommunications Equipment'}, {'cusip': '92345Y106', 'indsec': 'Technology', 'indgrp': 'EDP Services'}, {'cusip': '92553P201', 'indsec': 'Consumer Services', 'indgrp': 'Television Services'}, {'cusip': '92826C839', 'indsec': 'Miscellaneous', 'indgrp': 'Business Services'}, {'cusip': '92927K102', 'indsec': 'Capital Goods', 'indgrp': 'Auto Manufacturing'}, {'cusip': '931142103', 'indsec': 'Consumer Services', 'indgrp': 'Department/Specialty Retail Stores'}, {'cusip': '939640108', 'indsec': nan, 'indgrp': nan}, {'cusip': '949746101', 'indsec': 'Finance', 'indgrp': 'Major Banks'}, {'cusip': 'G0750C108', 'indsec': 'Basic Industries', 'indgrp': 'Paints/Coatings'}, {'cusip': 'G5480U104', 'indsec': 'Consumer Services', 'indgrp': 'Television Services'}, {'cusip': 'G5480U120', 'indsec': 'Consumer Services', 'indgrp': 'Television Services'}, {'cusip': 'G5480U138', 'indsec': 'Consumer Services', 'indgrp': 'Television Services'}, {'cusip': 'G5480U153', 'indsec': 'Consumer Services', 'indgrp': 'Television Services'}]\n"
     ]
    }
   ],
   "source": [
    "data = df.to_dict(orient='records')\n",
    "print(data)"
   ]
  },
  {
   "cell_type": "code",
   "execution_count": 14,
   "metadata": {
    "collapsed": false
   },
   "outputs": [
    {
     "data": {
      "text/plain": [
       "<sqlalchemy.engine.result.ResultProxy at 0x121f668c1d0>"
      ]
     },
     "execution_count": 14,
     "metadata": {},
     "output_type": "execute_result"
    }
   ],
   "source": [
    "\n",
    "conn.execute(table.insert(), data)"
   ]
  },
  {
   "cell_type": "code",
   "execution_count": 15,
   "metadata": {
    "collapsed": false
   },
   "outputs": [
    {
     "data": {
      "text/plain": [
       "[(1, '00206R102', 'Public Utilities', 'Telecommunications Equipment'),\n",
       " (2, '02376R102', 'Transportation', 'Air Freight/Delivery Services'),\n",
       " (3, '025816109', 'Finance', 'Finance: Consumer Services'),\n",
       " (4, '037833100', 'Technology', 'Computer Manufacturing'),\n",
       " (5, '064058100', 'Finance', 'Major Banks'),\n",
       " (6, '16117M305', 'Consumer Services', 'Television Services'),\n",
       " (7, '16119P108', 'None', 'None'),\n",
       " (8, '167250109', 'Basic Industries', 'Engineering & Construction'),\n",
       " (9, '191216100', 'Consumer Non-Durables', 'Beverages (Production/Distribution)'),\n",
       " (10, '20825C104', 'Energy', 'Integrated oil Companies'),\n",
       " (11, '22160K105', 'Consumer Services', 'Department/Specialty Retail Stores'),\n",
       " (12, '23918K108', 'Health Care', 'Hospital/Nursing Management'),\n",
       " (13, '244199105', 'Capital Goods', 'Industrial Machinery/Components'),\n",
       " (14, '247361702', 'Transportation', 'Air Freight/Delivery Services'),\n",
       " (15, '25470M109', 'Technology', 'Radio And Television Broadcasting And Communications Equipment'),\n",
       " (16, '25490A309', None, None),\n",
       " (17, '30219G108', 'Health Care', 'Medical/Nursing Services'),\n",
       " (18, '30231G102', 'Energy', 'Integrated oil Companies'),\n",
       " (19, '369604103', 'Energy', 'Consumer Electronics/Appliances'),\n",
       " (20, '37045V100', 'Capital Goods', 'Auto Manufacturing'),\n",
       " (21, '37733W105', 'Health Care', 'Major Pharmaceuticals'),\n",
       " (22, '38141G104', 'Finance', 'Investment Bankers/Brokers/Service'),\n",
       " (23, '384637104', 'Consumer Services', 'Other Consumer Services'),\n",
       " (24, '459200101', 'Technology', 'Computer Manufacturing'),\n",
       " (25, '478160104', 'Health Care', 'Major Pharmaceuticals'),\n",
       " (26, '49456B101', 'Public Utilities', 'Natural Gas Distribution'),\n",
       " (27, '500754106', 'Consumer Non-Durables', 'Packaged Foods'),\n",
       " (28, '50076Q106', 'None', 'None'),\n",
       " (29, '523768109', 'Consumer Services', 'Newspapers/Magazines'),\n",
       " (30, '531229102', None, None),\n",
       " (31, '531229300', None, None),\n",
       " (32, '531229409', 'None', 'None'),\n",
       " (33, '531229607', 'None', 'None'),\n",
       " (34, '531229854', 'None', 'None'),\n",
       " (35, '531229870', 'None', 'None'),\n",
       " (36, '55261F104', 'Finance', 'Major Banks'),\n",
       " (37, '57636Q104', 'Miscellaneous', 'Business Services'),\n",
       " (38, '584404107', None, None),\n",
       " (39, '58441K100', None, None),\n",
       " (40, '609207105', 'Consumer Non-Durables', 'Packaged Foods'),\n",
       " (41, '61166W101', 'Basic Industries', 'Agricultural Chemicals'),\n",
       " (42, '615369105', 'Finance', 'Finance: Consumer Services'),\n",
       " (43, '637071101', 'Energy', 'Metal Fabrications'),\n",
       " (44, '67011P100', 'Energy', 'Metal Fabrications'),\n",
       " (45, '718546104', 'Energy', 'Integrated oil Companies'),\n",
       " (46, '740189105', None, None),\n",
       " (47, '742718109', 'Basic Industries', 'Package Goods/Cosmetics'),\n",
       " (48, '76131D103', 'Consumer Services', 'Restaurants'),\n",
       " (49, '80105N105', 'None', 'None'),\n",
       " (50, '82968B103', 'Consumer Services', 'Broadcasting'),\n",
       " (51, '844741108', 'Transportation', 'Air Freight/Delivery Services'),\n",
       " (52, '85571Q102', None, None),\n",
       " (53, '862121100', 'Consumer Services', 'Real Estate Investment Trusts'),\n",
       " (54, '867224107', 'Energy', 'Integrated oil Companies'),\n",
       " (55, '87165B103', 'Finance', 'Finance: Consumer Services'),\n",
       " (56, '891027104', 'Finance', 'Life Insurance'),\n",
       " (57, '90130A101', 'Consumer Services', 'Television Services'),\n",
       " (58, '902973304', 'Finance', 'Major Banks'),\n",
       " (59, '903293405', 'Capital Goods', 'Building Materials'),\n",
       " (60, '910047109', 'Transportation', 'Air Freight/Delivery Services'),\n",
       " (61, '911312106', 'Transportation', 'Trucking Freight/Courier Services'),\n",
       " (62, '92343E102', 'Technology', 'EDP Services'),\n",
       " (63, '92343V104', 'Public Utilities', 'Telecommunications Equipment'),\n",
       " (64, '92345Y106', 'Technology', 'EDP Services'),\n",
       " (65, '92553P201', 'Consumer Services', 'Television Services'),\n",
       " (66, '92826C839', 'Miscellaneous', 'Business Services'),\n",
       " (67, '92927K102', 'Capital Goods', 'Auto Manufacturing'),\n",
       " (68, '931142103', 'Consumer Services', 'Department/Specialty Retail Stores'),\n",
       " (69, '939640108', None, None),\n",
       " (70, '949746101', 'Finance', 'Major Banks'),\n",
       " (71, 'G0750C108', 'Basic Industries', 'Paints/Coatings'),\n",
       " (72, 'G5480U104', 'Consumer Services', 'Television Services'),\n",
       " (73, 'G5480U120', 'Consumer Services', 'Television Services'),\n",
       " (74, 'G5480U138', 'Consumer Services', 'Television Services'),\n",
       " (75, 'G5480U153', 'Consumer Services', 'Television Services')]"
      ]
     },
     "execution_count": 15,
     "metadata": {},
     "output_type": "execute_result"
    }
   ],
   "source": [
    "conn.execute(\"select * from indsectorindgroup\").fetchall()"
   ]
  },
  {
   "cell_type": "code",
   "execution_count": 16,
   "metadata": {
    "collapsed": true
   },
   "outputs": [],
   "source": [
    "conn.close()"
   ]
  },
  {
   "cell_type": "code",
   "execution_count": null,
   "metadata": {
    "collapsed": true
   },
   "outputs": [],
   "source": []
  }
 ],
 "metadata": {
  "kernelspec": {
   "display_name": "Python 3",
   "language": "python",
   "name": "python3"
  },
  "language_info": {
   "codemirror_mode": {
    "name": "ipython",
    "version": 3
   },
   "file_extension": ".py",
   "mimetype": "text/x-python",
   "name": "python",
   "nbconvert_exporter": "python",
   "pygments_lexer": "ipython3",
   "version": "3.6.0"
  }
 },
 "nbformat": 4,
 "nbformat_minor": 2
}
