{
 "cells": [
  {
   "cell_type": "code",
   "execution_count": 1,
   "metadata": {
    "collapsed": true
   },
   "outputs": [],
   "source": [
    "import pandas as pd\n",
    "import numpy as np\n",
    "import os\n",
    "from config import *"
   ]
  },
  {
   "cell_type": "code",
   "execution_count": 2,
   "metadata": {
    "collapsed": false
   },
   "outputs": [],
   "source": [
    "csvfile = \"./decorated_data.csv\"\n",
    "df = pd.read_csv(csvfile,dtype=object)"
   ]
  },
  {
   "cell_type": "code",
   "execution_count": 3,
   "metadata": {
    "collapsed": false
   },
   "outputs": [
    {
     "data": {
      "text/html": [
       "<div>\n",
       "<table border=\"1\" class=\"dataframe\">\n",
       "  <thead>\n",
       "    <tr style=\"text-align: right;\">\n",
       "      <th></th>\n",
       "      <th>ticker</th>\n",
       "      <th>cusip</th>\n",
       "      <th>indsec</th>\n",
       "      <th>indgrp</th>\n",
       "    </tr>\n",
       "  </thead>\n",
       "  <tbody>\n",
       "    <tr>\n",
       "      <th>0</th>\n",
       "      <td>COP</td>\n",
       "      <td>20825C104</td>\n",
       "      <td>Energy</td>\n",
       "      <td>Integrated oil Companies</td>\n",
       "    </tr>\n",
       "    <tr>\n",
       "      <th>1</th>\n",
       "      <td>JNJ</td>\n",
       "      <td>478160104</td>\n",
       "      <td>Health Care</td>\n",
       "      <td>Major Pharmaceuticals</td>\n",
       "    </tr>\n",
       "    <tr>\n",
       "      <th>2</th>\n",
       "      <td>NaN</td>\n",
       "      <td>58441K100</td>\n",
       "      <td>NaN</td>\n",
       "      <td>NaN</td>\n",
       "    </tr>\n",
       "    <tr>\n",
       "      <th>3</th>\n",
       "      <td>ESRX</td>\n",
       "      <td>30219G108</td>\n",
       "      <td>Health Care</td>\n",
       "      <td>Medical/Nursing Services</td>\n",
       "    </tr>\n",
       "    <tr>\n",
       "      <th>4</th>\n",
       "      <td>SATS</td>\n",
       "      <td>25470M109</td>\n",
       "      <td>Technology</td>\n",
       "      <td>Radio And Television Broadcasting And Communic...</td>\n",
       "    </tr>\n",
       "  </tbody>\n",
       "</table>\n",
       "</div>"
      ],
      "text/plain": [
       "  ticker      cusip       indsec  \\\n",
       "0    COP  20825C104       Energy   \n",
       "1    JNJ  478160104  Health Care   \n",
       "2    NaN  58441K100          NaN   \n",
       "3   ESRX  30219G108  Health Care   \n",
       "4   SATS  25470M109   Technology   \n",
       "\n",
       "                                              indgrp  \n",
       "0                           Integrated oil Companies  \n",
       "1                              Major Pharmaceuticals  \n",
       "2                                                NaN  \n",
       "3                           Medical/Nursing Services  \n",
       "4  Radio And Television Broadcasting And Communic...  "
      ]
     },
     "execution_count": 3,
     "metadata": {},
     "output_type": "execute_result"
    }
   ],
   "source": [
    "df.head()"
   ]
  },
  {
   "cell_type": "code",
   "execution_count": 4,
   "metadata": {
    "collapsed": false
   },
   "outputs": [],
   "source": [
    "import sqlalchemy\n",
    "from sqlalchemy import create_engine, MetaData\n",
    "from sqlalchemy.ext.declarative import declarative_base\n",
    "from sqlalchemy import Column, Integer, String, Numeric, Text, Float"
   ]
  },
  {
   "cell_type": "code",
   "execution_count": 5,
   "metadata": {
    "collapsed": true
   },
   "outputs": [],
   "source": [
    "# create an engine to postgresql db\n",
    "user = config['psql_user']\n",
    "password = config['psql_pwd']\n",
    "host = 'localhost'\n",
    "port = '5432'\n",
    "db = config['psql_db']\n",
    "url = 'postgresql://{}:{}@{}:{}/{}'\n",
    "url = url.format(user, password, host, port, db)\n",
    "\n",
    "# The return value of create_engine() is our connection object\n",
    "engine = sqlalchemy.create_engine(url, client_encoding='utf8')"
   ]
  },
  {
   "cell_type": "code",
   "execution_count": 6,
   "metadata": {
    "collapsed": false
   },
   "outputs": [],
   "source": [
    "# Create a connection to the engine called conn\n",
    "conn = engine.connect()"
   ]
  },
  {
   "cell_type": "code",
   "execution_count": 7,
   "metadata": {
    "collapsed": true
   },
   "outputs": [],
   "source": [
    "# Use `declarative_base` from SQLAlchemy to connect your class to your PostgreSQL database\n",
    "Base = declarative_base()"
   ]
  },
  {
   "cell_type": "code",
   "execution_count": 8,
   "metadata": {
    "collapsed": false
   },
   "outputs": [],
   "source": [
    "class SecuritiesEx(Base):\n",
    "    __tablename__ = 'securitiesex'\n",
    "    id = Column(Integer, primary_key=True)\n",
    "    ticker = Column(Text)\n",
    "    cusip = Column(Text)\n",
    "    indsec = Column(Text)\n",
    "    indgrp = Column(Text)\n",
    "    \n",
    "    def __repr__(self):\n",
    "        return f\"indsec={self.indsec}, indgrp={self.indgrp}, cusip={self.cusip} ticker={self.ticker}\"\n",
    "    "
   ]
  },
  {
   "cell_type": "code",
   "execution_count": 9,
   "metadata": {
    "collapsed": true
   },
   "outputs": [],
   "source": [
    "# Use `create_all` to create the indsectorindgroup table in the database\n",
    "Base.metadata.create_all(engine)"
   ]
  },
  {
   "cell_type": "code",
   "execution_count": 10,
   "metadata": {
    "collapsed": true
   },
   "outputs": [],
   "source": [
    "# Use MetaData from SQLAlchemy to reflect the tables\\n\",\n",
    "metadata = MetaData(bind=engine)\n",
    "metadata.reflect()"
   ]
  },
  {
   "cell_type": "code",
   "execution_count": 11,
   "metadata": {
    "collapsed": false
   },
   "outputs": [],
   "source": [
    "# Save the reference to the `securitiesex` table as a variable called `table`\n",
    "table = sqlalchemy.Table('securitiesex', metadata, autoload=True)"
   ]
  },
  {
   "cell_type": "code",
   "execution_count": 12,
   "metadata": {
    "collapsed": false
   },
   "outputs": [
    {
     "data": {
      "text/plain": [
       "<sqlalchemy.engine.result.ResultProxy at 0x1ba9117e860>"
      ]
     },
     "execution_count": 12,
     "metadata": {},
     "output_type": "execute_result"
    }
   ],
   "source": [
    "# Use `table.delete()` to remove any existing data.\n",
    "conn.execute(table.delete())"
   ]
  },
  {
   "cell_type": "code",
   "execution_count": 13,
   "metadata": {
    "collapsed": false
   },
   "outputs": [
    {
     "name": "stdout",
     "output_type": "stream",
     "text": [
      "[{'ticker': 'COP', 'cusip': '20825C104', 'indsec': 'Energy', 'indgrp': 'Integrated oil Companies'}, {'ticker': 'JNJ', 'cusip': '478160104', 'indsec': 'Health Care', 'indgrp': 'Major Pharmaceuticals'}, {'ticker': nan, 'cusip': '58441K100', 'indsec': nan, 'indgrp': nan}, {'ticker': 'ESRX', 'cusip': '30219G108', 'indsec': 'Health Care', 'indgrp': 'Medical/Nursing Services'}, {'ticker': 'SATS', 'cusip': '25470M109', 'indsec': 'Technology', 'indgrp': 'Radio And Television Broadcasting And Communications Equipment'}, {'ticker': 'VZ', 'cusip': '92343V104', 'indsec': 'Public Utilities', 'indgrp': 'Telecommunications Equipment'}, {'ticker': nan, 'cusip': '531229607', 'indsec': 'None', 'indgrp': 'None'}, {'ticker': 'DVA', 'cusip': '23918K108', 'indsec': 'Health Care', 'indgrp': 'Hospital/Nursing Management'}, {'ticker': 'DE', 'cusip': '244199105', 'indsec': 'Capital Goods', 'indgrp': 'Industrial Machinery/Components'}, {'ticker': 'USG', 'cusip': '903293405', 'indsec': 'Capital Goods', 'indgrp': 'Building Materials'}, {'ticker': 'STOR', 'cusip': '862121100', 'indsec': 'Consumer Services', 'indgrp': 'Real Estate Investment Trusts'}, {'ticker': 'PSX', 'cusip': '718546104', 'indsec': 'Energy', 'indgrp': 'Integrated oil Companies'}, {'ticker': 'VRSK', 'cusip': '92345Y106', 'indsec': 'Technology', 'indgrp': 'EDP Services'}, {'ticker': 'CBI', 'cusip': '167250109', 'indsec': 'Basic Industries', 'indgrp': 'Engineering & Construction'}, {'ticker': 'MON', 'cusip': '61166W101', 'indsec': 'Basic Industries', 'indgrp': 'Agricultural Chemicals'}, {'ticker': 'VIAB', 'cusip': '92553P201', 'indsec': 'Consumer Services', 'indgrp': 'Television Services'}, {'ticker': nan, 'cusip': '531229870', 'indsec': 'None', 'indgrp': 'None'}, {'ticker': 'GS', 'cusip': '38141G104', 'indsec': 'Finance', 'indgrp': 'Investment Bankers/Brokers/Service'}, {'ticker': 'AXP', 'cusip': '025816109', 'indsec': 'Finance', 'indgrp': 'Finance: Consumer Services'}, {'ticker': nan, 'cusip': '740189105', 'indsec': nan, 'indgrp': nan}, {'ticker': 'TMK', 'cusip': '891027104', 'indsec': 'Finance', 'indgrp': 'Life Insurance'}, {'ticker': 'LBRDA', 'cusip': '16117M305', 'indsec': 'Consumer Services', 'indgrp': 'Television Services'}, {'ticker': 'WFC', 'cusip': '949746101', 'indsec': 'Finance', 'indgrp': 'Major Banks'}, {'ticker': 'LILA', 'cusip': 'G5480U138', 'indsec': 'Consumer Services', 'indgrp': 'Television Services'}, {'ticker': nan, 'cusip': '531229854', 'indsec': 'None', 'indgrp': 'None'}, {'ticker': nan, 'cusip': '16119P108', 'indsec': 'None', 'indgrp': 'None'}, {'ticker': 'KMI', 'cusip': '49456B101', 'indsec': 'Public Utilities', 'indgrp': 'Natural Gas Distribution'}, {'ticker': 'GSK', 'cusip': '37733W105', 'indsec': 'Health Care', 'indgrp': 'Major Pharmaceuticals'}, {'ticker': 'UPS', 'cusip': '911312106', 'indsec': 'Transportation', 'indgrp': 'Trucking Freight/Courier Services'}, {'ticker': 'MCO', 'cusip': '615369105', 'indsec': 'Finance', 'indgrp': 'Finance: Consumer Services'}, {'ticker': 'IBM', 'cusip': '459200101', 'indsec': 'Technology', 'indgrp': 'Computer Manufacturing'}, {'ticker': nan, 'cusip': '50076Q106', 'indsec': 'None', 'indgrp': 'None'}, {'ticker': 'DNOW', 'cusip': '67011P100', 'indsec': 'Energy', 'indgrp': 'Metal Fabrications'}, {'ticker': 'FOXA', 'cusip': '90130A101', 'indsec': 'Consumer Services', 'indgrp': 'Television Services'}, {'ticker': 'LEE', 'cusip': '523768109', 'indsec': 'Consumer Services', 'indgrp': 'Newspapers/Magazines'}, {'ticker': 'NOV', 'cusip': '637071101', 'indsec': 'Energy', 'indgrp': 'Metal Fabrications'}, {'ticker': 'XOM', 'cusip': '30231G102', 'indsec': 'Energy', 'indgrp': 'Integrated oil Companies'}, {'ticker': nan, 'cusip': '25490A309', 'indsec': nan, 'indgrp': nan}, {'ticker': 'VRSN', 'cusip': '92343E102', 'indsec': 'Technology', 'indgrp': 'EDP Services'}, {'ticker': 'KHC', 'cusip': '500754106', 'indsec': 'Consumer Non-Durables', 'indgrp': 'Packaged Foods'}, {'ticker': 'PG', 'cusip': '742718109', 'indsec': 'Basic Industries', 'indgrp': 'Package Goods/Cosmetics'}, {'ticker': 'AAPL', 'cusip': '037833100', 'indsec': 'Technology', 'indgrp': 'Computer Manufacturing'}, {'ticker': 'MDLZ', 'cusip': '609207105', 'indsec': 'Consumer Non-Durables', 'indgrp': 'Packaged Foods'}, {'ticker': 'QSR', 'cusip': '76131D103', 'indsec': 'Consumer Services', 'indgrp': 'Restaurants'}, {'ticker': nan, 'cusip': '939640108', 'indsec': nan, 'indgrp': nan}, {'ticker': nan, 'cusip': '584404107', 'indsec': nan, 'indgrp': nan}, {'ticker': nan, 'cusip': '80105N105', 'indsec': 'None', 'indgrp': 'None'}, {'ticker': 'COST', 'cusip': '22160K105', 'indsec': 'Consumer Services', 'indgrp': 'Department/Specialty Retail Stores'}, {'ticker': 'T', 'cusip': '00206R102', 'indsec': 'Public Utilities', 'indgrp': 'Telecommunications Equipment'}, {'ticker': 'AAL', 'cusip': '02376R102', 'indsec': 'Transportation', 'indgrp': 'Air Freight/Delivery Services'}, {'ticker': nan, 'cusip': '531229409', 'indsec': 'None', 'indgrp': 'None'}, {'ticker': nan, 'cusip': '531229102', 'indsec': nan, 'indgrp': nan}, {'ticker': 'DAL', 'cusip': '247361702', 'indsec': 'Transportation', 'indgrp': 'Air Freight/Delivery Services'}, {'ticker': 'UAL', 'cusip': '910047109', 'indsec': 'Transportation', 'indgrp': 'Air Freight/Delivery Services'}, {'ticker': 'LBTYA', 'cusip': 'G5480U104', 'indsec': 'Consumer Services', 'indgrp': 'Television Services'}, {'ticker': 'GHC', 'cusip': '384637104', 'indsec': 'Consumer Services', 'indgrp': 'Other Consumer Services'}, {'ticker': 'V', 'cusip': '92826C839', 'indsec': 'Miscellaneous', 'indgrp': 'Business Services'}, {'ticker': 'GM', 'cusip': '37045V100', 'indsec': 'Capital Goods', 'indgrp': 'Auto Manufacturing'}, {'ticker': 'MA', 'cusip': '57636Q104', 'indsec': 'Miscellaneous', 'indgrp': 'Business Services'}, {'ticker': 'WMT', 'cusip': '931142103', 'indsec': 'Consumer Services', 'indgrp': 'Department/Specialty Retail Stores'}, {'ticker': 'AXTA', 'cusip': 'G0750C108', 'indsec': 'Basic Industries', 'indgrp': 'Paints/Coatings'}, {'ticker': 'LILAK', 'cusip': 'G5480U153', 'indsec': 'Consumer Services', 'indgrp': 'Television Services'}, {'ticker': 'LUV', 'cusip': '844741108', 'indsec': 'Transportation', 'indgrp': 'Air Freight/Delivery Services'}, {'ticker': 'SIRI', 'cusip': '82968B103', 'indsec': 'Consumer Services', 'indgrp': 'Broadcasting'}, {'ticker': 'MTB', 'cusip': '55261F104', 'indsec': 'Finance', 'indgrp': 'Major Banks'}, {'ticker': 'WBC', 'cusip': '92927K102', 'indsec': 'Capital Goods', 'indgrp': 'Auto Manufacturing'}, {'ticker': nan, 'cusip': '85571Q102', 'indsec': nan, 'indgrp': nan}, {'ticker': 'SYF', 'cusip': '87165B103', 'indsec': 'Finance', 'indgrp': 'Finance: Consumer Services'}, {'ticker': 'SU', 'cusip': '867224107', 'indsec': 'Energy', 'indgrp': 'Integrated oil Companies'}, {'ticker': 'USB', 'cusip': '902973304', 'indsec': 'Finance', 'indgrp': 'Major Banks'}, {'ticker': 'LBTYK', 'cusip': 'G5480U120', 'indsec': 'Consumer Services', 'indgrp': 'Television Services'}, {'ticker': 'BK', 'cusip': '064058100', 'indsec': 'Finance', 'indgrp': 'Major Banks'}, {'ticker': 'KO', 'cusip': '191216100', 'indsec': 'Consumer Non-Durables', 'indgrp': 'Beverages (Production/Distribution)'}, {'ticker': nan, 'cusip': '531229300', 'indsec': nan, 'indgrp': nan}, {'ticker': 'GE', 'cusip': '369604103', 'indsec': 'Energy', 'indgrp': 'Consumer Electronics/Appliances'}]\n"
     ]
    }
   ],
   "source": [
    "data = df.to_dict(orient='records')\n",
    "print(data)"
   ]
  },
  {
   "cell_type": "code",
   "execution_count": 14,
   "metadata": {
    "collapsed": false
   },
   "outputs": [
    {
     "data": {
      "text/plain": [
       "<sqlalchemy.engine.result.ResultProxy at 0x1ba8e745f98>"
      ]
     },
     "execution_count": 14,
     "metadata": {},
     "output_type": "execute_result"
    }
   ],
   "source": [
    "\n",
    "conn.execute(table.insert(), data)"
   ]
  },
  {
   "cell_type": "code",
   "execution_count": 15,
   "metadata": {
    "collapsed": false
   },
   "outputs": [
    {
     "data": {
      "text/plain": [
       "[(1, 'COP', '20825C104', 'Energy', 'Integrated oil Companies'),\n",
       " (2, 'JNJ', '478160104', 'Health Care', 'Major Pharmaceuticals'),\n",
       " (3, 'NaN', '58441K100', 'NaN', 'NaN'),\n",
       " (4, 'ESRX', '30219G108', 'Health Care', 'Medical/Nursing Services'),\n",
       " (5, 'SATS', '25470M109', 'Technology', 'Radio And Television Broadcasting And Communications Equipment'),\n",
       " (6, 'VZ', '92343V104', 'Public Utilities', 'Telecommunications Equipment'),\n",
       " (7, 'NaN', '531229607', 'None', 'None'),\n",
       " (8, 'DVA', '23918K108', 'Health Care', 'Hospital/Nursing Management'),\n",
       " (9, 'DE', '244199105', 'Capital Goods', 'Industrial Machinery/Components'),\n",
       " (10, 'USG', '903293405', 'Capital Goods', 'Building Materials'),\n",
       " (11, 'STOR', '862121100', 'Consumer Services', 'Real Estate Investment Trusts'),\n",
       " (12, 'PSX', '718546104', 'Energy', 'Integrated oil Companies'),\n",
       " (13, 'VRSK', '92345Y106', 'Technology', 'EDP Services'),\n",
       " (14, 'CBI', '167250109', 'Basic Industries', 'Engineering & Construction'),\n",
       " (15, 'MON', '61166W101', 'Basic Industries', 'Agricultural Chemicals'),\n",
       " (16, 'VIAB', '92553P201', 'Consumer Services', 'Television Services'),\n",
       " (17, 'NaN', '531229870', 'None', 'None'),\n",
       " (18, 'GS', '38141G104', 'Finance', 'Investment Bankers/Brokers/Service'),\n",
       " (19, 'AXP', '025816109', 'Finance', 'Finance: Consumer Services'),\n",
       " (20, 'NaN', '740189105', 'NaN', 'NaN'),\n",
       " (21, 'TMK', '891027104', 'Finance', 'Life Insurance'),\n",
       " (22, 'LBRDA', '16117M305', 'Consumer Services', 'Television Services'),\n",
       " (23, 'WFC', '949746101', 'Finance', 'Major Banks'),\n",
       " (24, 'LILA', 'G5480U138', 'Consumer Services', 'Television Services'),\n",
       " (25, 'NaN', '531229854', 'None', 'None'),\n",
       " (26, 'NaN', '16119P108', 'None', 'None'),\n",
       " (27, 'KMI', '49456B101', 'Public Utilities', 'Natural Gas Distribution'),\n",
       " (28, 'GSK', '37733W105', 'Health Care', 'Major Pharmaceuticals'),\n",
       " (29, 'UPS', '911312106', 'Transportation', 'Trucking Freight/Courier Services'),\n",
       " (30, 'MCO', '615369105', 'Finance', 'Finance: Consumer Services'),\n",
       " (31, 'IBM', '459200101', 'Technology', 'Computer Manufacturing'),\n",
       " (32, 'NaN', '50076Q106', 'None', 'None'),\n",
       " (33, 'DNOW', '67011P100', 'Energy', 'Metal Fabrications'),\n",
       " (34, 'FOXA', '90130A101', 'Consumer Services', 'Television Services'),\n",
       " (35, 'LEE', '523768109', 'Consumer Services', 'Newspapers/Magazines'),\n",
       " (36, 'NOV', '637071101', 'Energy', 'Metal Fabrications'),\n",
       " (37, 'XOM', '30231G102', 'Energy', 'Integrated oil Companies'),\n",
       " (38, 'NaN', '25490A309', 'NaN', 'NaN'),\n",
       " (39, 'VRSN', '92343E102', 'Technology', 'EDP Services'),\n",
       " (40, 'KHC', '500754106', 'Consumer Non-Durables', 'Packaged Foods'),\n",
       " (41, 'PG', '742718109', 'Basic Industries', 'Package Goods/Cosmetics'),\n",
       " (42, 'AAPL', '037833100', 'Technology', 'Computer Manufacturing'),\n",
       " (43, 'MDLZ', '609207105', 'Consumer Non-Durables', 'Packaged Foods'),\n",
       " (44, 'QSR', '76131D103', 'Consumer Services', 'Restaurants'),\n",
       " (45, 'NaN', '939640108', 'NaN', 'NaN'),\n",
       " (46, 'NaN', '584404107', 'NaN', 'NaN'),\n",
       " (47, 'NaN', '80105N105', 'None', 'None'),\n",
       " (48, 'COST', '22160K105', 'Consumer Services', 'Department/Specialty Retail Stores'),\n",
       " (49, 'T', '00206R102', 'Public Utilities', 'Telecommunications Equipment'),\n",
       " (50, 'AAL', '02376R102', 'Transportation', 'Air Freight/Delivery Services'),\n",
       " (51, 'NaN', '531229409', 'None', 'None'),\n",
       " (52, 'NaN', '531229102', 'NaN', 'NaN'),\n",
       " (53, 'DAL', '247361702', 'Transportation', 'Air Freight/Delivery Services'),\n",
       " (54, 'UAL', '910047109', 'Transportation', 'Air Freight/Delivery Services'),\n",
       " (55, 'LBTYA', 'G5480U104', 'Consumer Services', 'Television Services'),\n",
       " (56, 'GHC', '384637104', 'Consumer Services', 'Other Consumer Services'),\n",
       " (57, 'V', '92826C839', 'Miscellaneous', 'Business Services'),\n",
       " (58, 'GM', '37045V100', 'Capital Goods', 'Auto Manufacturing'),\n",
       " (59, 'MA', '57636Q104', 'Miscellaneous', 'Business Services'),\n",
       " (60, 'WMT', '931142103', 'Consumer Services', 'Department/Specialty Retail Stores'),\n",
       " (61, 'AXTA', 'G0750C108', 'Basic Industries', 'Paints/Coatings'),\n",
       " (62, 'LILAK', 'G5480U153', 'Consumer Services', 'Television Services'),\n",
       " (63, 'LUV', '844741108', 'Transportation', 'Air Freight/Delivery Services'),\n",
       " (64, 'SIRI', '82968B103', 'Consumer Services', 'Broadcasting'),\n",
       " (65, 'MTB', '55261F104', 'Finance', 'Major Banks'),\n",
       " (66, 'WBC', '92927K102', 'Capital Goods', 'Auto Manufacturing'),\n",
       " (67, 'NaN', '85571Q102', 'NaN', 'NaN'),\n",
       " (68, 'SYF', '87165B103', 'Finance', 'Finance: Consumer Services'),\n",
       " (69, 'SU', '867224107', 'Energy', 'Integrated oil Companies'),\n",
       " (70, 'USB', '902973304', 'Finance', 'Major Banks'),\n",
       " (71, 'LBTYK', 'G5480U120', 'Consumer Services', 'Television Services'),\n",
       " (72, 'BK', '064058100', 'Finance', 'Major Banks'),\n",
       " (73, 'KO', '191216100', 'Consumer Non-Durables', 'Beverages (Production/Distribution)'),\n",
       " (74, 'NaN', '531229300', 'NaN', 'NaN'),\n",
       " (75, 'GE', '369604103', 'Energy', 'Consumer Electronics/Appliances')]"
      ]
     },
     "execution_count": 15,
     "metadata": {},
     "output_type": "execute_result"
    }
   ],
   "source": [
    "conn.execute(\"select * from securitiesex\").fetchall()"
   ]
  },
  {
   "cell_type": "code",
   "execution_count": 16,
   "metadata": {
    "collapsed": true
   },
   "outputs": [],
   "source": [
    "conn.close()"
   ]
  },
  {
   "cell_type": "code",
   "execution_count": null,
   "metadata": {
    "collapsed": true
   },
   "outputs": [],
   "source": []
  }
 ],
 "metadata": {
  "kernelspec": {
   "display_name": "Python 3",
   "language": "python",
   "name": "python3"
  },
  "language_info": {
   "codemirror_mode": {
    "name": "ipython",
    "version": 3
   },
   "file_extension": ".py",
   "mimetype": "text/x-python",
   "name": "python",
   "nbconvert_exporter": "python",
   "pygments_lexer": "ipython3",
   "version": "3.6.0"
  }
 },
 "nbformat": 4,
 "nbformat_minor": 2
}
