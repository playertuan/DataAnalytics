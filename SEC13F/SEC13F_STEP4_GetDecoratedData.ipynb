{
 "cells": [
  {
   "cell_type": "code",
   "execution_count": 5,
   "metadata": {
    "collapsed": true
   },
   "outputs": [],
   "source": [
    "# Python SQL toolkit and Object Relational Mapper\n",
    "import sqlalchemy\n",
    "from sqlalchemy.ext.automap import automap_base\n",
    "from sqlalchemy.orm import Session\n",
    "from sqlalchemy import create_engine\n",
    "import numpy as np\n",
    "from config import *"
   ]
  },
  {
   "cell_type": "code",
   "execution_count": 6,
   "metadata": {
    "collapsed": false
   },
   "outputs": [],
   "source": [
    "# create an engine to postgresql db\n",
    "user = config['psql_user']\n",
    "password = config['psql_pwd']\n",
    "host = 'localhost'\n",
    "port = '5432'\n",
    "db = config['psql_db']\n",
    "url = 'postgresql://{}:{}@{}:{}/{}'\n",
    "url = url.format(user, password, host, port, db)\n",
    "\n",
    "# The return value of create_engine() is our connection object\n",
    "engine = sqlalchemy.create_engine(url, client_encoding='utf8')"
   ]
  },
  {
   "cell_type": "code",
   "execution_count": 7,
   "metadata": {
    "collapsed": true
   },
   "outputs": [],
   "source": [
    "# Declare a Base using `automap_base()`\n",
    "Base = automap_base()"
   ]
  },
  {
   "cell_type": "code",
   "execution_count": 8,
   "metadata": {
    "collapsed": true
   },
   "outputs": [],
   "source": [
    "# Use the Base class to reflect the database tables\n",
    "# create classes based on database\n",
    "Base.prepare(engine, reflect=True)"
   ]
  },
  {
   "cell_type": "code",
   "execution_count": 9,
   "metadata": {
    "collapsed": false
   },
   "outputs": [
    {
     "data": {
      "text/plain": [
       "['positions']"
      ]
     },
     "execution_count": 9,
     "metadata": {},
     "output_type": "execute_result"
    }
   ],
   "source": [
    "# Print all of the classes mapped to the Base\n",
    "Base.classes.keys()"
   ]
  },
  {
   "cell_type": "code",
   "execution_count": 10,
   "metadata": {
    "collapsed": true
   },
   "outputs": [],
   "source": [
    "# Assign the positions class to a variable called `Position`\n",
    "Position = Base.classes.positions"
   ]
  },
  {
   "cell_type": "code",
   "execution_count": 11,
   "metadata": {
    "collapsed": true
   },
   "outputs": [],
   "source": [
    "# Create a session\n",
    "session = Session(engine)"
   ]
  },
  {
   "cell_type": "code",
   "execution_count": 12,
   "metadata": {
    "collapsed": false
   },
   "outputs": [
    {
     "name": "stdout",
     "output_type": "stream",
     "text": [
      "[('20825C104',), ('478160104',), ('58441K100',), ('30219G108',), ('25470M109',), ('92343V104',), ('531229607',), ('23918K108',), ('244199105',), ('903293405',), ('862121100',), ('718546104',), ('92345Y106',), ('167250109',), ('61166W101',), ('92553P201',), ('531229870',), ('38141G104',), ('025816109',), ('740189105',), ('891027104',), ('16117M305',), ('949746101',), ('G5480U138',), ('531229854',), ('16119P108',), ('49456B101',), ('37733W105',), ('911312106',), ('615369105',), ('459200101',), ('50076Q106',), ('67011P100',), ('90130A101',), ('523768109',), ('637071101',), ('30231G102',), ('25490A309',), ('92343E102',), ('500754106',), ('742718109',), ('037833100',), ('609207105',), ('76131D103',), ('939640108',), ('584404107',), ('80105N105',), ('22160K105',), ('00206R102',), ('02376R102',), ('531229409',), ('531229102',), ('247361702',), ('910047109',), ('G5480U104',), ('384637104',), ('92826C839',), ('37045V100',), ('57636Q104',), ('931142103',), ('G0750C108',), ('G5480U153',), ('844741108',), ('82968B103',), ('55261F104',), ('92927K102',), ('85571Q102',), ('87165B103',), ('867224107',), ('902973304',), ('G5480U120',), ('064058100',), ('191216100',), ('531229300',), ('369604103',)]\n"
     ]
    }
   ],
   "source": [
    "# Display the row's columns and data in dictionary format\n",
    "symbols = session.query(Position.cusip)\\\n",
    "    .group_by(Position.cusip)\\\n",
    "    .all()\n",
    "print(symbols)"
   ]
  },
  {
   "cell_type": "code",
   "execution_count": 13,
   "metadata": {
    "collapsed": false
   },
   "outputs": [
    {
     "name": "stdout",
     "output_type": "stream",
     "text": [
      "['20825C104' '478160104' '58441K100' '30219G108' '25470M109' '92343V104'\n",
      " '531229607' '23918K108' '244199105' '903293405' '862121100' '718546104'\n",
      " '92345Y106' '167250109' '61166W101' '92553P201' '531229870' '38141G104'\n",
      " '025816109' '740189105' '891027104' '16117M305' '949746101' 'G5480U138'\n",
      " '531229854' '16119P108' '49456B101' '37733W105' '911312106' '615369105'\n",
      " '459200101' '50076Q106' '67011P100' '90130A101' '523768109' '637071101'\n",
      " '30231G102' '25490A309' '92343E102' '500754106' '742718109' '037833100'\n",
      " '609207105' '76131D103' '939640108' '584404107' '80105N105' '22160K105'\n",
      " '00206R102' '02376R102' '531229409' '531229102' '247361702' '910047109'\n",
      " 'G5480U104' '384637104' '92826C839' '37045V100' '57636Q104' '931142103'\n",
      " 'G0750C108' 'G5480U153' '844741108' '82968B103' '55261F104' '92927K102'\n",
      " '85571Q102' '87165B103' '867224107' '902973304' 'G5480U120' '064058100'\n",
      " '191216100' '531229300' '369604103']\n"
     ]
    }
   ],
   "source": [
    "symbol_list = np.ravel(symbols)\n",
    "print(symbol_list)"
   ]
  },
  {
   "cell_type": "code",
   "execution_count": 14,
   "metadata": {
    "collapsed": true
   },
   "outputs": [],
   "source": [
    "import os\n",
    "import csv\n",
    "import time\n",
    "import requests\n",
    "from bs4 import BeautifulSoup"
   ]
  },
  {
   "cell_type": "code",
   "execution_count": 15,
   "metadata": {
    "collapsed": false,
    "scrolled": false
   },
   "outputs": [
    {
     "name": "stdout",
     "output_type": "stream",
     "text": [
      "{'ticker': 'COP', 'cusip': '20825C104', 'indsec': 'Energy', 'indgrp': 'Integrated oil Companies'}\n",
      "{'ticker': 'JNJ', 'cusip': '478160104', 'indsec': 'Health Care', 'indgrp': 'Major Pharmaceuticals'}\n",
      "{'ticker': '', 'cusip': '58441K100', 'indsec': '', 'indgrp': ''}\n",
      "{'ticker': 'ESRX', 'cusip': '30219G108', 'indsec': 'Health Care', 'indgrp': 'Medical/Nursing Services'}\n",
      "{'ticker': 'SATS', 'cusip': '25470M109', 'indsec': 'Technology', 'indgrp': 'Radio And Television Broadcasting And Communications Equipment'}\n",
      "{'ticker': 'VZ', 'cusip': '92343V104', 'indsec': 'Public Utilities', 'indgrp': 'Telecommunications Equipment'}\n",
      "{'ticker': '', 'cusip': '531229607', 'indsec': 'None', 'indgrp': 'None'}\n",
      "{'ticker': 'DVA', 'cusip': '23918K108', 'indsec': 'Health Care', 'indgrp': 'Hospital/Nursing Management'}\n",
      "{'ticker': 'DE', 'cusip': '244199105', 'indsec': 'Capital Goods', 'indgrp': 'Industrial Machinery/Components'}\n",
      "{'ticker': 'USG', 'cusip': '903293405', 'indsec': 'Capital Goods', 'indgrp': 'Building Materials'}\n",
      "{'ticker': 'STOR', 'cusip': '862121100', 'indsec': 'Consumer Services', 'indgrp': 'Real Estate Investment Trusts'}\n",
      "{'ticker': 'PSX', 'cusip': '718546104', 'indsec': 'Energy', 'indgrp': 'Integrated oil Companies'}\n",
      "{'ticker': 'VRSK', 'cusip': '92345Y106', 'indsec': 'Technology', 'indgrp': 'EDP Services'}\n",
      "{'ticker': 'CBI', 'cusip': '167250109', 'indsec': 'Basic Industries', 'indgrp': 'Engineering & Construction'}\n",
      "{'ticker': 'MON', 'cusip': '61166W101', 'indsec': 'Basic Industries', 'indgrp': 'Agricultural Chemicals'}\n",
      "{'ticker': 'VIAB', 'cusip': '92553P201', 'indsec': 'Consumer Services', 'indgrp': 'Television Services'}\n",
      "{'ticker': '', 'cusip': '531229870', 'indsec': 'None', 'indgrp': 'None'}\n",
      "{'ticker': 'GS', 'cusip': '38141G104', 'indsec': 'Finance', 'indgrp': 'Investment Bankers/Brokers/Service'}\n",
      "{'ticker': 'AXP', 'cusip': '025816109', 'indsec': 'Finance', 'indgrp': 'Finance: Consumer Services'}\n",
      "{'ticker': '', 'cusip': '740189105', 'indsec': '', 'indgrp': ''}\n",
      "{'ticker': 'TMK', 'cusip': '891027104', 'indsec': 'Finance', 'indgrp': 'Life Insurance'}\n",
      "{'ticker': 'LBRDA', 'cusip': '16117M305', 'indsec': 'Consumer Services', 'indgrp': 'Television Services'}\n",
      "{'ticker': 'WFC', 'cusip': '949746101', 'indsec': 'Finance', 'indgrp': 'Major Banks'}\n",
      "{'ticker': 'LILA', 'cusip': 'G5480U138', 'indsec': 'Consumer Services', 'indgrp': 'Television Services'}\n",
      "{'ticker': '', 'cusip': '531229854', 'indsec': 'None', 'indgrp': 'None'}\n",
      "{'ticker': '', 'cusip': '16119P108', 'indsec': 'None', 'indgrp': 'None'}\n",
      "{'ticker': 'KMI', 'cusip': '49456B101', 'indsec': 'Public Utilities', 'indgrp': 'Natural Gas Distribution'}\n",
      "{'ticker': 'GSK', 'cusip': '37733W105', 'indsec': 'Health Care', 'indgrp': 'Major Pharmaceuticals'}\n",
      "{'ticker': 'UPS', 'cusip': '911312106', 'indsec': 'Transportation', 'indgrp': 'Trucking Freight/Courier Services'}\n",
      "{'ticker': 'MCO', 'cusip': '615369105', 'indsec': 'Finance', 'indgrp': 'Finance: Consumer Services'}\n",
      "{'ticker': 'IBM', 'cusip': '459200101', 'indsec': 'Technology', 'indgrp': 'Computer Manufacturing'}\n",
      "{'ticker': '', 'cusip': '50076Q106', 'indsec': 'None', 'indgrp': 'None'}\n",
      "{'ticker': 'DNOW', 'cusip': '67011P100', 'indsec': 'Energy', 'indgrp': 'Metal Fabrications'}\n",
      "{'ticker': 'FOXA', 'cusip': '90130A101', 'indsec': 'Consumer Services', 'indgrp': 'Television Services'}\n",
      "{'ticker': 'LEE', 'cusip': '523768109', 'indsec': 'Consumer Services', 'indgrp': 'Newspapers/Magazines'}\n",
      "{'ticker': 'NOV', 'cusip': '637071101', 'indsec': 'Energy', 'indgrp': 'Metal Fabrications'}\n",
      "{'ticker': 'XOM', 'cusip': '30231G102', 'indsec': 'Energy', 'indgrp': 'Integrated oil Companies'}\n",
      "{'ticker': '', 'cusip': '25490A309', 'indsec': '', 'indgrp': ''}\n",
      "{'ticker': 'VRSN', 'cusip': '92343E102', 'indsec': 'Technology', 'indgrp': 'EDP Services'}\n",
      "{'ticker': 'KHC', 'cusip': '500754106', 'indsec': 'Consumer Non-Durables', 'indgrp': 'Packaged Foods'}\n",
      "{'ticker': 'PG', 'cusip': '742718109', 'indsec': 'Basic Industries', 'indgrp': 'Package Goods/Cosmetics'}\n",
      "{'ticker': 'AAPL', 'cusip': '037833100', 'indsec': 'Technology', 'indgrp': 'Computer Manufacturing'}\n",
      "{'ticker': 'MDLZ', 'cusip': '609207105', 'indsec': 'Consumer Non-Durables', 'indgrp': 'Packaged Foods'}\n",
      "{'ticker': 'QSR', 'cusip': '76131D103', 'indsec': 'Consumer Services', 'indgrp': 'Restaurants'}\n",
      "{'ticker': '', 'cusip': '939640108', 'indsec': '', 'indgrp': ''}\n",
      "{'ticker': '', 'cusip': '584404107', 'indsec': '', 'indgrp': ''}\n",
      "{'ticker': '', 'cusip': '80105N105', 'indsec': 'None', 'indgrp': 'None'}\n",
      "{'ticker': 'COST', 'cusip': '22160K105', 'indsec': 'Consumer Services', 'indgrp': 'Department/Specialty Retail Stores'}\n",
      "{'ticker': 'T', 'cusip': '00206R102', 'indsec': 'Public Utilities', 'indgrp': 'Telecommunications Equipment'}\n",
      "{'ticker': 'AAL', 'cusip': '02376R102', 'indsec': 'Transportation', 'indgrp': 'Air Freight/Delivery Services'}\n",
      "{'ticker': '', 'cusip': '531229409', 'indsec': 'None', 'indgrp': 'None'}\n",
      "{'ticker': '', 'cusip': '531229102', 'indsec': '', 'indgrp': ''}\n",
      "{'ticker': 'DAL', 'cusip': '247361702', 'indsec': 'Transportation', 'indgrp': 'Air Freight/Delivery Services'}\n",
      "{'ticker': 'UAL', 'cusip': '910047109', 'indsec': 'Transportation', 'indgrp': 'Air Freight/Delivery Services'}\n",
      "{'ticker': 'LBTYA', 'cusip': 'G5480U104', 'indsec': 'Consumer Services', 'indgrp': 'Television Services'}\n",
      "{'ticker': 'GHC', 'cusip': '384637104', 'indsec': 'Consumer Services', 'indgrp': 'Other Consumer Services'}\n",
      "{'ticker': 'V', 'cusip': '92826C839', 'indsec': 'Miscellaneous', 'indgrp': 'Business Services'}\n",
      "{'ticker': 'GM', 'cusip': '37045V100', 'indsec': 'Capital Goods', 'indgrp': 'Auto Manufacturing'}\n",
      "{'ticker': 'MA', 'cusip': '57636Q104', 'indsec': 'Miscellaneous', 'indgrp': 'Business Services'}\n",
      "{'ticker': 'WMT', 'cusip': '931142103', 'indsec': 'Consumer Services', 'indgrp': 'Department/Specialty Retail Stores'}\n",
      "{'ticker': 'AXTA', 'cusip': 'G0750C108', 'indsec': 'Basic Industries', 'indgrp': 'Paints/Coatings'}\n",
      "{'ticker': 'LILAK', 'cusip': 'G5480U153', 'indsec': 'Consumer Services', 'indgrp': 'Television Services'}\n",
      "{'ticker': 'LUV', 'cusip': '844741108', 'indsec': 'Transportation', 'indgrp': 'Air Freight/Delivery Services'}\n",
      "{'ticker': 'SIRI', 'cusip': '82968B103', 'indsec': 'Consumer Services', 'indgrp': 'Broadcasting'}\n",
      "{'ticker': 'MTB', 'cusip': '55261F104', 'indsec': 'Finance', 'indgrp': 'Major Banks'}\n",
      "{'ticker': 'WBC', 'cusip': '92927K102', 'indsec': 'Capital Goods', 'indgrp': 'Auto Manufacturing'}\n",
      "{'ticker': '', 'cusip': '85571Q102', 'indsec': '', 'indgrp': ''}\n",
      "{'ticker': 'SYF', 'cusip': '87165B103', 'indsec': 'Finance', 'indgrp': 'Finance: Consumer Services'}\n",
      "{'ticker': 'SU', 'cusip': '867224107', 'indsec': 'Energy', 'indgrp': 'Integrated oil Companies'}\n",
      "{'ticker': 'USB', 'cusip': '902973304', 'indsec': 'Finance', 'indgrp': 'Major Banks'}\n",
      "{'ticker': 'LBTYK', 'cusip': 'G5480U120', 'indsec': 'Consumer Services', 'indgrp': 'Television Services'}\n",
      "{'ticker': 'BK', 'cusip': '064058100', 'indsec': 'Finance', 'indgrp': 'Major Banks'}\n",
      "{'ticker': 'KO', 'cusip': '191216100', 'indsec': 'Consumer Non-Durables', 'indgrp': 'Beverages (Production/Distribution)'}\n",
      "{'ticker': '', 'cusip': '531229300', 'indsec': '', 'indgrp': ''}\n",
      "{'ticker': 'GE', 'cusip': '369604103', 'indsec': 'Energy', 'indgrp': 'Consumer Electronics/Appliances'}\n"
     ]
    }
   ],
   "source": [
    "base_url = \"https://search13f.com/securities/neighbors/\"\n",
    "dec_list = []\n",
    "for symbol in symbol_list:\n",
    "    time.sleep(10)\n",
    "    url=base_url + symbol\n",
    "    #print(url)\n",
    "    page = requests.get(url)\n",
    "    soup = BeautifulSoup(page.text, \"lxml\")\n",
    "    #print(page.text)\n",
    "    trs = soup.find(\"table\",{\"id\":\"snippet\"}).find_all(\"tr\")\n",
    "    #print(trs)\n",
    "    tr1 = trs[1]\n",
    "    td1s = tr1.find_all(\"td\")\n",
    "    #print(td1s)\n",
    "    try:\n",
    "        _, ticker = td1s[0].text.split(\":\", 1)\n",
    "    except:\n",
    "        ticker = \"\"\n",
    "    tr = trs[-1]\n",
    "    tds = tr.find_all(\"td\")\n",
    "    #print(tr)\n",
    "    _, indsec = tds[0].text.split(\": \", 1)\n",
    "    _, indgrp = tds[1].text.split(\": \", 1)\n",
    "    #print(f\"industry sector: {indsec}\")\n",
    "    #print(f\"industry group: {indgrp}\")\n",
    "    symbol_dict = {\"ticker\": ticker, \"cusip\": symbol, \"indsec\":indsec, \"indgrp\":indgrp}\n",
    "    print(symbol_dict)\n",
    "    dec_list.append(symbol_dict)"
   ]
  },
  {
   "cell_type": "code",
   "execution_count": 17,
   "metadata": {
    "collapsed": false
   },
   "outputs": [],
   "source": [
    "root_path = os.getcwd()\n",
    "output = os.path.join(root_path,\"decorated_data.csv\")\n",
    "with open(output, \"w\") as csvfile:\n",
    "    field_names = [\"ticker\", \"cusip\",  \"indsec\", \"indgrp\"]\n",
    "    csvwriter = csv.DictWriter(csvfile, lineterminator='\\n', fieldnames=field_names)\n",
    "    csvwriter.writeheader()\n",
    "    csvwriter.writerows(dec_list)"
   ]
  }
 ],
 "metadata": {
  "kernelspec": {
   "display_name": "Python 3",
   "language": "python",
   "name": "python3"
  },
  "language_info": {
   "codemirror_mode": {
    "name": "ipython",
    "version": 3
   },
   "file_extension": ".py",
   "mimetype": "text/x-python",
   "name": "python",
   "nbconvert_exporter": "python",
   "pygments_lexer": "ipython3",
   "version": "3.6.0"
  }
 },
 "nbformat": 4,
 "nbformat_minor": 2
}
