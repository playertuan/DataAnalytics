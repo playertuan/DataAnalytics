{
 "cells": [
  {
   "cell_type": "code",
   "execution_count": 28,
   "metadata": {
    "collapsed": true
   },
   "outputs": [],
   "source": [
    "# Python SQL toolkit and Object Relational Mapper\n",
    "import sqlalchemy\n",
    "from sqlalchemy.ext.automap import automap_base\n",
    "from sqlalchemy.orm import Session\n",
    "from sqlalchemy import create_engine\n",
    "import numpy as np"
   ]
  },
  {
   "cell_type": "code",
   "execution_count": 29,
   "metadata": {
    "collapsed": false
   },
   "outputs": [],
   "source": [
    "# Create engine using the `sec13f.sqlite` database file\n",
    "engine = create_engine(\"sqlite:///sec13f.sqlite\")"
   ]
  },
  {
   "cell_type": "code",
   "execution_count": 30,
   "metadata": {
    "collapsed": true
   },
   "outputs": [],
   "source": [
    "# Declare a Base using `automap_base()`\n",
    "Base = automap_base()"
   ]
  },
  {
   "cell_type": "code",
   "execution_count": 31,
   "metadata": {
    "collapsed": true
   },
   "outputs": [],
   "source": [
    "# Use the Base class to reflect the database tables\n",
    "# create classes based on database\n",
    "Base.prepare(engine, reflect=True)"
   ]
  },
  {
   "cell_type": "code",
   "execution_count": 32,
   "metadata": {
    "collapsed": false
   },
   "outputs": [
    {
     "data": {
      "text/plain": [
       "['indsectorindgroup', 'latest_positions', 'positions']"
      ]
     },
     "execution_count": 32,
     "metadata": {},
     "output_type": "execute_result"
    }
   ],
   "source": [
    "# Print all of the classes mapped to the Base\n",
    "Base.classes.keys()"
   ]
  },
  {
   "cell_type": "code",
   "execution_count": 33,
   "metadata": {
    "collapsed": true
   },
   "outputs": [],
   "source": [
    "# Assign the positions class to a variable called `Position`\n",
    "Position = Base.classes.positions"
   ]
  },
  {
   "cell_type": "code",
   "execution_count": 34,
   "metadata": {
    "collapsed": true
   },
   "outputs": [],
   "source": [
    "# Create a session\n",
    "session = Session(engine)"
   ]
  },
  {
   "cell_type": "code",
   "execution_count": 35,
   "metadata": {
    "collapsed": false
   },
   "outputs": [
    {
     "name": "stdout",
     "output_type": "stream",
     "text": [
      "[('00206R102',), ('02376R102',), ('025816109',), ('037833100',), ('064058100',), ('16117M305',), ('16119P108',), ('167250109',), ('191216100',), ('20825C104',), ('22160K105',), ('23918K108',), ('244199105',), ('247361702',), ('25470M109',), ('25490A309',), ('30219G108',), ('30231G102',), ('369604103',), ('37045V100',), ('37733W105',), ('38141G104',), ('384637104',), ('459200101',), ('478160104',), ('49456B101',), ('500754106',), ('50076Q106',), ('523768109',), ('531229102',), ('531229300',), ('531229409',), ('531229607',), ('531229854',), ('531229870',), ('55261F104',), ('57636Q104',), ('584404107',), ('58441K100',), ('609207105',), ('61166W101',), ('615369105',), ('637071101',), ('67011P100',), ('718546104',), ('740189105',), ('742718109',), ('76131D103',), ('80105N105',), ('82968B103',), ('844741108',), ('85571Q102',), ('867224107',), ('891027104',), ('90130A101',), ('902973304',), ('903293405',), ('910047109',), ('911312106',), ('92343E102',), ('92343V104',), ('92345Y106',), ('92553P201',), ('92826C839',), ('92927K102',), ('931142103',), ('939640108',), ('949746101',), ('G0750C108',), ('G5480U104',), ('G5480U120',), ('G5480U138',), ('G5480U153',)]\n"
     ]
    }
   ],
   "source": [
    "# Display the row's columns and data in dictionary format\n",
    "symbols = session.query(Position.cusip)\\\n",
    "    .group_by(Position.cusip)\\\n",
    "    .all()\n",
    "print(symbols)"
   ]
  },
  {
   "cell_type": "code",
   "execution_count": 36,
   "metadata": {
    "collapsed": false
   },
   "outputs": [
    {
     "name": "stdout",
     "output_type": "stream",
     "text": [
      "['00206R102' '02376R102' '025816109' '037833100' '064058100' '16117M305'\n",
      " '16119P108' '167250109' '191216100' '20825C104' '22160K105' '23918K108'\n",
      " '244199105' '247361702' '25470M109' '25490A309' '30219G108' '30231G102'\n",
      " '369604103' '37045V100' '37733W105' '38141G104' '384637104' '459200101'\n",
      " '478160104' '49456B101' '500754106' '50076Q106' '523768109' '531229102'\n",
      " '531229300' '531229409' '531229607' '531229854' '531229870' '55261F104'\n",
      " '57636Q104' '584404107' '58441K100' '609207105' '61166W101' '615369105'\n",
      " '637071101' '67011P100' '718546104' '740189105' '742718109' '76131D103'\n",
      " '80105N105' '82968B103' '844741108' '85571Q102' '867224107' '891027104'\n",
      " '90130A101' '902973304' '903293405' '910047109' '911312106' '92343E102'\n",
      " '92343V104' '92345Y106' '92553P201' '92826C839' '92927K102' '931142103'\n",
      " '939640108' '949746101' 'G0750C108' 'G5480U104' 'G5480U120' 'G5480U138'\n",
      " 'G5480U153']\n"
     ]
    }
   ],
   "source": [
    "symbol_list = np.ravel(symbols)\n",
    "print(symbol_list)"
   ]
  },
  {
   "cell_type": "code",
   "execution_count": 37,
   "metadata": {
    "collapsed": true
   },
   "outputs": [],
   "source": [
    "import os\n",
    "import csv\n",
    "import time\n",
    "import requests\n",
    "from bs4 import BeautifulSoup"
   ]
  },
  {
   "cell_type": "code",
   "execution_count": 38,
   "metadata": {
    "collapsed": false,
    "scrolled": false
   },
   "outputs": [
    {
     "name": "stdout",
     "output_type": "stream",
     "text": [
      "{'ticker': 'T', 'cusip': '00206R102', 'indsec': 'Public Utilities', 'indgrp': 'Telecommunications Equipment'}\n",
      "{'ticker': 'AAL', 'cusip': '02376R102', 'indsec': 'Transportation', 'indgrp': 'Air Freight/Delivery Services'}\n",
      "{'ticker': 'AXP', 'cusip': '025816109', 'indsec': 'Finance', 'indgrp': 'Finance: Consumer Services'}\n",
      "{'ticker': 'AAPL', 'cusip': '037833100', 'indsec': 'Technology', 'indgrp': 'Computer Manufacturing'}\n",
      "{'ticker': 'BK', 'cusip': '064058100', 'indsec': 'Finance', 'indgrp': 'Major Banks'}\n",
      "{'ticker': 'LBRDA', 'cusip': '16117M305', 'indsec': 'Consumer Services', 'indgrp': 'Television Services'}\n",
      "{'ticker': '', 'cusip': '16119P108', 'indsec': 'None', 'indgrp': 'None'}\n",
      "{'ticker': 'CBI', 'cusip': '167250109', 'indsec': 'Basic Industries', 'indgrp': 'Engineering & Construction'}\n",
      "{'ticker': 'KO', 'cusip': '191216100', 'indsec': 'Consumer Non-Durables', 'indgrp': 'Beverages (Production/Distribution)'}\n",
      "{'ticker': 'COP', 'cusip': '20825C104', 'indsec': 'Energy', 'indgrp': 'Integrated oil Companies'}\n",
      "{'ticker': 'COST', 'cusip': '22160K105', 'indsec': 'Consumer Services', 'indgrp': 'Department/Specialty Retail Stores'}\n",
      "{'ticker': 'DVA', 'cusip': '23918K108', 'indsec': 'Health Care', 'indgrp': 'Hospital/Nursing Management'}\n",
      "{'ticker': 'DE', 'cusip': '244199105', 'indsec': 'Capital Goods', 'indgrp': 'Industrial Machinery/Components'}\n",
      "{'ticker': 'DAL', 'cusip': '247361702', 'indsec': 'Transportation', 'indgrp': 'Air Freight/Delivery Services'}\n",
      "{'ticker': 'SATS', 'cusip': '25470M109', 'indsec': 'Technology', 'indgrp': 'Radio And Television Broadcasting And Communications Equipment'}\n",
      "{'ticker': '', 'cusip': '25490A309', 'indsec': '', 'indgrp': ''}\n",
      "{'ticker': 'ESRX', 'cusip': '30219G108', 'indsec': 'Health Care', 'indgrp': 'Medical/Nursing Services'}\n",
      "{'ticker': 'XOM', 'cusip': '30231G102', 'indsec': 'Energy', 'indgrp': 'Integrated oil Companies'}\n",
      "{'ticker': 'GE', 'cusip': '369604103', 'indsec': 'Energy', 'indgrp': 'Consumer Electronics/Appliances'}\n",
      "{'ticker': 'GM', 'cusip': '37045V100', 'indsec': 'Capital Goods', 'indgrp': 'Auto Manufacturing'}\n",
      "{'ticker': 'GSK', 'cusip': '37733W105', 'indsec': 'Health Care', 'indgrp': 'Major Pharmaceuticals'}\n",
      "{'ticker': 'GS', 'cusip': '38141G104', 'indsec': 'Finance', 'indgrp': 'Investment Bankers/Brokers/Service'}\n",
      "{'ticker': 'GHC', 'cusip': '384637104', 'indsec': 'Consumer Services', 'indgrp': 'Other Consumer Services'}\n",
      "{'ticker': 'IBM', 'cusip': '459200101', 'indsec': 'Technology', 'indgrp': 'Computer Manufacturing'}\n",
      "{'ticker': 'JNJ', 'cusip': '478160104', 'indsec': 'Health Care', 'indgrp': 'Major Pharmaceuticals'}\n",
      "{'ticker': 'KMI', 'cusip': '49456B101', 'indsec': 'Public Utilities', 'indgrp': 'Natural Gas Distribution'}\n",
      "{'ticker': 'KHC', 'cusip': '500754106', 'indsec': 'Consumer Non-Durables', 'indgrp': 'Packaged Foods'}\n",
      "{'ticker': '', 'cusip': '50076Q106', 'indsec': 'None', 'indgrp': 'None'}\n",
      "{'ticker': 'LEE', 'cusip': '523768109', 'indsec': 'Consumer Services', 'indgrp': 'Newspapers/Magazines'}\n",
      "{'ticker': '', 'cusip': '531229102', 'indsec': '', 'indgrp': ''}\n",
      "{'ticker': '', 'cusip': '531229300', 'indsec': '', 'indgrp': ''}\n",
      "{'ticker': '', 'cusip': '531229409', 'indsec': 'None', 'indgrp': 'None'}\n",
      "{'ticker': '', 'cusip': '531229607', 'indsec': 'None', 'indgrp': 'None'}\n",
      "{'ticker': '', 'cusip': '531229854', 'indsec': 'None', 'indgrp': 'None'}\n",
      "{'ticker': '', 'cusip': '531229870', 'indsec': 'None', 'indgrp': 'None'}\n",
      "{'ticker': 'MTB', 'cusip': '55261F104', 'indsec': 'Finance', 'indgrp': 'Major Banks'}\n",
      "{'ticker': 'MA', 'cusip': '57636Q104', 'indsec': 'Miscellaneous', 'indgrp': 'Business Services'}\n",
      "{'ticker': '', 'cusip': '584404107', 'indsec': '', 'indgrp': ''}\n",
      "{'ticker': '', 'cusip': '58441K100', 'indsec': '', 'indgrp': ''}\n",
      "{'ticker': 'MDLZ', 'cusip': '609207105', 'indsec': 'Consumer Non-Durables', 'indgrp': 'Packaged Foods'}\n",
      "{'ticker': 'MON', 'cusip': '61166W101', 'indsec': 'Basic Industries', 'indgrp': 'Agricultural Chemicals'}\n",
      "{'ticker': 'MCO', 'cusip': '615369105', 'indsec': 'Finance', 'indgrp': 'Finance: Consumer Services'}\n",
      "{'ticker': 'NOV', 'cusip': '637071101', 'indsec': 'Energy', 'indgrp': 'Metal Fabrications'}\n",
      "{'ticker': 'DNOW', 'cusip': '67011P100', 'indsec': 'Energy', 'indgrp': 'Metal Fabrications'}\n",
      "{'ticker': 'PSX', 'cusip': '718546104', 'indsec': 'Energy', 'indgrp': 'Integrated oil Companies'}\n",
      "{'ticker': '', 'cusip': '740189105', 'indsec': '', 'indgrp': ''}\n",
      "{'ticker': 'PG', 'cusip': '742718109', 'indsec': 'Basic Industries', 'indgrp': 'Package Goods/Cosmetics'}\n",
      "{'ticker': 'QSR', 'cusip': '76131D103', 'indsec': 'Consumer Services', 'indgrp': 'Restaurants'}\n",
      "{'ticker': '', 'cusip': '80105N105', 'indsec': 'None', 'indgrp': 'None'}\n",
      "{'ticker': 'SIRI', 'cusip': '82968B103', 'indsec': 'Consumer Services', 'indgrp': 'Broadcasting'}\n",
      "{'ticker': 'LUV', 'cusip': '844741108', 'indsec': 'Transportation', 'indgrp': 'Air Freight/Delivery Services'}\n",
      "{'ticker': '', 'cusip': '85571Q102', 'indsec': '', 'indgrp': ''}\n",
      "{'ticker': 'SU', 'cusip': '867224107', 'indsec': 'Energy', 'indgrp': 'Integrated oil Companies'}\n",
      "{'ticker': 'TMK', 'cusip': '891027104', 'indsec': 'Finance', 'indgrp': 'Life Insurance'}\n",
      "{'ticker': 'FOXA', 'cusip': '90130A101', 'indsec': 'Consumer Services', 'indgrp': 'Television Services'}\n",
      "{'ticker': 'USB', 'cusip': '902973304', 'indsec': 'Finance', 'indgrp': 'Major Banks'}\n",
      "{'ticker': 'USG', 'cusip': '903293405', 'indsec': 'Capital Goods', 'indgrp': 'Building Materials'}\n",
      "{'ticker': 'UAL', 'cusip': '910047109', 'indsec': 'Transportation', 'indgrp': 'Air Freight/Delivery Services'}\n",
      "{'ticker': 'UPS', 'cusip': '911312106', 'indsec': 'Transportation', 'indgrp': 'Trucking Freight/Courier Services'}\n",
      "{'ticker': 'VRSN', 'cusip': '92343E102', 'indsec': 'Technology', 'indgrp': 'EDP Services'}\n",
      "{'ticker': 'VZ', 'cusip': '92343V104', 'indsec': 'Public Utilities', 'indgrp': 'Telecommunications Equipment'}\n",
      "{'ticker': 'VRSK', 'cusip': '92345Y106', 'indsec': 'Technology', 'indgrp': 'EDP Services'}\n",
      "{'ticker': 'VIAB', 'cusip': '92553P201', 'indsec': 'Consumer Services', 'indgrp': 'Television Services'}\n",
      "{'ticker': 'V', 'cusip': '92826C839', 'indsec': 'Miscellaneous', 'indgrp': 'Business Services'}\n",
      "{'ticker': 'WBC', 'cusip': '92927K102', 'indsec': 'Capital Goods', 'indgrp': 'Auto Manufacturing'}\n",
      "{'ticker': 'WMT', 'cusip': '931142103', 'indsec': 'Consumer Services', 'indgrp': 'Department/Specialty Retail Stores'}\n",
      "{'ticker': '', 'cusip': '939640108', 'indsec': '', 'indgrp': ''}\n",
      "{'ticker': 'WFC', 'cusip': '949746101', 'indsec': 'Finance', 'indgrp': 'Major Banks'}\n",
      "{'ticker': 'AXTA', 'cusip': 'G0750C108', 'indsec': 'Basic Industries', 'indgrp': 'Paints/Coatings'}\n",
      "{'ticker': 'LBTYA', 'cusip': 'G5480U104', 'indsec': 'Consumer Services', 'indgrp': 'Television Services'}\n",
      "{'ticker': 'LBTYK', 'cusip': 'G5480U120', 'indsec': 'Consumer Services', 'indgrp': 'Television Services'}\n",
      "{'ticker': 'LILA', 'cusip': 'G5480U138', 'indsec': 'Consumer Services', 'indgrp': 'Television Services'}\n",
      "{'ticker': 'LILAK', 'cusip': 'G5480U153', 'indsec': 'Consumer Services', 'indgrp': 'Television Services'}\n"
     ]
    }
   ],
   "source": [
    "base_url = \"https://search13f.com/securities/neighbors/\"\n",
    "dec_list = []\n",
    "for symbol in symbol_list:\n",
    "    time.sleep(10)\n",
    "    url=base_url + symbol\n",
    "    #print(url)\n",
    "    page = requests.get(url)\n",
    "    soup = BeautifulSoup(page.text, \"lxml\")\n",
    "    #print(page.text)\n",
    "    trs = soup.find(\"table\",{\"id\":\"snippet\"}).find_all(\"tr\")\n",
    "    #print(trs)\n",
    "    tr1 = trs[1]\n",
    "    td1s = tr1.find_all(\"td\")\n",
    "    #print(td1s)\n",
    "    try:\n",
    "        _, ticker = td1s[0].text.split(\":\", 1)\n",
    "    except:\n",
    "        ticker = \"\"\n",
    "    tr = trs[-1]\n",
    "    tds = tr.find_all(\"td\")\n",
    "    #print(tr)\n",
    "    _, indsec = tds[0].text.split(\": \", 1)\n",
    "    _, indgrp = tds[1].text.split(\": \", 1)\n",
    "    #print(f\"industry sector: {indsec}\")\n",
    "    #print(f\"industry group: {indgrp}\")\n",
    "    symbol_dict = {\"ticker\": ticker, \"cusip\": symbol, \"indsec\":indsec, \"indgrp\":indgrp}\n",
    "    print(symbol_dict)\n",
    "    dec_list.append(symbol_dict)"
   ]
  },
  {
   "cell_type": "code",
   "execution_count": 40,
   "metadata": {
    "collapsed": false
   },
   "outputs": [],
   "source": [
    "root_path = os.getcwd()\n",
    "output = os.path.join(root_path,\"decorated_data.csv\")\n",
    "with open(output, \"w\") as csvfile:\n",
    "    field_names = [\"ticker\", \"cusip\",  \"indsec\", \"indgrp\"]\n",
    "    csvwriter = csv.DictWriter(csvfile, lineterminator='\\n', fieldnames=field_names)\n",
    "    csvwriter.writeheader()\n",
    "    csvwriter.writerows(dec_list)"
   ]
  },
  {
   "cell_type": "code",
   "execution_count": null,
   "metadata": {
    "collapsed": true
   },
   "outputs": [],
   "source": []
  }
 ],
 "metadata": {
  "kernelspec": {
   "display_name": "Python 3",
   "language": "python",
   "name": "python3"
  },
  "language_info": {
   "codemirror_mode": {
    "name": "ipython",
    "version": 3
   },
   "file_extension": ".py",
   "mimetype": "text/x-python",
   "name": "python",
   "nbconvert_exporter": "python",
   "pygments_lexer": "ipython3",
   "version": "3.6.0"
  }
 },
 "nbformat": 4,
 "nbformat_minor": 2
}
