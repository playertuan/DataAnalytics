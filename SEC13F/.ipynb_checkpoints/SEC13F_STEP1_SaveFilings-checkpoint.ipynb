{
 "cells": [
  {
   "cell_type": "code",
   "execution_count": 75,
   "metadata": {
    "collapsed": true
   },
   "outputs": [],
   "source": [
    "import os\n",
    "import requests\n",
    "from bs4 import BeautifulSoup"
   ]
  },
  {
   "cell_type": "code",
   "execution_count": 76,
   "metadata": {
    "collapsed": false
   },
   "outputs": [
    {
     "name": "stdout",
     "output_type": "stream",
     "text": [
      "https://www.sec.gov/Archives/edgar/data/1067983/000095012317007953/0000950123-17-007953-index.htm\n",
      "https://www.sec.gov/Archives/edgar/data/1067983/000095012317005259/0000950123-17-005259-index.htm\n",
      "https://www.sec.gov/Archives/edgar/data/1067983/000095012317002417/0000950123-17-002417-index.htm\n",
      "https://www.sec.gov/Archives/edgar/data/1067983/000095012316022377/0000950123-16-022377-index.htm\n",
      "https://www.sec.gov/Archives/edgar/data/1067983/000095012316020120/0000950123-16-020120-index.htm\n",
      "https://www.sec.gov/Archives/edgar/data/1067983/000095012316017295/0000950123-16-017295-index.htm\n",
      "https://www.sec.gov/Archives/edgar/data/1067983/000095012316015025/0000950123-16-015025-index.htm\n",
      "https://www.sec.gov/Archives/edgar/data/1067983/000095012315011992/0000950123-15-011992-index.htm\n",
      "https://www.sec.gov/Archives/edgar/data/1067983/000095012315009404/0000950123-15-009404-index.htm\n",
      "https://www.sec.gov/Archives/edgar/data/1067983/000095012315006438/0000950123-15-006438-index.htm\n",
      "https://www.sec.gov/Archives/edgar/data/1067983/000095012315002961/0000950123-15-002961-index.htm\n",
      "https://www.sec.gov/Archives/edgar/data/1067983/000095012314012218/0000950123-14-012218-index.htm\n",
      "https://www.sec.gov/Archives/edgar/data/1067983/000095012314009048/0000950123-14-009048-index.htm\n",
      "https://www.sec.gov/Archives/edgar/data/1067983/000095012314006252/0000950123-14-006252-index.htm\n",
      "https://www.sec.gov/Archives/edgar/data/1067983/000095012314002615/0000950123-14-002615-index.htm\n",
      "https://www.sec.gov/Archives/edgar/data/1067983/000095012313009777/0000950123-13-009777-index.htm\n",
      "https://www.sec.gov/Archives/edgar/data/1067983/000095012313006925/0000950123-13-006925-index.htm\n",
      "https://www.sec.gov/Archives/edgar/data/1067983/000119312513222307/0001193125-13-222307-index.htm\n",
      "https://www.sec.gov/Archives/edgar/data/1067983/000119312513060317/0001193125-13-060317-index.htm\n",
      "https://www.sec.gov/Archives/edgar/data/1067983/000119312512470800/0001193125-12-470800-index.htm\n",
      "https://www.sec.gov/Archives/edgar/data/1067983/000119312512355534/0001193125-12-355534-index.htm\n",
      "https://www.sec.gov/Archives/edgar/data/1067983/000119312512234582/0001193125-12-234582-index.htm\n",
      "https://www.sec.gov/Archives/edgar/data/1067983/000119312512060928/0001193125-12-060928-index.htm\n",
      "https://www.sec.gov/Archives/edgar/data/1067983/000119312511310972/0001193125-11-310972-index.htm\n",
      "https://www.sec.gov/Archives/edgar/data/1067983/000119312511223118/0001193125-11-223118-index.htm\n",
      "https://www.sec.gov/Archives/edgar/data/1067983/000095012311050728/0000950123-11-050728-index.htm\n",
      "https://www.sec.gov/Archives/edgar/data/1067983/000095012311013623/0000950123-11-013623-index.htm\n",
      "https://www.sec.gov/Archives/edgar/data/1067983/000095012310105654/0000950123-10-105654-index.htm\n",
      "https://www.sec.gov/Archives/edgar/data/1067983/000095012310078001/0000950123-10-078001-index.htm\n",
      "https://www.sec.gov/Archives/edgar/data/1067983/000095012310050487/0000950123-10-050487-index.htm\n",
      "https://www.sec.gov/Archives/edgar/data/1067983/000095012310013284/0000950123-10-013284-index.htm\n",
      "https://www.sec.gov/Archives/edgar/data/1067983/000095012309063028/0000950123-09-063028-index.htm\n",
      "https://www.sec.gov/Archives/edgar/data/1067983/000095012309035453/0000950123-09-035453-index.htm\n",
      "https://www.sec.gov/Archives/edgar/data/1067983/000095013409010823/0000950134-09-010823-index.htm\n",
      "https://www.sec.gov/Archives/edgar/data/1067983/000095013409003064/0000950134-09-003064-index.htm\n",
      "https://www.sec.gov/Archives/edgar/data/1067983/000095013408020620/0000950134-08-020620-index.htm\n",
      "https://www.sec.gov/Archives/edgar/data/1067983/000095013408015283/0000950134-08-015283-index.htm\n",
      "https://www.sec.gov/Archives/edgar/data/1067983/000095014808000200/0000950148-08-000200-index.htm\n",
      "https://www.sec.gov/Archives/edgar/data/1067983/000095013408002742/0000950134-08-002742-index.htm\n",
      "https://www.sec.gov/Archives/edgar/data/1067983/000095013407024008/0000950134-07-024008-index.htm\n",
      "https://www.sec.gov/Archives/edgar/data/1067983/000095013407018234/0000950134-07-018234-index.htm\n",
      "https://www.sec.gov/Archives/edgar/data/1067983/000095013407011675/0000950134-07-011675-index.htm\n",
      "https://www.sec.gov/Archives/edgar/data/1067983/000095013407003329/0000950134-07-003329-index.htm\n",
      "https://www.sec.gov/Archives/edgar/data/1067983/000095013406021611/0000950134-06-021611-index.htm\n",
      "https://www.sec.gov/Archives/edgar/data/1067983/000095013406016076/0000950134-06-016076-index.htm\n",
      "https://www.sec.gov/Archives/edgar/data/1067983/000095012906005536/0000950129-06-005536-index.htm\n",
      "https://www.sec.gov/Archives/edgar/data/1067983/000095012906001495/0000950129-06-001495-index.htm\n",
      "https://www.sec.gov/Archives/edgar/data/1067983/000095012905011013/0000950129-05-011013-index.htm\n",
      "https://www.sec.gov/Archives/edgar/data/1067983/000095012905008251/0000950129-05-008251-index.htm\n",
      "https://www.sec.gov/Archives/edgar/data/1067983/000095012905005372/0000950129-05-005372-index.htm\n",
      "https://www.sec.gov/Archives/edgar/data/1067983/000095012905001294/0000950129-05-001294-index.htm\n",
      "https://www.sec.gov/Archives/edgar/data/1067983/000095012904009025/0000950129-04-009025-index.htm\n",
      "https://www.sec.gov/Archives/edgar/data/1067983/000095012904006175/0000950129-04-006175-index.htm\n",
      "https://www.sec.gov/Archives/edgar/data/1067983/000095012904003325/0000950129-04-003325-index.htm\n",
      "https://www.sec.gov/Archives/edgar/data/1067983/000095015004000209/0000950150-04-000209-index.htm\n",
      "https://www.sec.gov/Archives/edgar/data/1067983/000095015003001329/0000950150-03-001329-index.htm\n"
     ]
    }
   ],
   "source": [
    "### find filing urls by berkshire hathaway\n",
    "base_url = \"https://www.sec.gov\"\n",
    "url = \"https://www.sec.gov/cgi-bin/browse-edgar?action=getcompany&filenum=028-04545&type=13F-HR&dateb=&owner=include&count=100\"\n",
    "filing_detail_links = []\n",
    "page = requests.get(url)\n",
    "soup = BeautifulSoup(page.text, \"lxml\")\n",
    "for tr in soup.find(\"table\",{\"class\":\"tableFile2\",\"summary\":\"Results\"}).find_all(\"tr\"):\n",
    "    tds = tr.find_all(\"td\")\n",
    "    try:\n",
    "        if (tds[0].text == \"13F-HR\"): # don't want amendments\n",
    "            link = tds[1].find('a').get('href')\n",
    "            filing_detail_links.append(base_url + link)\n",
    "    except:\n",
    "        continue\n",
    "for link in filing_detail_links:\n",
    "    print(link)"
   ]
  },
  {
   "cell_type": "code",
   "execution_count": null,
   "metadata": {
    "collapsed": false
   },
   "outputs": [],
   "source": [
    "### find file submissions\n",
    "filing_submission_links = []\n",
    "for link in filing_detail_links:\n",
    "    page = requests.get(link)\n",
    "    soup = BeautifulSoup(page.text, \"lxml\")\n",
    "    headers = soup.find(\"div\",{\"class\": \"formContent\"}).find_all(\"div\",{\"class\": \"formGrouping\"})\n",
    "    report_date = headers[1].find(\"div\",{\"class\": \"info\"}).text\n",
    "                                    \n",
    "    for tr in soup.find(\"table\",{\"class\":\"tableFile\",\"summary\":\"Document Format Files\"}).find_all(\"tr\"):\n",
    "        tds = tr.find_all(\"td\")\n",
    "        try:\n",
    "            if tds[2].text == \"form13fInfoTable.xml\":\n",
    "                file_url = tds[2].find('a').get('href')\n",
    "                #print(file_url)\n",
    "                filing_submission_links.append((report_date+\".txt\",base_url+file_url))\n",
    "        except:\n",
    "            continue\n",
    "for link in filing_submission_links:\n",
    "    print(link)"
   ]
  },
  {
   "cell_type": "code",
   "execution_count": null,
   "metadata": {
    "collapsed": true
   },
   "outputs": [],
   "source": [
    "# create directory to store filings\n",
    "dst_dir = os.path.join(os.path.abspath(\".\"), \"filings\")\n",
    "if not os.path.exists(dst_dir) and not os.path.isdir(dst_dir):\n",
    "    os.mkdir(dst_dir)"
   ]
  },
  {
   "cell_type": "code",
   "execution_count": null,
   "metadata": {
    "collapsed": false
   },
   "outputs": [],
   "source": [
    "### save filings to local drive\n",
    "for file, link in filing_submission_links:\n",
    "    page = requests.get(link)\n",
    "    try:\n",
    "        #print(page.text)\n",
    "        # writing files\n",
    "        output = os.path.join('filings', file)\n",
    "        with open(output, 'w') as fh:\n",
    "            fh.write(page.text)\n",
    "    except:\n",
    "        print(\"error parsing %s\", link)\n",
    "        continue\n",
    "    "
   ]
  },
  {
   "cell_type": "code",
   "execution_count": null,
   "metadata": {
    "collapsed": true
   },
   "outputs": [],
   "source": []
  }
 ],
 "metadata": {
  "kernelspec": {
   "display_name": "Python 3",
   "language": "python",
   "name": "python3"
  },
  "language_info": {
   "codemirror_mode": {
    "name": "ipython",
    "version": 3
   },
   "file_extension": ".py",
   "mimetype": "text/x-python",
   "name": "python",
   "nbconvert_exporter": "python",
   "pygments_lexer": "ipython3",
   "version": "3.6.0"
  }
 },
 "nbformat": 4,
 "nbformat_minor": 2
}
