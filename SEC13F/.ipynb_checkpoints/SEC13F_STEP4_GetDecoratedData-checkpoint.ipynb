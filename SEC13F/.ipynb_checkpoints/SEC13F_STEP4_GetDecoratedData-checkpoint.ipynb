{
 "cells": [
  {
   "cell_type": "code",
   "execution_count": 14,
   "metadata": {
    "collapsed": true
   },
   "outputs": [],
   "source": [
    "# Python SQL toolkit and Object Relational Mapper\n",
    "import sqlalchemy\n",
    "from sqlalchemy.ext.automap import automap_base\n",
    "from sqlalchemy.orm import Session\n",
    "from sqlalchemy import create_engine\n",
    "import numpy as np"
   ]
  },
  {
   "cell_type": "code",
   "execution_count": 5,
   "metadata": {
    "collapsed": false
   },
   "outputs": [],
   "source": [
    "# Create engine using the `sec13f.sqlite` database file\n",
    "engine = create_engine(\"sqlite:///sec13f.sqlite\")"
   ]
  },
  {
   "cell_type": "code",
   "execution_count": 6,
   "metadata": {
    "collapsed": true
   },
   "outputs": [],
   "source": [
    "# Declare a Base using `automap_base()`\n",
    "Base = automap_base()"
   ]
  },
  {
   "cell_type": "code",
   "execution_count": 7,
   "metadata": {
    "collapsed": true
   },
   "outputs": [],
   "source": [
    "# Use the Base class to reflect the database tables\n",
    "# create classes based on database\n",
    "Base.prepare(engine, reflect=True)"
   ]
  },
  {
   "cell_type": "code",
   "execution_count": 8,
   "metadata": {
    "collapsed": false
   },
   "outputs": [
    {
     "data": {
      "text/plain": [
       "['positions']"
      ]
     },
     "execution_count": 8,
     "metadata": {},
     "output_type": "execute_result"
    }
   ],
   "source": [
    "# Print all of the classes mapped to the Base\n",
    "Base.classes.keys()"
   ]
  },
  {
   "cell_type": "code",
   "execution_count": 9,
   "metadata": {
    "collapsed": true
   },
   "outputs": [],
   "source": [
    "# Assign the positions class to a variable called `Position`\n",
    "Position = Base.classes.positions"
   ]
  },
  {
   "cell_type": "code",
   "execution_count": 10,
   "metadata": {
    "collapsed": true
   },
   "outputs": [],
   "source": [
    "# Create a session\n",
    "session = Session(engine)"
   ]
  },
  {
   "cell_type": "code",
   "execution_count": 13,
   "metadata": {
    "collapsed": false
   },
   "outputs": [
    {
     "name": "stdout",
     "output_type": "stream",
     "text": [
      "[('00206R102',), ('02376R102',), ('025816109',), ('037833100',), ('064058100',), ('16117M305',), ('16119P108',), ('167250109',), ('191216100',), ('20825C104',), ('22160K105',), ('23918K108',), ('244199105',), ('247361702',), ('25470M109',), ('25490A309',), ('30219G108',), ('30231G102',), ('369604103',), ('37045V100',), ('37733W105',), ('38141G104',), ('384637104',), ('459200101',), ('478160104',), ('49456B101',), ('500754106',), ('50076Q106',), ('523768109',), ('531229102',), ('531229300',), ('531229409',), ('531229607',), ('531229854',), ('531229870',), ('55261F104',), ('57636Q104',), ('584404107',), ('58441K100',), ('609207105',), ('61166W101',), ('615369105',), ('637071101',), ('67011P100',), ('718546104',), ('740189105',), ('742718109',), ('76131D103',), ('80105N105',), ('82968B103',), ('844741108',), ('85571Q102',), ('862121100',), ('867224107',), ('87165B103',), ('891027104',), ('90130A101',), ('902973304',), ('903293405',), ('910047109',), ('911312106',), ('92343E102',), ('92343V104',), ('92345Y106',), ('92553P201',), ('92826C839',), ('92927K102',), ('931142103',), ('939640108',), ('949746101',), ('G0750C108',), ('G5480U104',), ('G5480U120',), ('G5480U138',), ('G5480U153',)]\n"
     ]
    }
   ],
   "source": [
    "# Display the row's columns and data in dictionary format\n",
    "symbols = session.query(Position.cusip)\\\n",
    "    .group_by(Position.cusip)\\\n",
    "    .all()\n",
    "print(symbols)"
   ]
  },
  {
   "cell_type": "code",
   "execution_count": 15,
   "metadata": {
    "collapsed": false
   },
   "outputs": [
    {
     "name": "stdout",
     "output_type": "stream",
     "text": [
      "['00206R102' '02376R102' '025816109' '037833100' '064058100' '16117M305'\n",
      " '16119P108' '167250109' '191216100' '20825C104' '22160K105' '23918K108'\n",
      " '244199105' '247361702' '25470M109' '25490A309' '30219G108' '30231G102'\n",
      " '369604103' '37045V100' '37733W105' '38141G104' '384637104' '459200101'\n",
      " '478160104' '49456B101' '500754106' '50076Q106' '523768109' '531229102'\n",
      " '531229300' '531229409' '531229607' '531229854' '531229870' '55261F104'\n",
      " '57636Q104' '584404107' '58441K100' '609207105' '61166W101' '615369105'\n",
      " '637071101' '67011P100' '718546104' '740189105' '742718109' '76131D103'\n",
      " '80105N105' '82968B103' '844741108' '85571Q102' '862121100' '867224107'\n",
      " '87165B103' '891027104' '90130A101' '902973304' '903293405' '910047109'\n",
      " '911312106' '92343E102' '92343V104' '92345Y106' '92553P201' '92826C839'\n",
      " '92927K102' '931142103' '939640108' '949746101' 'G0750C108' 'G5480U104'\n",
      " 'G5480U120' 'G5480U138' 'G5480U153']\n"
     ]
    }
   ],
   "source": [
    "symbol_list = np.ravel(symbols)\n",
    "print(symbol_list)"
   ]
  },
  {
   "cell_type": "code",
   "execution_count": 53,
   "metadata": {
    "collapsed": true
   },
   "outputs": [],
   "source": [
    "import os\n",
    "import csv\n",
    "import time\n",
    "import requests\n",
    "from bs4 import BeautifulSoup"
   ]
  },
  {
   "cell_type": "code",
   "execution_count": 51,
   "metadata": {
    "collapsed": false,
    "scrolled": false
   },
   "outputs": [
    {
     "name": "stdout",
     "output_type": "stream",
     "text": [
      "{'cusip': '00206R102', 'indsec': 'Public Utilities', 'indgrp': 'Telecommunications Equipment'}\n",
      "{'cusip': '02376R102', 'indsec': 'Transportation', 'indgrp': 'Air Freight/Delivery Services'}\n",
      "{'cusip': '025816109', 'indsec': 'Finance', 'indgrp': 'Finance: Consumer Services'}\n",
      "{'cusip': '037833100', 'indsec': 'Technology', 'indgrp': 'Computer Manufacturing'}\n",
      "{'cusip': '064058100', 'indsec': 'Finance', 'indgrp': 'Major Banks'}\n",
      "{'cusip': '16117M305', 'indsec': 'Consumer Services', 'indgrp': 'Television Services'}\n",
      "{'cusip': '16119P108', 'indsec': 'None', 'indgrp': 'None'}\n",
      "{'cusip': '167250109', 'indsec': 'Basic Industries', 'indgrp': 'Engineering & Construction'}\n",
      "{'cusip': '191216100', 'indsec': 'Consumer Non-Durables', 'indgrp': 'Beverages (Production/Distribution)'}\n",
      "{'cusip': '20825C104', 'indsec': 'Energy', 'indgrp': 'Integrated oil Companies'}\n",
      "{'cusip': '22160K105', 'indsec': 'Consumer Services', 'indgrp': 'Department/Specialty Retail Stores'}\n",
      "{'cusip': '23918K108', 'indsec': 'Health Care', 'indgrp': 'Hospital/Nursing Management'}\n",
      "{'cusip': '244199105', 'indsec': 'Capital Goods', 'indgrp': 'Industrial Machinery/Components'}\n",
      "{'cusip': '247361702', 'indsec': 'Transportation', 'indgrp': 'Air Freight/Delivery Services'}\n",
      "{'cusip': '25470M109', 'indsec': 'Technology', 'indgrp': 'Radio And Television Broadcasting And Communications Equipment'}\n",
      "{'cusip': '25490A309', 'indsec': '', 'indgrp': ''}\n",
      "{'cusip': '30219G108', 'indsec': 'Health Care', 'indgrp': 'Medical/Nursing Services'}\n",
      "{'cusip': '30231G102', 'indsec': 'Energy', 'indgrp': 'Integrated oil Companies'}\n",
      "{'cusip': '369604103', 'indsec': 'Energy', 'indgrp': 'Consumer Electronics/Appliances'}\n",
      "{'cusip': '37045V100', 'indsec': 'Capital Goods', 'indgrp': 'Auto Manufacturing'}\n",
      "{'cusip': '37733W105', 'indsec': 'Health Care', 'indgrp': 'Major Pharmaceuticals'}\n",
      "{'cusip': '38141G104', 'indsec': 'Finance', 'indgrp': 'Investment Bankers/Brokers/Service'}\n",
      "{'cusip': '384637104', 'indsec': 'Consumer Services', 'indgrp': 'Other Consumer Services'}\n",
      "{'cusip': '459200101', 'indsec': 'Technology', 'indgrp': 'Computer Manufacturing'}\n",
      "{'cusip': '478160104', 'indsec': 'Health Care', 'indgrp': 'Major Pharmaceuticals'}\n",
      "{'cusip': '49456B101', 'indsec': 'Public Utilities', 'indgrp': 'Natural Gas Distribution'}\n",
      "{'cusip': '500754106', 'indsec': 'Consumer Non-Durables', 'indgrp': 'Packaged Foods'}\n",
      "{'cusip': '50076Q106', 'indsec': 'None', 'indgrp': 'None'}\n",
      "{'cusip': '523768109', 'indsec': 'Consumer Services', 'indgrp': 'Newspapers/Magazines'}\n",
      "{'cusip': '531229102', 'indsec': '', 'indgrp': ''}\n",
      "{'cusip': '531229300', 'indsec': '', 'indgrp': ''}\n",
      "{'cusip': '531229409', 'indsec': 'None', 'indgrp': 'None'}\n",
      "{'cusip': '531229607', 'indsec': 'None', 'indgrp': 'None'}\n",
      "{'cusip': '531229854', 'indsec': 'None', 'indgrp': 'None'}\n",
      "{'cusip': '531229870', 'indsec': 'None', 'indgrp': 'None'}\n",
      "{'cusip': '55261F104', 'indsec': 'Finance', 'indgrp': 'Major Banks'}\n",
      "{'cusip': '57636Q104', 'indsec': 'Miscellaneous', 'indgrp': 'Business Services'}\n",
      "{'cusip': '584404107', 'indsec': '', 'indgrp': ''}\n",
      "{'cusip': '58441K100', 'indsec': '', 'indgrp': ''}\n",
      "{'cusip': '609207105', 'indsec': 'Consumer Non-Durables', 'indgrp': 'Packaged Foods'}\n",
      "{'cusip': '61166W101', 'indsec': 'Basic Industries', 'indgrp': 'Agricultural Chemicals'}\n",
      "{'cusip': '615369105', 'indsec': 'Finance', 'indgrp': 'Finance: Consumer Services'}\n",
      "{'cusip': '637071101', 'indsec': 'Energy', 'indgrp': 'Metal Fabrications'}\n",
      "{'cusip': '67011P100', 'indsec': 'Energy', 'indgrp': 'Metal Fabrications'}\n",
      "{'cusip': '718546104', 'indsec': 'Energy', 'indgrp': 'Integrated oil Companies'}\n",
      "{'cusip': '740189105', 'indsec': '', 'indgrp': ''}\n",
      "{'cusip': '742718109', 'indsec': 'Basic Industries', 'indgrp': 'Package Goods/Cosmetics'}\n",
      "{'cusip': '76131D103', 'indsec': 'Consumer Services', 'indgrp': 'Restaurants'}\n",
      "{'cusip': '80105N105', 'indsec': 'None', 'indgrp': 'None'}\n",
      "{'cusip': '82968B103', 'indsec': 'Consumer Services', 'indgrp': 'Broadcasting'}\n",
      "{'cusip': '844741108', 'indsec': 'Transportation', 'indgrp': 'Air Freight/Delivery Services'}\n",
      "{'cusip': '85571Q102', 'indsec': '', 'indgrp': ''}\n",
      "{'cusip': '862121100', 'indsec': 'Consumer Services', 'indgrp': 'Real Estate Investment Trusts'}\n",
      "{'cusip': '867224107', 'indsec': 'Energy', 'indgrp': 'Integrated oil Companies'}\n",
      "{'cusip': '87165B103', 'indsec': 'Finance', 'indgrp': 'Finance: Consumer Services'}\n",
      "{'cusip': '891027104', 'indsec': 'Finance', 'indgrp': 'Life Insurance'}\n",
      "{'cusip': '90130A101', 'indsec': 'Consumer Services', 'indgrp': 'Television Services'}\n",
      "{'cusip': '902973304', 'indsec': 'Finance', 'indgrp': 'Major Banks'}\n",
      "{'cusip': '903293405', 'indsec': 'Capital Goods', 'indgrp': 'Building Materials'}\n",
      "{'cusip': '910047109', 'indsec': 'Transportation', 'indgrp': 'Air Freight/Delivery Services'}\n",
      "{'cusip': '911312106', 'indsec': 'Transportation', 'indgrp': 'Trucking Freight/Courier Services'}\n",
      "{'cusip': '92343E102', 'indsec': 'Technology', 'indgrp': 'EDP Services'}\n",
      "{'cusip': '92343V104', 'indsec': 'Public Utilities', 'indgrp': 'Telecommunications Equipment'}\n",
      "{'cusip': '92345Y106', 'indsec': 'Technology', 'indgrp': 'EDP Services'}\n",
      "{'cusip': '92553P201', 'indsec': 'Consumer Services', 'indgrp': 'Television Services'}\n",
      "{'cusip': '92826C839', 'indsec': 'Miscellaneous', 'indgrp': 'Business Services'}\n",
      "{'cusip': '92927K102', 'indsec': 'Capital Goods', 'indgrp': 'Auto Manufacturing'}\n",
      "{'cusip': '931142103', 'indsec': 'Consumer Services', 'indgrp': 'Department/Specialty Retail Stores'}\n",
      "{'cusip': '939640108', 'indsec': '', 'indgrp': ''}\n",
      "{'cusip': '949746101', 'indsec': 'Finance', 'indgrp': 'Major Banks'}\n",
      "{'cusip': 'G0750C108', 'indsec': 'Basic Industries', 'indgrp': 'Paints/Coatings'}\n",
      "{'cusip': 'G5480U104', 'indsec': 'Consumer Services', 'indgrp': 'Television Services'}\n",
      "{'cusip': 'G5480U120', 'indsec': 'Consumer Services', 'indgrp': 'Television Services'}\n",
      "{'cusip': 'G5480U138', 'indsec': 'Consumer Services', 'indgrp': 'Television Services'}\n",
      "{'cusip': 'G5480U153', 'indsec': 'Consumer Services', 'indgrp': 'Television Services'}\n"
     ]
    }
   ],
   "source": [
    "base_url = \"https://search13f.com/securities/neighbors/\"\n",
    "dec_list = []\n",
    "for symbol in symbol_list:\n",
    "    time.sleep(10)\n",
    "    url=base_url + symbol\n",
    "    #print(url)\n",
    "    page = requests.get(url)\n",
    "    soup = BeautifulSoup(page.text, \"lxml\")\n",
    "    #print(page.text)\n",
    "    trs = soup.find(\"table\",{\"id\":\"snippet\"}).find_all(\"tr\")\n",
    "    tr = trs[-1]\n",
    "    tds = tr.find_all(\"td\")\n",
    "    #print(tr)\n",
    "    _, indsec = tds[0].text.split(\": \", 1)\n",
    "    _, indgrp = tds[1].text.split(\": \", 1)\n",
    "    #print(f\"industry sector: {indsec}\")\n",
    "    #print(f\"industry group: {indgrp}\")\n",
    "    symbol_dict = {\"cusip\": symbol, \"indsec\":indsec, \"indgrp\":indgrp}\n",
    "    print(symbol_dict)\n",
    "    dec_list.append(symbol_dict)"
   ]
  },
  {
   "cell_type": "code",
   "execution_count": 55,
   "metadata": {
    "collapsed": false
   },
   "outputs": [],
   "source": [
    "root_path = os.getcwd()\n",
    "output = os.path.join(root_path,\"decorated_data.csv\")\n",
    "with open(output, \"w\") as csvfile:\n",
    "    field_names = [\"cusip\",  \"indsec\", \"indgrp\"]\n",
    "    csvwriter = csv.DictWriter(csvfile, lineterminator='\\n', fieldnames=field_names)\n",
    "    csvwriter.writeheader()\n",
    "    csvwriter.writerows(dec_list)"
   ]
  },
  {
   "cell_type": "code",
   "execution_count": null,
   "metadata": {
    "collapsed": true
   },
   "outputs": [],
   "source": []
  }
 ],
 "metadata": {
  "kernelspec": {
   "display_name": "Python 3",
   "language": "python",
   "name": "python3"
  },
  "language_info": {
   "codemirror_mode": {
    "name": "ipython",
    "version": 3
   },
   "file_extension": ".py",
   "mimetype": "text/x-python",
   "name": "python",
   "nbconvert_exporter": "python",
   "pygments_lexer": "ipython3",
   "version": "3.6.0"
  }
 },
 "nbformat": 4,
 "nbformat_minor": 2
}
