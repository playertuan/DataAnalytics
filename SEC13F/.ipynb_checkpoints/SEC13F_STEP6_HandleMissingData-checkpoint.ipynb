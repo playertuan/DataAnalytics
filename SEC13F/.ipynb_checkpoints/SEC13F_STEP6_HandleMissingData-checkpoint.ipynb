{
 "cells": [
  {
   "cell_type": "code",
   "execution_count": 28,
   "metadata": {
    "collapsed": true
   },
   "outputs": [],
   "source": [
    "# Python SQL toolkit and Object Relational Mapper\n",
    "import sqlalchemy\n",
    "from sqlalchemy import or_\n",
    "from sqlalchemy.ext.automap import automap_base\n",
    "from sqlalchemy.orm import Session\n",
    "from sqlalchemy import create_engine\n",
    "import numpy as np"
   ]
  },
  {
   "cell_type": "code",
   "execution_count": 11,
   "metadata": {
    "collapsed": true
   },
   "outputs": [],
   "source": [
    "# create an engine to sqlite db\n",
    "engine = create_engine(\"sqlite:///sec13f.sqlite\")\n"
   ]
  },
  {
   "cell_type": "code",
   "execution_count": 12,
   "metadata": {
    "collapsed": true
   },
   "outputs": [],
   "source": [
    "# Create a connection to the engine called conn\n",
    "conn = engine.connect()"
   ]
  },
  {
   "cell_type": "code",
   "execution_count": 13,
   "metadata": {
    "collapsed": false
   },
   "outputs": [],
   "source": [
    "# Create a session\n",
    "session = Session(engine)"
   ]
  },
  {
   "cell_type": "code",
   "execution_count": 14,
   "metadata": {
    "collapsed": false
   },
   "outputs": [],
   "source": [
    "# Declare a Base using `automap_base()`\n",
    "Base = automap_base()"
   ]
  },
  {
   "cell_type": "code",
   "execution_count": 15,
   "metadata": {
    "collapsed": true
   },
   "outputs": [],
   "source": [
    "# Use the Base class to reflect the database tables\n",
    "# create classes based on database\n",
    "Base.prepare(engine, reflect=True)"
   ]
  },
  {
   "cell_type": "code",
   "execution_count": 16,
   "metadata": {
    "collapsed": false
   },
   "outputs": [
    {
     "data": {
      "text/plain": [
       "['indsectorindgroup', 'positions']"
      ]
     },
     "execution_count": 16,
     "metadata": {},
     "output_type": "execute_result"
    }
   ],
   "source": [
    "# Print all of the classes mapped to the Base\n",
    "Base.classes.keys()"
   ]
  },
  {
   "cell_type": "code",
   "execution_count": 17,
   "metadata": {
    "collapsed": true
   },
   "outputs": [],
   "source": [
    "# Assign the indsectorindgroup class to a variable called `IndSecIndGrp`\n",
    "IndSecIndGrp = Base.classes.indsectorindgroup"
   ]
  },
  {
   "cell_type": "code",
   "execution_count": 32,
   "metadata": {
    "collapsed": false
   },
   "outputs": [
    {
     "name": "stdout",
     "output_type": "stream",
     "text": [
      "('16119P108', 'None', 'None')\n",
      "('25490A309', None, None)\n",
      "('50076Q106', 'None', 'None')\n",
      "('531229102', None, None)\n",
      "('531229300', None, None)\n",
      "('531229409', 'None', 'None')\n",
      "('531229607', 'None', 'None')\n",
      "('531229854', 'None', 'None')\n",
      "('531229870', 'None', 'None')\n",
      "('584404107', None, None)\n",
      "('58441K100', None, None)\n",
      "('740189105', None, None)\n",
      "('80105N105', 'None', 'None')\n",
      "('85571Q102', None, None)\n",
      "('939640108', None, None)\n"
     ]
    }
   ],
   "source": [
    "# Display the row's columns and data in dictionary format\n",
    "symbols = session.query(IndSecIndGrp.cusip, IndSecIndGrp.indsec, IndSecIndGrp.indgrp)\\\n",
    "    .filter(or_(IndSecIndGrp.indsec == None, IndSecIndGrp.indgrp == None,\\\n",
    "                IndSecIndGrp.indsec == 'None', IndSecIndGrp.indgrp == 'None'))\\\n",
    "    .all()\n",
    "for symbol in symbols:\n",
    "    print(symbol)"
   ]
  },
  {
   "cell_type": "code",
   "execution_count": 33,
   "metadata": {
    "collapsed": true
   },
   "outputs": [],
   "source": [
    "# 16119P108, indsec: \"Services\", indgrp: Communications Services\n",
    "# 25490A309, indsec: Cyclical Consumer, indgrp: Goods & Services\n",
    "# 50076Q106, indsec: Non-Cyclical Consumer Goods & Services, indgrp: Food Processing - NEC\n",
    "# 531229102, indsec: Cyclical Consumer, indgrp: Goods & Services\n",
    "# 531229300, indsec: Cyclical Consumer, indgrp: Goods & Services\n",
    "# 531229409, indsec: Cyclical Consumer, indgrp: Goods & Services\n",
    "# 531229607, indsec: Cyclical Consumer, indgrp: Goods & Services\n",
    "# 531229854, indsec: Cyclical Consumer, indgrp: Goods & Services\n",
    "# 531229870, indsec: Cyclical Consumer, indgrp: Goods & Services\n",
    "# 584404107, indsec: Consumer Discretionary, indgrp: Broadcasting - TV\n",
    "# 58441K100, indsec: Consumer Discretionary, indgrp: Broadcasting - TV\n",
    "# 740189105, indsec: Industrials, indgrp: Aerospace & Defense - NEC\n",
    "# 80105N105, indsec: Healthcare, indgrp: Pharmaceuticals - NEC\n",
    "# 85571Q102, indsec: Non-Cyclical Consumer Goods & Services, indgrp: Personal Services - NEC\n",
    "# 939640108, indsec: Non-Cyclical Consumer Goods & Services, indgrp: Personal Services - NEC\n",
    "\n",
    "data = {\n",
    "    \"16119P108\": [\"Services\",\"Communications Services\"],\n",
    "    \"25490A309\": [\"Cyclical Consumer\",\"Goods & Services\"],\n",
    "    \"50076Q106\": [\"Non-Cyclical Consumer Goods & Services\",\"Food Processing\"],\n",
    "    \"531229102\": [\"Cyclical Consumer\",\"Goods & Services\"],\n",
    "    \"531229300\": [\"Cyclical Consumer\",\"Goods & Services\"],\n",
    "    \"531229409\": [\"Cyclical Consumer\",\"Goods & Services\"],\n",
    "    \"531229607\": [\"Cyclical Consumer\",\"Goods & Services\"],\n",
    "    \"531229854\": [\"Cyclical Consumer\",\"Goods & Services\"],\n",
    "    \"531229870\": [\"Cyclical Consumer\",\"Goods & Services\"],\n",
    "    \"584404107\": [\"Consumer Discretionary\",\"Broadcasting - TV\"],\n",
    "    \"58441K100\": [\"Consumer Discretionary\",\"Broadcasting - TV\"],\n",
    "    \"740189105\": [\"Industrials\",\"Aerospace & Defense\"],\n",
    "    \"80105N105\": [\"Healthcare\",\"Pharmaceuticals\"],\n",
    "    \"85571Q102\": [\"Non-Cyclical Consumer Goods & Services\",\"Personal Services\"],\n",
    "    \"939640108\": [\"Non-Cyclical Consumer Goods & Services\",\"Personal Services\"]\n",
    "}\n"
   ]
  },
  {
   "cell_type": "code",
   "execution_count": 40,
   "metadata": {
    "collapsed": false
   },
   "outputs": [],
   "source": [
    "for symbol in symbols:\n",
    "    cusip = symbol[0]\n",
    "    #print(cusip)\n",
    "    if cusip in data:\n",
    "        indsec = data[cusip][0]\n",
    "        indgrp = data[cusip][1]\n",
    "        #print(f\"   industry sector {indsec} and industry group {indgrp}.\")\n",
    "        try:\n",
    "            session.query(IndSecIndGrp).filter_by(cusip=cusip).\\\n",
    "                update({\"indsec\": indsec, \"indgrp\":indgrp})\n",
    "            session.commit()\n",
    "        except:\n",
    "            session.rollback()\n",
    "            raise           "
   ]
  },
  {
   "cell_type": "code",
   "execution_count": 43,
   "metadata": {
    "collapsed": false
   },
   "outputs": [
    {
     "data": {
      "text/plain": [
       "[('00206R102', 'Public Utilities', 'Telecommunications Equipment'),\n",
       " ('02376R102', 'Transportation', 'Air Freight/Delivery Services'),\n",
       " ('025816109', 'Finance', 'Finance: Consumer Services'),\n",
       " ('037833100', 'Technology', 'Computer Manufacturing'),\n",
       " ('064058100', 'Finance', 'Major Banks'),\n",
       " ('16117M305', 'Consumer Services', 'Television Services'),\n",
       " ('16119P108', 'Services', 'Communications Services'),\n",
       " ('167250109', 'Basic Industries', 'Engineering & Construction'),\n",
       " ('191216100', 'Consumer Non-Durables', 'Beverages (Production/Distribution)'),\n",
       " ('20825C104', 'Energy', 'Integrated oil Companies'),\n",
       " ('22160K105', 'Consumer Services', 'Department/Specialty Retail Stores'),\n",
       " ('23918K108', 'Health Care', 'Hospital/Nursing Management'),\n",
       " ('244199105', 'Capital Goods', 'Industrial Machinery/Components'),\n",
       " ('247361702', 'Transportation', 'Air Freight/Delivery Services'),\n",
       " ('25470M109',\n",
       "  'Technology',\n",
       "  'Radio And Television Broadcasting And Communications Equipment'),\n",
       " ('25490A309', 'Cyclical Consumer', 'Goods & Services'),\n",
       " ('30219G108', 'Health Care', 'Medical/Nursing Services'),\n",
       " ('30231G102', 'Energy', 'Integrated oil Companies'),\n",
       " ('369604103', 'Energy', 'Consumer Electronics/Appliances'),\n",
       " ('37045V100', 'Capital Goods', 'Auto Manufacturing'),\n",
       " ('37733W105', 'Health Care', 'Major Pharmaceuticals'),\n",
       " ('38141G104', 'Finance', 'Investment Bankers/Brokers/Service'),\n",
       " ('384637104', 'Consumer Services', 'Other Consumer Services'),\n",
       " ('459200101', 'Technology', 'Computer Manufacturing'),\n",
       " ('478160104', 'Health Care', 'Major Pharmaceuticals'),\n",
       " ('49456B101', 'Public Utilities', 'Natural Gas Distribution'),\n",
       " ('500754106', 'Consumer Non-Durables', 'Packaged Foods'),\n",
       " ('50076Q106', 'Non-Cyclical Consumer Goods & Services', 'Food Processing'),\n",
       " ('523768109', 'Consumer Services', 'Newspapers/Magazines'),\n",
       " ('531229102', 'Cyclical Consumer', 'Goods & Services'),\n",
       " ('531229300', 'Cyclical Consumer', 'Goods & Services'),\n",
       " ('531229409', 'Cyclical Consumer', 'Goods & Services'),\n",
       " ('531229607', 'Cyclical Consumer', 'Goods & Services'),\n",
       " ('531229854', 'Cyclical Consumer', 'Goods & Services'),\n",
       " ('531229870', 'Cyclical Consumer', 'Goods & Services'),\n",
       " ('55261F104', 'Finance', 'Major Banks'),\n",
       " ('57636Q104', 'Miscellaneous', 'Business Services'),\n",
       " ('584404107', 'Consumer Discretionary', 'Broadcasting - TV'),\n",
       " ('58441K100', 'Consumer Discretionary', 'Broadcasting - TV'),\n",
       " ('609207105', 'Consumer Non-Durables', 'Packaged Foods'),\n",
       " ('61166W101', 'Basic Industries', 'Agricultural Chemicals'),\n",
       " ('615369105', 'Finance', 'Finance: Consumer Services'),\n",
       " ('637071101', 'Energy', 'Metal Fabrications'),\n",
       " ('67011P100', 'Energy', 'Metal Fabrications'),\n",
       " ('718546104', 'Energy', 'Integrated oil Companies'),\n",
       " ('740189105', 'Industrials', 'Aerospace & Defense'),\n",
       " ('742718109', 'Basic Industries', 'Package Goods/Cosmetics'),\n",
       " ('76131D103', 'Consumer Services', 'Restaurants'),\n",
       " ('80105N105', 'Healthcare', 'Pharmaceuticals'),\n",
       " ('82968B103', 'Consumer Services', 'Broadcasting'),\n",
       " ('844741108', 'Transportation', 'Air Freight/Delivery Services'),\n",
       " ('85571Q102', 'Non-Cyclical Consumer Goods & Services', 'Personal Services'),\n",
       " ('862121100', 'Consumer Services', 'Real Estate Investment Trusts'),\n",
       " ('867224107', 'Energy', 'Integrated oil Companies'),\n",
       " ('87165B103', 'Finance', 'Finance: Consumer Services'),\n",
       " ('891027104', 'Finance', 'Life Insurance'),\n",
       " ('90130A101', 'Consumer Services', 'Television Services'),\n",
       " ('902973304', 'Finance', 'Major Banks'),\n",
       " ('903293405', 'Capital Goods', 'Building Materials'),\n",
       " ('910047109', 'Transportation', 'Air Freight/Delivery Services'),\n",
       " ('911312106', 'Transportation', 'Trucking Freight/Courier Services'),\n",
       " ('92343E102', 'Technology', 'EDP Services'),\n",
       " ('92343V104', 'Public Utilities', 'Telecommunications Equipment'),\n",
       " ('92345Y106', 'Technology', 'EDP Services'),\n",
       " ('92553P201', 'Consumer Services', 'Television Services'),\n",
       " ('92826C839', 'Miscellaneous', 'Business Services'),\n",
       " ('92927K102', 'Capital Goods', 'Auto Manufacturing'),\n",
       " ('931142103', 'Consumer Services', 'Department/Specialty Retail Stores'),\n",
       " ('939640108', 'Non-Cyclical Consumer Goods & Services', 'Personal Services'),\n",
       " ('949746101', 'Finance', 'Major Banks'),\n",
       " ('G0750C108', 'Basic Industries', 'Paints/Coatings'),\n",
       " ('G5480U104', 'Consumer Services', 'Television Services'),\n",
       " ('G5480U120', 'Consumer Services', 'Television Services'),\n",
       " ('G5480U138', 'Consumer Services', 'Television Services'),\n",
       " ('G5480U153', 'Consumer Services', 'Television Services')]"
      ]
     },
     "execution_count": 43,
     "metadata": {},
     "output_type": "execute_result"
    }
   ],
   "source": [
    "session.query(IndSecIndGrp.cusip, IndSecIndGrp.indsec, IndSecIndGrp.indgrp).all()"
   ]
  },
  {
   "cell_type": "code",
   "execution_count": 44,
   "metadata": {
    "collapsed": false
   },
   "outputs": [
    {
     "data": {
      "text/plain": [
       "[]"
      ]
     },
     "execution_count": 44,
     "metadata": {},
     "output_type": "execute_result"
    }
   ],
   "source": [
    "session.query(IndSecIndGrp.cusip, IndSecIndGrp.indsec, IndSecIndGrp.indgrp)\\\n",
    "    .filter(or_(IndSecIndGrp.indsec == None, IndSecIndGrp.indgrp == None,\\\n",
    "                IndSecIndGrp.indsec == 'None', IndSecIndGrp.indgrp == 'None'))\\\n",
    "    .all()\n"
   ]
  },
  {
   "cell_type": "code",
   "execution_count": 45,
   "metadata": {
    "collapsed": true
   },
   "outputs": [],
   "source": [
    "session.close()"
   ]
  },
  {
   "cell_type": "code",
   "execution_count": null,
   "metadata": {
    "collapsed": true
   },
   "outputs": [],
   "source": []
  }
 ],
 "metadata": {
  "kernelspec": {
   "display_name": "Python 3",
   "language": "python",
   "name": "python3"
  },
  "language_info": {
   "codemirror_mode": {
    "name": "ipython",
    "version": 3
   },
   "file_extension": ".py",
   "mimetype": "text/x-python",
   "name": "python",
   "nbconvert_exporter": "python",
   "pygments_lexer": "ipython3",
   "version": "3.6.0"
  }
 },
 "nbformat": 4,
 "nbformat_minor": 2
}
