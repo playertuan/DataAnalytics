{
 "cells": [
  {
   "cell_type": "code",
   "execution_count": 1,
   "metadata": {
    "collapsed": true
   },
   "outputs": [],
   "source": [
    "import pandas as pd\n",
    "import numpy as np\n",
    "import os"
   ]
  },
  {
   "cell_type": "code",
   "execution_count": 2,
   "metadata": {
    "collapsed": false
   },
   "outputs": [],
   "source": [
    "csvfile = \"./decorated_data.csv\"\n",
    "df = pd.read_csv(csvfile,dtype=object)"
   ]
  },
  {
   "cell_type": "code",
   "execution_count": 3,
   "metadata": {
    "collapsed": false
   },
   "outputs": [
    {
     "data": {
      "text/html": [
       "<div>\n",
       "<table border=\"1\" class=\"dataframe\">\n",
       "  <thead>\n",
       "    <tr style=\"text-align: right;\">\n",
       "      <th></th>\n",
       "      <th>ticker</th>\n",
       "      <th>cusip</th>\n",
       "      <th>indsec</th>\n",
       "      <th>indgrp</th>\n",
       "    </tr>\n",
       "  </thead>\n",
       "  <tbody>\n",
       "    <tr>\n",
       "      <th>0</th>\n",
       "      <td>T</td>\n",
       "      <td>00206R102</td>\n",
       "      <td>Public Utilities</td>\n",
       "      <td>Telecommunications Equipment</td>\n",
       "    </tr>\n",
       "    <tr>\n",
       "      <th>1</th>\n",
       "      <td>AAL</td>\n",
       "      <td>02376R102</td>\n",
       "      <td>Transportation</td>\n",
       "      <td>Air Freight/Delivery Services</td>\n",
       "    </tr>\n",
       "    <tr>\n",
       "      <th>2</th>\n",
       "      <td>AXP</td>\n",
       "      <td>025816109</td>\n",
       "      <td>Finance</td>\n",
       "      <td>Finance: Consumer Services</td>\n",
       "    </tr>\n",
       "    <tr>\n",
       "      <th>3</th>\n",
       "      <td>AAPL</td>\n",
       "      <td>037833100</td>\n",
       "      <td>Technology</td>\n",
       "      <td>Computer Manufacturing</td>\n",
       "    </tr>\n",
       "    <tr>\n",
       "      <th>4</th>\n",
       "      <td>BK</td>\n",
       "      <td>064058100</td>\n",
       "      <td>Finance</td>\n",
       "      <td>Major Banks</td>\n",
       "    </tr>\n",
       "  </tbody>\n",
       "</table>\n",
       "</div>"
      ],
      "text/plain": [
       "  ticker      cusip            indsec                         indgrp\n",
       "0      T  00206R102  Public Utilities   Telecommunications Equipment\n",
       "1    AAL  02376R102    Transportation  Air Freight/Delivery Services\n",
       "2    AXP  025816109           Finance     Finance: Consumer Services\n",
       "3   AAPL  037833100        Technology         Computer Manufacturing\n",
       "4     BK  064058100           Finance                    Major Banks"
      ]
     },
     "execution_count": 3,
     "metadata": {},
     "output_type": "execute_result"
    }
   ],
   "source": [
    "df.head()"
   ]
  },
  {
   "cell_type": "code",
   "execution_count": 4,
   "metadata": {
    "collapsed": false
   },
   "outputs": [],
   "source": [
    "import sqlalchemy\n",
    "from sqlalchemy import create_engine, MetaData\n",
    "from sqlalchemy.ext.declarative import declarative_base\n",
    "from sqlalchemy import Column, Integer, String, Numeric, Text, Float"
   ]
  },
  {
   "cell_type": "code",
   "execution_count": 5,
   "metadata": {
    "collapsed": true
   },
   "outputs": [],
   "source": [
    "# create an engine to sqlite db\n",
    "engine = create_engine(\"sqlite:///sec13f.sqlite\")"
   ]
  },
  {
   "cell_type": "code",
   "execution_count": 6,
   "metadata": {
    "collapsed": true
   },
   "outputs": [],
   "source": [
    "# Create a connection to the engine called conn\n",
    "conn = engine.connect()"
   ]
  },
  {
   "cell_type": "code",
   "execution_count": 7,
   "metadata": {
    "collapsed": true
   },
   "outputs": [],
   "source": [
    "# Use `declarative_base` from SQLAlchemy to connect your class to your sqlite database\n",
    "Base = declarative_base()"
   ]
  },
  {
   "cell_type": "code",
   "execution_count": 8,
   "metadata": {
    "collapsed": false
   },
   "outputs": [],
   "source": [
    "class SecuritiesEx(Base):\n",
    "    __tablename__ = 'securitiesex'\n",
    "    id = Column(Integer, primary_key=True)\n",
    "    ticker = Column(Text)\n",
    "    cusip = Column(Text)\n",
    "    indsec = Column(Text)\n",
    "    indgrp = Column(Text)\n",
    "    \n",
    "    def __repr__(self):\n",
    "        return f\"indsec={self.indsec}, indgrp={self.indgrp}, cusip={self.cusip} ticker={self.ticker}\"\n",
    "    "
   ]
  },
  {
   "cell_type": "code",
   "execution_count": 9,
   "metadata": {
    "collapsed": true
   },
   "outputs": [],
   "source": [
    "# Use `create_all` to create the indsectorindgroup table in the database\n",
    "Base.metadata.create_all(engine)"
   ]
  },
  {
   "cell_type": "code",
   "execution_count": 10,
   "metadata": {
    "collapsed": true
   },
   "outputs": [],
   "source": [
    "# Use MetaData from SQLAlchemy to reflect the tables\\n\",\n",
    "metadata = MetaData(bind=engine)\n",
    "metadata.reflect()"
   ]
  },
  {
   "cell_type": "code",
   "execution_count": 12,
   "metadata": {
    "collapsed": false
   },
   "outputs": [],
   "source": [
    "# Save the reference to the `securitiesex` table as a variable called `table`\n",
    "table = sqlalchemy.Table('securitiesex', metadata, autoload=True)"
   ]
  },
  {
   "cell_type": "code",
   "execution_count": 13,
   "metadata": {
    "collapsed": false
   },
   "outputs": [
    {
     "data": {
      "text/plain": [
       "<sqlalchemy.engine.result.ResultProxy at 0x1d13ea999e8>"
      ]
     },
     "execution_count": 13,
     "metadata": {},
     "output_type": "execute_result"
    }
   ],
   "source": [
    "# Use `table.delete()` to remove any existing data.\n",
    "conn.execute(table.delete())"
   ]
  },
  {
   "cell_type": "code",
   "execution_count": 14,
   "metadata": {
    "collapsed": false
   },
   "outputs": [
    {
     "name": "stdout",
     "output_type": "stream",
     "text": [
      "[{'ticker': 'T', 'cusip': '00206R102', 'indsec': 'Public Utilities', 'indgrp': 'Telecommunications Equipment'}, {'ticker': 'AAL', 'cusip': '02376R102', 'indsec': 'Transportation', 'indgrp': 'Air Freight/Delivery Services'}, {'ticker': 'AXP', 'cusip': '025816109', 'indsec': 'Finance', 'indgrp': 'Finance: Consumer Services'}, {'ticker': 'AAPL', 'cusip': '037833100', 'indsec': 'Technology', 'indgrp': 'Computer Manufacturing'}, {'ticker': 'BK', 'cusip': '064058100', 'indsec': 'Finance', 'indgrp': 'Major Banks'}, {'ticker': 'LBRDA', 'cusip': '16117M305', 'indsec': 'Consumer Services', 'indgrp': 'Television Services'}, {'ticker': nan, 'cusip': '16119P108', 'indsec': 'None', 'indgrp': 'None'}, {'ticker': 'CBI', 'cusip': '167250109', 'indsec': 'Basic Industries', 'indgrp': 'Engineering & Construction'}, {'ticker': 'KO', 'cusip': '191216100', 'indsec': 'Consumer Non-Durables', 'indgrp': 'Beverages (Production/Distribution)'}, {'ticker': 'COP', 'cusip': '20825C104', 'indsec': 'Energy', 'indgrp': 'Integrated oil Companies'}, {'ticker': 'COST', 'cusip': '22160K105', 'indsec': 'Consumer Services', 'indgrp': 'Department/Specialty Retail Stores'}, {'ticker': 'DVA', 'cusip': '23918K108', 'indsec': 'Health Care', 'indgrp': 'Hospital/Nursing Management'}, {'ticker': 'DE', 'cusip': '244199105', 'indsec': 'Capital Goods', 'indgrp': 'Industrial Machinery/Components'}, {'ticker': 'DAL', 'cusip': '247361702', 'indsec': 'Transportation', 'indgrp': 'Air Freight/Delivery Services'}, {'ticker': 'SATS', 'cusip': '25470M109', 'indsec': 'Technology', 'indgrp': 'Radio And Television Broadcasting And Communications Equipment'}, {'ticker': nan, 'cusip': '25490A309', 'indsec': nan, 'indgrp': nan}, {'ticker': 'ESRX', 'cusip': '30219G108', 'indsec': 'Health Care', 'indgrp': 'Medical/Nursing Services'}, {'ticker': 'XOM', 'cusip': '30231G102', 'indsec': 'Energy', 'indgrp': 'Integrated oil Companies'}, {'ticker': 'GE', 'cusip': '369604103', 'indsec': 'Energy', 'indgrp': 'Consumer Electronics/Appliances'}, {'ticker': 'GM', 'cusip': '37045V100', 'indsec': 'Capital Goods', 'indgrp': 'Auto Manufacturing'}, {'ticker': 'GSK', 'cusip': '37733W105', 'indsec': 'Health Care', 'indgrp': 'Major Pharmaceuticals'}, {'ticker': 'GS', 'cusip': '38141G104', 'indsec': 'Finance', 'indgrp': 'Investment Bankers/Brokers/Service'}, {'ticker': 'GHC', 'cusip': '384637104', 'indsec': 'Consumer Services', 'indgrp': 'Other Consumer Services'}, {'ticker': 'IBM', 'cusip': '459200101', 'indsec': 'Technology', 'indgrp': 'Computer Manufacturing'}, {'ticker': 'JNJ', 'cusip': '478160104', 'indsec': 'Health Care', 'indgrp': 'Major Pharmaceuticals'}, {'ticker': 'KMI', 'cusip': '49456B101', 'indsec': 'Public Utilities', 'indgrp': 'Natural Gas Distribution'}, {'ticker': 'KHC', 'cusip': '500754106', 'indsec': 'Consumer Non-Durables', 'indgrp': 'Packaged Foods'}, {'ticker': nan, 'cusip': '50076Q106', 'indsec': 'None', 'indgrp': 'None'}, {'ticker': 'LEE', 'cusip': '523768109', 'indsec': 'Consumer Services', 'indgrp': 'Newspapers/Magazines'}, {'ticker': nan, 'cusip': '531229102', 'indsec': nan, 'indgrp': nan}, {'ticker': nan, 'cusip': '531229300', 'indsec': nan, 'indgrp': nan}, {'ticker': nan, 'cusip': '531229409', 'indsec': 'None', 'indgrp': 'None'}, {'ticker': nan, 'cusip': '531229607', 'indsec': 'None', 'indgrp': 'None'}, {'ticker': nan, 'cusip': '531229854', 'indsec': 'None', 'indgrp': 'None'}, {'ticker': nan, 'cusip': '531229870', 'indsec': 'None', 'indgrp': 'None'}, {'ticker': 'MTB', 'cusip': '55261F104', 'indsec': 'Finance', 'indgrp': 'Major Banks'}, {'ticker': 'MA', 'cusip': '57636Q104', 'indsec': 'Miscellaneous', 'indgrp': 'Business Services'}, {'ticker': nan, 'cusip': '584404107', 'indsec': nan, 'indgrp': nan}, {'ticker': nan, 'cusip': '58441K100', 'indsec': nan, 'indgrp': nan}, {'ticker': 'MDLZ', 'cusip': '609207105', 'indsec': 'Consumer Non-Durables', 'indgrp': 'Packaged Foods'}, {'ticker': 'MON', 'cusip': '61166W101', 'indsec': 'Basic Industries', 'indgrp': 'Agricultural Chemicals'}, {'ticker': 'MCO', 'cusip': '615369105', 'indsec': 'Finance', 'indgrp': 'Finance: Consumer Services'}, {'ticker': 'NOV', 'cusip': '637071101', 'indsec': 'Energy', 'indgrp': 'Metal Fabrications'}, {'ticker': 'DNOW', 'cusip': '67011P100', 'indsec': 'Energy', 'indgrp': 'Metal Fabrications'}, {'ticker': 'PSX', 'cusip': '718546104', 'indsec': 'Energy', 'indgrp': 'Integrated oil Companies'}, {'ticker': nan, 'cusip': '740189105', 'indsec': nan, 'indgrp': nan}, {'ticker': 'PG', 'cusip': '742718109', 'indsec': 'Basic Industries', 'indgrp': 'Package Goods/Cosmetics'}, {'ticker': 'QSR', 'cusip': '76131D103', 'indsec': 'Consumer Services', 'indgrp': 'Restaurants'}, {'ticker': nan, 'cusip': '80105N105', 'indsec': 'None', 'indgrp': 'None'}, {'ticker': 'SIRI', 'cusip': '82968B103', 'indsec': 'Consumer Services', 'indgrp': 'Broadcasting'}, {'ticker': 'LUV', 'cusip': '844741108', 'indsec': 'Transportation', 'indgrp': 'Air Freight/Delivery Services'}, {'ticker': nan, 'cusip': '85571Q102', 'indsec': nan, 'indgrp': nan}, {'ticker': 'SU', 'cusip': '867224107', 'indsec': 'Energy', 'indgrp': 'Integrated oil Companies'}, {'ticker': 'TMK', 'cusip': '891027104', 'indsec': 'Finance', 'indgrp': 'Life Insurance'}, {'ticker': 'FOXA', 'cusip': '90130A101', 'indsec': 'Consumer Services', 'indgrp': 'Television Services'}, {'ticker': 'USB', 'cusip': '902973304', 'indsec': 'Finance', 'indgrp': 'Major Banks'}, {'ticker': 'USG', 'cusip': '903293405', 'indsec': 'Capital Goods', 'indgrp': 'Building Materials'}, {'ticker': 'UAL', 'cusip': '910047109', 'indsec': 'Transportation', 'indgrp': 'Air Freight/Delivery Services'}, {'ticker': 'UPS', 'cusip': '911312106', 'indsec': 'Transportation', 'indgrp': 'Trucking Freight/Courier Services'}, {'ticker': 'VRSN', 'cusip': '92343E102', 'indsec': 'Technology', 'indgrp': 'EDP Services'}, {'ticker': 'VZ', 'cusip': '92343V104', 'indsec': 'Public Utilities', 'indgrp': 'Telecommunications Equipment'}, {'ticker': 'VRSK', 'cusip': '92345Y106', 'indsec': 'Technology', 'indgrp': 'EDP Services'}, {'ticker': 'VIAB', 'cusip': '92553P201', 'indsec': 'Consumer Services', 'indgrp': 'Television Services'}, {'ticker': 'V', 'cusip': '92826C839', 'indsec': 'Miscellaneous', 'indgrp': 'Business Services'}, {'ticker': 'WBC', 'cusip': '92927K102', 'indsec': 'Capital Goods', 'indgrp': 'Auto Manufacturing'}, {'ticker': 'WMT', 'cusip': '931142103', 'indsec': 'Consumer Services', 'indgrp': 'Department/Specialty Retail Stores'}, {'ticker': nan, 'cusip': '939640108', 'indsec': nan, 'indgrp': nan}, {'ticker': 'WFC', 'cusip': '949746101', 'indsec': 'Finance', 'indgrp': 'Major Banks'}, {'ticker': 'AXTA', 'cusip': 'G0750C108', 'indsec': 'Basic Industries', 'indgrp': 'Paints/Coatings'}, {'ticker': 'LBTYA', 'cusip': 'G5480U104', 'indsec': 'Consumer Services', 'indgrp': 'Television Services'}, {'ticker': 'LBTYK', 'cusip': 'G5480U120', 'indsec': 'Consumer Services', 'indgrp': 'Television Services'}, {'ticker': 'LILA', 'cusip': 'G5480U138', 'indsec': 'Consumer Services', 'indgrp': 'Television Services'}, {'ticker': 'LILAK', 'cusip': 'G5480U153', 'indsec': 'Consumer Services', 'indgrp': 'Television Services'}]\n"
     ]
    }
   ],
   "source": [
    "data = df.to_dict(orient='records')\n",
    "print(data)"
   ]
  },
  {
   "cell_type": "code",
   "execution_count": 15,
   "metadata": {
    "collapsed": false
   },
   "outputs": [
    {
     "data": {
      "text/plain": [
       "<sqlalchemy.engine.result.ResultProxy at 0x1d141a17fd0>"
      ]
     },
     "execution_count": 15,
     "metadata": {},
     "output_type": "execute_result"
    }
   ],
   "source": [
    "\n",
    "conn.execute(table.insert(), data)"
   ]
  },
  {
   "cell_type": "code",
   "execution_count": 16,
   "metadata": {
    "collapsed": false
   },
   "outputs": [
    {
     "data": {
      "text/plain": [
       "[(1, 'T', '00206R102', 'Public Utilities', 'Telecommunications Equipment'),\n",
       " (2, 'AAL', '02376R102', 'Transportation', 'Air Freight/Delivery Services'),\n",
       " (3, 'AXP', '025816109', 'Finance', 'Finance: Consumer Services'),\n",
       " (4, 'AAPL', '037833100', 'Technology', 'Computer Manufacturing'),\n",
       " (5, 'BK', '064058100', 'Finance', 'Major Banks'),\n",
       " (6, 'LBRDA', '16117M305', 'Consumer Services', 'Television Services'),\n",
       " (7, None, '16119P108', 'None', 'None'),\n",
       " (8, 'CBI', '167250109', 'Basic Industries', 'Engineering & Construction'),\n",
       " (9, 'KO', '191216100', 'Consumer Non-Durables', 'Beverages (Production/Distribution)'),\n",
       " (10, 'COP', '20825C104', 'Energy', 'Integrated oil Companies'),\n",
       " (11, 'COST', '22160K105', 'Consumer Services', 'Department/Specialty Retail Stores'),\n",
       " (12, 'DVA', '23918K108', 'Health Care', 'Hospital/Nursing Management'),\n",
       " (13, 'DE', '244199105', 'Capital Goods', 'Industrial Machinery/Components'),\n",
       " (14, 'DAL', '247361702', 'Transportation', 'Air Freight/Delivery Services'),\n",
       " (15, 'SATS', '25470M109', 'Technology', 'Radio And Television Broadcasting And Communications Equipment'),\n",
       " (16, None, '25490A309', None, None),\n",
       " (17, 'ESRX', '30219G108', 'Health Care', 'Medical/Nursing Services'),\n",
       " (18, 'XOM', '30231G102', 'Energy', 'Integrated oil Companies'),\n",
       " (19, 'GE', '369604103', 'Energy', 'Consumer Electronics/Appliances'),\n",
       " (20, 'GM', '37045V100', 'Capital Goods', 'Auto Manufacturing'),\n",
       " (21, 'GSK', '37733W105', 'Health Care', 'Major Pharmaceuticals'),\n",
       " (22, 'GS', '38141G104', 'Finance', 'Investment Bankers/Brokers/Service'),\n",
       " (23, 'GHC', '384637104', 'Consumer Services', 'Other Consumer Services'),\n",
       " (24, 'IBM', '459200101', 'Technology', 'Computer Manufacturing'),\n",
       " (25, 'JNJ', '478160104', 'Health Care', 'Major Pharmaceuticals'),\n",
       " (26, 'KMI', '49456B101', 'Public Utilities', 'Natural Gas Distribution'),\n",
       " (27, 'KHC', '500754106', 'Consumer Non-Durables', 'Packaged Foods'),\n",
       " (28, None, '50076Q106', 'None', 'None'),\n",
       " (29, 'LEE', '523768109', 'Consumer Services', 'Newspapers/Magazines'),\n",
       " (30, None, '531229102', None, None),\n",
       " (31, None, '531229300', None, None),\n",
       " (32, None, '531229409', 'None', 'None'),\n",
       " (33, None, '531229607', 'None', 'None'),\n",
       " (34, None, '531229854', 'None', 'None'),\n",
       " (35, None, '531229870', 'None', 'None'),\n",
       " (36, 'MTB', '55261F104', 'Finance', 'Major Banks'),\n",
       " (37, 'MA', '57636Q104', 'Miscellaneous', 'Business Services'),\n",
       " (38, None, '584404107', None, None),\n",
       " (39, None, '58441K100', None, None),\n",
       " (40, 'MDLZ', '609207105', 'Consumer Non-Durables', 'Packaged Foods'),\n",
       " (41, 'MON', '61166W101', 'Basic Industries', 'Agricultural Chemicals'),\n",
       " (42, 'MCO', '615369105', 'Finance', 'Finance: Consumer Services'),\n",
       " (43, 'NOV', '637071101', 'Energy', 'Metal Fabrications'),\n",
       " (44, 'DNOW', '67011P100', 'Energy', 'Metal Fabrications'),\n",
       " (45, 'PSX', '718546104', 'Energy', 'Integrated oil Companies'),\n",
       " (46, None, '740189105', None, None),\n",
       " (47, 'PG', '742718109', 'Basic Industries', 'Package Goods/Cosmetics'),\n",
       " (48, 'QSR', '76131D103', 'Consumer Services', 'Restaurants'),\n",
       " (49, None, '80105N105', 'None', 'None'),\n",
       " (50, 'SIRI', '82968B103', 'Consumer Services', 'Broadcasting'),\n",
       " (51, 'LUV', '844741108', 'Transportation', 'Air Freight/Delivery Services'),\n",
       " (52, None, '85571Q102', None, None),\n",
       " (53, 'SU', '867224107', 'Energy', 'Integrated oil Companies'),\n",
       " (54, 'TMK', '891027104', 'Finance', 'Life Insurance'),\n",
       " (55, 'FOXA', '90130A101', 'Consumer Services', 'Television Services'),\n",
       " (56, 'USB', '902973304', 'Finance', 'Major Banks'),\n",
       " (57, 'USG', '903293405', 'Capital Goods', 'Building Materials'),\n",
       " (58, 'UAL', '910047109', 'Transportation', 'Air Freight/Delivery Services'),\n",
       " (59, 'UPS', '911312106', 'Transportation', 'Trucking Freight/Courier Services'),\n",
       " (60, 'VRSN', '92343E102', 'Technology', 'EDP Services'),\n",
       " (61, 'VZ', '92343V104', 'Public Utilities', 'Telecommunications Equipment'),\n",
       " (62, 'VRSK', '92345Y106', 'Technology', 'EDP Services'),\n",
       " (63, 'VIAB', '92553P201', 'Consumer Services', 'Television Services'),\n",
       " (64, 'V', '92826C839', 'Miscellaneous', 'Business Services'),\n",
       " (65, 'WBC', '92927K102', 'Capital Goods', 'Auto Manufacturing'),\n",
       " (66, 'WMT', '931142103', 'Consumer Services', 'Department/Specialty Retail Stores'),\n",
       " (67, None, '939640108', None, None),\n",
       " (68, 'WFC', '949746101', 'Finance', 'Major Banks'),\n",
       " (69, 'AXTA', 'G0750C108', 'Basic Industries', 'Paints/Coatings'),\n",
       " (70, 'LBTYA', 'G5480U104', 'Consumer Services', 'Television Services'),\n",
       " (71, 'LBTYK', 'G5480U120', 'Consumer Services', 'Television Services'),\n",
       " (72, 'LILA', 'G5480U138', 'Consumer Services', 'Television Services'),\n",
       " (73, 'LILAK', 'G5480U153', 'Consumer Services', 'Television Services')]"
      ]
     },
     "execution_count": 16,
     "metadata": {},
     "output_type": "execute_result"
    }
   ],
   "source": [
    "conn.execute(\"select * from securitiesex\").fetchall()"
   ]
  },
  {
   "cell_type": "code",
   "execution_count": 17,
   "metadata": {
    "collapsed": true
   },
   "outputs": [],
   "source": [
    "conn.close()"
   ]
  },
  {
   "cell_type": "code",
   "execution_count": null,
   "metadata": {
    "collapsed": true
   },
   "outputs": [],
   "source": []
  }
 ],
 "metadata": {
  "kernelspec": {
   "display_name": "Python 3",
   "language": "python",
   "name": "python3"
  },
  "language_info": {
   "codemirror_mode": {
    "name": "ipython",
    "version": 3
   },
   "file_extension": ".py",
   "mimetype": "text/x-python",
   "name": "python",
   "nbconvert_exporter": "python",
   "pygments_lexer": "ipython3",
   "version": "3.6.0"
  }
 },
 "nbformat": 4,
 "nbformat_minor": 2
}
