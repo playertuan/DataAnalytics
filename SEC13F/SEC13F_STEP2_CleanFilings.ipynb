{
 "cells": [
  {
   "cell_type": "code",
   "execution_count": 148,
   "metadata": {
    "collapsed": true
   },
   "outputs": [],
   "source": [
    "import os\n",
    "import csv\n",
    "import xml.etree.ElementTree as et\n",
    "import re"
   ]
  },
  {
   "cell_type": "code",
   "execution_count": 149,
   "metadata": {
    "collapsed": true
   },
   "outputs": [],
   "source": [
    "root_path = os.getcwd()\n",
    "data_path = os.path.join(root_path,\"filings\")"
   ]
  },
  {
   "cell_type": "code",
   "execution_count": 150,
   "metadata": {
    "collapsed": true
   },
   "outputs": [],
   "source": [
    "def loadfiles():\n",
    "    files = []\n",
    "    for file in os.listdir(data_path):\n",
    "        if file.endswith(\".txt\"):\n",
    "            files.append(os.path.join(data_path, file))\n",
    "    return files"
   ]
  },
  {
   "cell_type": "code",
   "execution_count": 151,
   "metadata": {
    "collapsed": true
   },
   "outputs": [],
   "source": [
    "files = loadfiles()"
   ]
  },
  {
   "cell_type": "code",
   "execution_count": 152,
   "metadata": {
    "collapsed": true
   },
   "outputs": [],
   "source": [
    "def childToDict(element, file_date):\n",
    "    name = \"\"\n",
    "    cusip = \"\"\n",
    "    value = 0\n",
    "    shares = 0\n",
    "    for child in element.getchildren():\n",
    "        xml_tag = re.sub( '\\{.*\\}','',child.tag, count=1)\n",
    "        #print(\"element tag: \", xml_tag, \" element value: \", child.text)\n",
    "        if xml_tag == \"nameOfIssuer\":\n",
    "            name = child.text\n",
    "        if xml_tag == \"cusip\":\n",
    "            cusip = child.text\n",
    "        if xml_tag == \"value\":\n",
    "            value = int(child.text)\n",
    "        if xml_tag == \"shrsOrPrnAmt\":\n",
    "            for grand_child in child.getchildren():\n",
    "                gc_xml_tag = re.sub( '\\{.*\\}','',grand_child.tag, count=1)\n",
    "                #print(\"     element tag: \", gc_xml_tag, \" element value: \", grand_child.text)\n",
    "                if gc_xml_tag == \"sshPrnamt\":\n",
    "                    shares = int(grand_child.text)\n",
    "    position_dict = {\"file_date\": file_date,  \"name\": name, \"cusip\": cusip, \"mval\": value, \"shares\": shares}\n",
    "    #print(position_dict)\n",
    "    return position_dict"
   ]
  },
  {
   "cell_type": "code",
   "execution_count": 153,
   "metadata": {
    "collapsed": true
   },
   "outputs": [],
   "source": [
    "def xmlToList(xml_str, file_date):\n",
    "    position_list = []\n",
    "    document = et.fromstring(xml_str)\n",
    "    for element in document:\n",
    "        position_list.append(childToDict(element, file_date))\n",
    "    return position_list\n",
    "        \n",
    "                    "
   ]
  },
  {
   "cell_type": "code",
   "execution_count": 154,
   "metadata": {
    "collapsed": false
   },
   "outputs": [],
   "source": [
    "list_data = []\n",
    "for file in files:\n",
    "    file_name, ext = file[-14:].split('.')\n",
    "    src = os.path.join(filepath, file)\n",
    "    with open(src, 'r') as fh:\n",
    "        output = str(fh.read())\n",
    "        #print(output)\n",
    "        list_data = list_data + xmlToList(output, file_name)\n",
    "\n",
    "#print(list_data)"
   ]
  },
  {
   "cell_type": "code",
   "execution_count": 155,
   "metadata": {
    "collapsed": false
   },
   "outputs": [],
   "source": [
    "#print(list_data)\n",
    "output = os.path.join(root_path,\"sec13f_clean_data.csv\")\n",
    "with open(output, \"w\") as csvfile:\n",
    "    field_names = [\"file_date\",  \"name\", \"cusip\", \"mval\", \"shares\"]\n",
    "    csvwriter = csv.DictWriter(csvfile, lineterminator='\\n', fieldnames=field_names)\n",
    "    csvwriter.writeheader()\n",
    "    csvwriter.writerows(list_data)"
   ]
  },
  {
   "cell_type": "code",
   "execution_count": null,
   "metadata": {
    "collapsed": true
   },
   "outputs": [],
   "source": []
  }
 ],
 "metadata": {
  "kernelspec": {
   "display_name": "Python 3",
   "language": "python",
   "name": "python3"
  },
  "language_info": {
   "codemirror_mode": {
    "name": "ipython",
    "version": 3
   },
   "file_extension": ".py",
   "mimetype": "text/x-python",
   "name": "python",
   "nbconvert_exporter": "python",
   "pygments_lexer": "ipython3",
   "version": "3.6.0"
  }
 },
 "nbformat": 4,
 "nbformat_minor": 2
}
