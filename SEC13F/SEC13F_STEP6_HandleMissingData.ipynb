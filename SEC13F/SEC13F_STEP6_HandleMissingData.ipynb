{
 "cells": [
  {
   "cell_type": "code",
   "execution_count": 1,
   "metadata": {
    "collapsed": true
   },
   "outputs": [],
   "source": [
    "# Python SQL toolkit and Object Relational Mapper\n",
    "import sqlalchemy\n",
    "from sqlalchemy import or_\n",
    "from sqlalchemy.ext.automap import automap_base\n",
    "from sqlalchemy.orm import Session\n",
    "from sqlalchemy import create_engine\n",
    "import numpy as np"
   ]
  },
  {
   "cell_type": "code",
   "execution_count": 2,
   "metadata": {
    "collapsed": true
   },
   "outputs": [],
   "source": [
    "# create an engine to sqlite db\n",
    "engine = create_engine(\"sqlite:///sec13f.sqlite\")\n"
   ]
  },
  {
   "cell_type": "code",
   "execution_count": 3,
   "metadata": {
    "collapsed": true
   },
   "outputs": [],
   "source": [
    "# Create a connection to the engine called conn\n",
    "conn = engine.connect()"
   ]
  },
  {
   "cell_type": "code",
   "execution_count": 4,
   "metadata": {
    "collapsed": false
   },
   "outputs": [],
   "source": [
    "# Create a session\n",
    "session = Session(engine)"
   ]
  },
  {
   "cell_type": "code",
   "execution_count": 5,
   "metadata": {
    "collapsed": false
   },
   "outputs": [],
   "source": [
    "# Declare a Base using `automap_base()`\n",
    "Base = automap_base()"
   ]
  },
  {
   "cell_type": "code",
   "execution_count": 6,
   "metadata": {
    "collapsed": true
   },
   "outputs": [],
   "source": [
    "# Use the Base class to reflect the database tables\n",
    "# create classes based on database\n",
    "Base.prepare(engine, reflect=True)"
   ]
  },
  {
   "cell_type": "code",
   "execution_count": 7,
   "metadata": {
    "collapsed": false
   },
   "outputs": [
    {
     "data": {
      "text/plain": [
       "['latest_positions', 'positions', 'securitiesex']"
      ]
     },
     "execution_count": 7,
     "metadata": {},
     "output_type": "execute_result"
    }
   ],
   "source": [
    "# Print all of the classes mapped to the Base\n",
    "Base.classes.keys()"
   ]
  },
  {
   "cell_type": "code",
   "execution_count": 8,
   "metadata": {
    "collapsed": true
   },
   "outputs": [],
   "source": [
    "# Assign the indsectorindgroup class to a variable called `SecuritiesEx`\n",
    "SecuritiesEx = Base.classes.securitiesex"
   ]
  },
  {
   "cell_type": "code",
   "execution_count": 10,
   "metadata": {
    "collapsed": false
   },
   "outputs": [
    {
     "name": "stdout",
     "output_type": "stream",
     "text": [
      "(None, '16119P108', 'None', 'None')\n",
      "(None, '25490A309', None, None)\n",
      "(None, '50076Q106', 'None', 'None')\n",
      "(None, '531229102', None, None)\n",
      "(None, '531229300', None, None)\n",
      "(None, '531229409', 'None', 'None')\n",
      "(None, '531229607', 'None', 'None')\n",
      "(None, '531229854', 'None', 'None')\n",
      "(None, '531229870', 'None', 'None')\n",
      "(None, '584404107', None, None)\n",
      "(None, '58441K100', None, None)\n",
      "(None, '740189105', None, None)\n",
      "(None, '80105N105', 'None', 'None')\n",
      "(None, '85571Q102', None, None)\n",
      "(None, '939640108', None, None)\n"
     ]
    }
   ],
   "source": [
    "# Display the row's columns and data in dictionary format\n",
    "symbols = session.query(SecuritiesEx.ticker, SecuritiesEx.cusip, SecuritiesEx.indsec, SecuritiesEx.indgrp)\\\n",
    "    .filter(or_(SecuritiesEx.ticker == '',\\\n",
    "                SecuritiesEx.indsec == None, SecuritiesEx.indgrp == None,\\\n",
    "                SecuritiesEx.indsec == 'None', SecuritiesEx.indgrp == 'None'))\\\n",
    "    .all()\n",
    "for symbol in symbols:\n",
    "    print(symbol)"
   ]
  },
  {
   "cell_type": "code",
   "execution_count": 12,
   "metadata": {
    "collapsed": false
   },
   "outputs": [],
   "source": [
    "# 16119P108, ticker: \"CHTR\", indsec: Consumer Discretionary, indgrp: Media\n",
    "# 25490A309, ticker: \"DTV\", indsec: Consumer Discretionary, indgrp: Media\n",
    "# 50076Q106, ticker: \"KRFT\", indsec: Consumer Staples, indgrp: Food Beverage & Tobacco\n",
    "# 531229102, ticker: \"LMCA\", indsec: Consumer Discretionary, indgrp: Media\n",
    "# 531229300, ticker: \"LMCKV\", indsec: Consumer Discretionary, indgrp: Media\n",
    "# 531229409, ticker: \"LSXMA\", indsec: Consumer Discretionary, indgrp: Media\n",
    "# 531229607, ticker: \"LSXMK\", indsec: Consumer Discretionary, indgrp: Media\n",
    "# 531229854, ticker: \"FWONK\", indsec: Consumer Discretionary, indgrp: Media\n",
    "# 531229870, ticker: \"FWONA\", indsec: Consumer Discretionary, indgrp: Media\n",
    "# 584404107, ticker: \"MEG\", indsec: Consumer Discretionary, indgrp: Media\n",
    "# 58441K100, ticker: \"MEG\", indsec: Consumer Discretionary, indgrp: Media\n",
    "# 740189105, ticker: \"PCP\", indsec: Industrials, indgrp: Capital Goods\n",
    "# 80105N105, ticker: \"SNY\", indsec: Healthcare, indgrp: Pharmaceuticals\n",
    "# 85571Q102, ticker: \"STRZA\", indsec: Consumer Discretionary, indgrp: Media\n",
    "# 939640108, ticker: \"WPO\", indsec: Consumer Discretionary, indgrp: Consumer Service\n",
    "\n",
    "data = {\n",
    "    \"16119P108\": [\"CHTR\",\"Consumer Discretionary\",\"Media\"],\n",
    "    \"25490A309\": [\"DTV\",\"Consumer Discretionary\",\"Media\"],\n",
    "    \"50076Q106\": [\"KRFT\",\"Consumer Staples\",\"Food Beverage & Tobacco\"],\n",
    "    \"531229102\": [\"LMCA\",\"Consumer Discretionary\",\"Media\"],\n",
    "    \"531229300\": [\"LMCKV\",\"Consumer Discretionary\",\"Media\"],\n",
    "    \"531229409\": [\"LSXMA\",\"Consumer Discretionary\",\"Media\"],\n",
    "    \"531229607\": [\"LSXMK\",\"Consumer Discretionary\",\"Media\"],\n",
    "    \"531229854\": [\"FWONK\",\"Consumer Discretionary\",\"Media\"],\n",
    "    \"531229870\": [\"FWONA\",\"Consumer Discretionary\",\"Media\"],\n",
    "    \"584404107\": [\"MEG\",\"Consumer Discretionary\",\"Media\"],\n",
    "    \"58441K100\": [\"MEG\",\"Consumer Discretionary\",\"Media\"],\n",
    "    \"740189105\": [\"PCP\",\"Industrials\",\"Capital Goods\"],\n",
    "    \"80105N105\": [\"SNY\",\"Healthcare\",\"Pharmaceuticals\"],\n",
    "    \"85571Q102\": [\"STRZA\",\"Consumer Discretionary\",\"Media\"],\n",
    "    \"939640108\": [\"WPO\",\"Consumer Discretionary\",\" Consumer Service\"]\n",
    "}\n"
   ]
  },
  {
   "cell_type": "code",
   "execution_count": 15,
   "metadata": {
    "collapsed": false
   },
   "outputs": [],
   "source": [
    "for symbol in symbols:\n",
    "    cusip = symbol[1]\n",
    "    #print(cusip)\n",
    "    if cusip in data:\n",
    "        ticker = data[cusip][0]\n",
    "        indsec = data[cusip][1]\n",
    "        indgrp = data[cusip][2]\n",
    "        #print(f\"   industry sector {indsec} and industry group {indgrp}.\")\n",
    "        try:\n",
    "            session.query(SecuritiesEx).filter_by(cusip=cusip).\\\n",
    "                update({\"ticker\": ticker, \"indsec\": indsec, \"indgrp\":indgrp})\n",
    "            session.commit()\n",
    "        except:\n",
    "            session.rollback()\n",
    "            raise           "
   ]
  },
  {
   "cell_type": "code",
   "execution_count": 17,
   "metadata": {
    "collapsed": false
   },
   "outputs": [
    {
     "data": {
      "text/plain": [
       "[('00206R102', 'T', 'Public Utilities', 'Telecommunications Equipment'),\n",
       " ('02376R102', 'AAL', 'Transportation', 'Air Freight/Delivery Services'),\n",
       " ('025816109', 'AXP', 'Finance', 'Finance: Consumer Services'),\n",
       " ('037833100', 'AAPL', 'Technology', 'Computer Manufacturing'),\n",
       " ('064058100', 'BK', 'Finance', 'Major Banks'),\n",
       " ('16117M305', 'LBRDA', 'Consumer Services', 'Television Services'),\n",
       " ('16119P108', 'CHTR', 'Consumer Discretionary', 'Media'),\n",
       " ('167250109', 'CBI', 'Basic Industries', 'Engineering & Construction'),\n",
       " ('191216100',\n",
       "  'KO',\n",
       "  'Consumer Non-Durables',\n",
       "  'Beverages (Production/Distribution)'),\n",
       " ('20825C104', 'COP', 'Energy', 'Integrated oil Companies'),\n",
       " ('22160K105',\n",
       "  'COST',\n",
       "  'Consumer Services',\n",
       "  'Department/Specialty Retail Stores'),\n",
       " ('23918K108', 'DVA', 'Health Care', 'Hospital/Nursing Management'),\n",
       " ('244199105', 'DE', 'Capital Goods', 'Industrial Machinery/Components'),\n",
       " ('247361702', 'DAL', 'Transportation', 'Air Freight/Delivery Services'),\n",
       " ('25470M109',\n",
       "  'SATS',\n",
       "  'Technology',\n",
       "  'Radio And Television Broadcasting And Communications Equipment'),\n",
       " ('25490A309', 'DTV', 'Consumer Discretionary', 'Media'),\n",
       " ('30219G108', 'ESRX', 'Health Care', 'Medical/Nursing Services'),\n",
       " ('30231G102', 'XOM', 'Energy', 'Integrated oil Companies'),\n",
       " ('369604103', 'GE', 'Energy', 'Consumer Electronics/Appliances'),\n",
       " ('37045V100', 'GM', 'Capital Goods', 'Auto Manufacturing'),\n",
       " ('37733W105', 'GSK', 'Health Care', 'Major Pharmaceuticals'),\n",
       " ('38141G104', 'GS', 'Finance', 'Investment Bankers/Brokers/Service'),\n",
       " ('384637104', 'GHC', 'Consumer Services', 'Other Consumer Services'),\n",
       " ('459200101', 'IBM', 'Technology', 'Computer Manufacturing'),\n",
       " ('478160104', 'JNJ', 'Health Care', 'Major Pharmaceuticals'),\n",
       " ('49456B101', 'KMI', 'Public Utilities', 'Natural Gas Distribution'),\n",
       " ('500754106', 'KHC', 'Consumer Non-Durables', 'Packaged Foods'),\n",
       " ('50076Q106', 'KRFT', 'Consumer Staples', 'Food Beverage & Tobacco'),\n",
       " ('523768109', 'LEE', 'Consumer Services', 'Newspapers/Magazines'),\n",
       " ('531229102', 'LMCA', 'Consumer Discretionary', 'Media'),\n",
       " ('531229300', 'LMCKV', 'Consumer Discretionary', 'Media'),\n",
       " ('531229409', 'LSXMA', 'Consumer Discretionary', 'Media'),\n",
       " ('531229607', 'LSXMK', 'Consumer Discretionary', 'Media'),\n",
       " ('531229854', 'FWONK', 'Consumer Discretionary', 'Media'),\n",
       " ('531229870', 'FWONA', 'Consumer Discretionary', 'Media'),\n",
       " ('55261F104', 'MTB', 'Finance', 'Major Banks'),\n",
       " ('57636Q104', 'MA', 'Miscellaneous', 'Business Services'),\n",
       " ('584404107', 'MEG', 'Consumer Discretionary', 'Media'),\n",
       " ('58441K100', 'MEG', 'Consumer Discretionary', 'Media'),\n",
       " ('609207105', 'MDLZ', 'Consumer Non-Durables', 'Packaged Foods'),\n",
       " ('61166W101', 'MON', 'Basic Industries', 'Agricultural Chemicals'),\n",
       " ('615369105', 'MCO', 'Finance', 'Finance: Consumer Services'),\n",
       " ('637071101', 'NOV', 'Energy', 'Metal Fabrications'),\n",
       " ('67011P100', 'DNOW', 'Energy', 'Metal Fabrications'),\n",
       " ('718546104', 'PSX', 'Energy', 'Integrated oil Companies'),\n",
       " ('740189105', 'PCP', 'Industrials', 'Capital Goods'),\n",
       " ('742718109', 'PG', 'Basic Industries', 'Package Goods/Cosmetics'),\n",
       " ('76131D103', 'QSR', 'Consumer Services', 'Restaurants'),\n",
       " ('80105N105', 'SNY', 'Healthcare', 'Pharmaceuticals'),\n",
       " ('82968B103', 'SIRI', 'Consumer Services', 'Broadcasting'),\n",
       " ('844741108', 'LUV', 'Transportation', 'Air Freight/Delivery Services'),\n",
       " ('85571Q102', 'STRZA', 'Consumer Discretionary', 'Media'),\n",
       " ('867224107', 'SU', 'Energy', 'Integrated oil Companies'),\n",
       " ('891027104', 'TMK', 'Finance', 'Life Insurance'),\n",
       " ('90130A101', 'FOXA', 'Consumer Services', 'Television Services'),\n",
       " ('902973304', 'USB', 'Finance', 'Major Banks'),\n",
       " ('903293405', 'USG', 'Capital Goods', 'Building Materials'),\n",
       " ('910047109', 'UAL', 'Transportation', 'Air Freight/Delivery Services'),\n",
       " ('911312106', 'UPS', 'Transportation', 'Trucking Freight/Courier Services'),\n",
       " ('92343E102', 'VRSN', 'Technology', 'EDP Services'),\n",
       " ('92343V104', 'VZ', 'Public Utilities', 'Telecommunications Equipment'),\n",
       " ('92345Y106', 'VRSK', 'Technology', 'EDP Services'),\n",
       " ('92553P201', 'VIAB', 'Consumer Services', 'Television Services'),\n",
       " ('92826C839', 'V', 'Miscellaneous', 'Business Services'),\n",
       " ('92927K102', 'WBC', 'Capital Goods', 'Auto Manufacturing'),\n",
       " ('931142103',\n",
       "  'WMT',\n",
       "  'Consumer Services',\n",
       "  'Department/Specialty Retail Stores'),\n",
       " ('939640108', 'WPO', 'Consumer Discretionary', ' Consumer Service'),\n",
       " ('949746101', 'WFC', 'Finance', 'Major Banks'),\n",
       " ('G0750C108', 'AXTA', 'Basic Industries', 'Paints/Coatings'),\n",
       " ('G5480U104', 'LBTYA', 'Consumer Services', 'Television Services'),\n",
       " ('G5480U120', 'LBTYK', 'Consumer Services', 'Television Services'),\n",
       " ('G5480U138', 'LILA', 'Consumer Services', 'Television Services'),\n",
       " ('G5480U153', 'LILAK', 'Consumer Services', 'Television Services')]"
      ]
     },
     "execution_count": 17,
     "metadata": {},
     "output_type": "execute_result"
    }
   ],
   "source": [
    "session.query(SecuritiesEx.cusip, SecuritiesEx.ticker, SecuritiesEx.indsec, SecuritiesEx.indgrp).all()"
   ]
  },
  {
   "cell_type": "code",
   "execution_count": 18,
   "metadata": {
    "collapsed": false
   },
   "outputs": [
    {
     "data": {
      "text/plain": [
       "[]"
      ]
     },
     "execution_count": 18,
     "metadata": {},
     "output_type": "execute_result"
    }
   ],
   "source": [
    "session.query(SecuritiesEx.ticker, SecuritiesEx.cusip, SecuritiesEx.indsec, SecuritiesEx.indgrp)\\\n",
    "    .filter(or_(SecuritiesEx.ticker == '',\\\n",
    "                SecuritiesEx.indsec == None, SecuritiesEx.indgrp == None,\\\n",
    "                SecuritiesEx.indsec == 'None', SecuritiesEx.indgrp == 'None'))\\\n",
    "    .all()\n"
   ]
  },
  {
   "cell_type": "code",
   "execution_count": 19,
   "metadata": {
    "collapsed": true
   },
   "outputs": [],
   "source": [
    "session.close()"
   ]
  },
  {
   "cell_type": "code",
   "execution_count": null,
   "metadata": {
    "collapsed": true
   },
   "outputs": [],
   "source": []
  },
  {
   "cell_type": "code",
   "execution_count": null,
   "metadata": {
    "collapsed": true
   },
   "outputs": [],
   "source": []
  }
 ],
 "metadata": {
  "kernelspec": {
   "display_name": "Python 3",
   "language": "python",
   "name": "python3"
  },
  "language_info": {
   "codemirror_mode": {
    "name": "ipython",
    "version": 3
   },
   "file_extension": ".py",
   "mimetype": "text/x-python",
   "name": "python",
   "nbconvert_exporter": "python",
   "pygments_lexer": "ipython3",
   "version": "3.6.0"
  }
 },
 "nbformat": 4,
 "nbformat_minor": 2
}
