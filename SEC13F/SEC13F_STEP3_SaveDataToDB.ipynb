{
 "cells": [
  {
   "cell_type": "code",
   "execution_count": 46,
   "metadata": {
    "collapsed": true
   },
   "outputs": [],
   "source": [
    "import pandas as pd\n",
    "import numpy as np\n",
    "import os"
   ]
  },
  {
   "cell_type": "code",
   "execution_count": 47,
   "metadata": {
    "collapsed": true
   },
   "outputs": [],
   "source": [
    "csvfile = \"./sec13f_clean_data.csv\"\n",
    "df = pd.read_csv(csvfile,dtype=object)"
   ]
  },
  {
   "cell_type": "code",
   "execution_count": 48,
   "metadata": {
    "collapsed": false
   },
   "outputs": [
    {
     "data": {
      "text/html": [
       "<div>\n",
       "<table border=\"1\" class=\"dataframe\">\n",
       "  <thead>\n",
       "    <tr style=\"text-align: right;\">\n",
       "      <th></th>\n",
       "      <th>file_date</th>\n",
       "      <th>name</th>\n",
       "      <th>cusip</th>\n",
       "      <th>mval</th>\n",
       "      <th>shares</th>\n",
       "    </tr>\n",
       "  </thead>\n",
       "  <tbody>\n",
       "    <tr>\n",
       "      <th>0</th>\n",
       "      <td>2013-06-30</td>\n",
       "      <td>AMERICAN EXPRESS CO</td>\n",
       "      <td>025816109</td>\n",
       "      <td>145942</td>\n",
       "      <td>1952142</td>\n",
       "    </tr>\n",
       "    <tr>\n",
       "      <th>1</th>\n",
       "      <td>2013-06-30</td>\n",
       "      <td>AMERICAN EXPRESS CO</td>\n",
       "      <td>025816109</td>\n",
       "      <td>1287771</td>\n",
       "      <td>17225400</td>\n",
       "    </tr>\n",
       "    <tr>\n",
       "      <th>2</th>\n",
       "      <td>2013-06-30</td>\n",
       "      <td>AMERICAN EXPRESS CO</td>\n",
       "      <td>025816109</td>\n",
       "      <td>62786</td>\n",
       "      <td>839832</td>\n",
       "    </tr>\n",
       "    <tr>\n",
       "      <th>3</th>\n",
       "      <td>2013-06-30</td>\n",
       "      <td>AMERICAN EXPRESS CO</td>\n",
       "      <td>025816109</td>\n",
       "      <td>145266</td>\n",
       "      <td>1943100</td>\n",
       "    </tr>\n",
       "    <tr>\n",
       "      <th>4</th>\n",
       "      <td>2013-06-30</td>\n",
       "      <td>AMERICAN EXPRESS CO</td>\n",
       "      <td>025816109</td>\n",
       "      <td>597679</td>\n",
       "      <td>7994634</td>\n",
       "    </tr>\n",
       "  </tbody>\n",
       "</table>\n",
       "</div>"
      ],
      "text/plain": [
       "    file_date                 name      cusip     mval    shares\n",
       "0  2013-06-30  AMERICAN EXPRESS CO  025816109   145942   1952142\n",
       "1  2013-06-30  AMERICAN EXPRESS CO  025816109  1287771  17225400\n",
       "2  2013-06-30  AMERICAN EXPRESS CO  025816109    62786    839832\n",
       "3  2013-06-30  AMERICAN EXPRESS CO  025816109   145266   1943100\n",
       "4  2013-06-30  AMERICAN EXPRESS CO  025816109   597679   7994634"
      ]
     },
     "execution_count": 48,
     "metadata": {},
     "output_type": "execute_result"
    }
   ],
   "source": [
    "df.head()"
   ]
  },
  {
   "cell_type": "code",
   "execution_count": 57,
   "metadata": {
    "collapsed": false
   },
   "outputs": [],
   "source": [
    "import sqlalchemy\n",
    "from sqlalchemy import create_engine, MetaData\n",
    "from sqlalchemy.ext.declarative import declarative_base\n",
    "from sqlalchemy import Column, Integer, String, Numeric, Text, Float"
   ]
  },
  {
   "cell_type": "code",
   "execution_count": 50,
   "metadata": {
    "collapsed": true
   },
   "outputs": [],
   "source": [
    "# create an engine to sqlite db\n",
    "engine = create_engine(\"sqlite:///sec13f.sqlite\")"
   ]
  },
  {
   "cell_type": "code",
   "execution_count": 51,
   "metadata": {
    "collapsed": true
   },
   "outputs": [],
   "source": [
    "# Create a connection to the engine called conn\n",
    "conn = engine.connect()"
   ]
  },
  {
   "cell_type": "code",
   "execution_count": 52,
   "metadata": {
    "collapsed": true
   },
   "outputs": [],
   "source": [
    "# Use `declarative_base` from SQLAlchemy to connect your class to your sqlite database\n",
    "Base = declarative_base()"
   ]
  },
  {
   "cell_type": "code",
   "execution_count": 53,
   "metadata": {
    "collapsed": false
   },
   "outputs": [],
   "source": [
    "class Position(Base):\n",
    "    __tablename__ = 'positions'\n",
    "    id = Column(Integer, primary_key=True)\n",
    "    file_date = Column(Text)\n",
    "    name = Column(Text)\n",
    "    cusip = Column(Text)\n",
    "    mval = Column(Integer)\n",
    "    shares = Column (Integer)\n",
    "    \n",
    "    def __repr__(self):\n",
    "        return f\"file_date={self.file_date}, name={self.name}, cusip={self.cusip}, mval={self.mval}, shares={self.shares}\"\n",
    "    "
   ]
  },
  {
   "cell_type": "code",
   "execution_count": 54,
   "metadata": {
    "collapsed": true
   },
   "outputs": [],
   "source": [
    "# Use `create_all` to create the positions table in the database\n",
    "Base.metadata.create_all(engine)"
   ]
  },
  {
   "cell_type": "code",
   "execution_count": 55,
   "metadata": {
    "collapsed": true
   },
   "outputs": [],
   "source": [
    "# Use MetaData from SQLAlchemy to reflect the tables\\n\",\n",
    "metadata = MetaData(bind=engine)\n",
    "metadata.reflect()"
   ]
  },
  {
   "cell_type": "code",
   "execution_count": 58,
   "metadata": {
    "collapsed": false
   },
   "outputs": [],
   "source": [
    "# Save the reference to the `positions` table as a variable called `table`\n",
    "table = sqlalchemy.Table('positions', metadata, autoload=True)"
   ]
  },
  {
   "cell_type": "code",
   "execution_count": 59,
   "metadata": {
    "collapsed": false
   },
   "outputs": [
    {
     "data": {
      "text/plain": [
       "<sqlalchemy.engine.result.ResultProxy at 0x1c4b5dc5be0>"
      ]
     },
     "execution_count": 59,
     "metadata": {},
     "output_type": "execute_result"
    }
   ],
   "source": [
    "# Use `table.delete()` to remove any existing data.\n",
    "conn.execute(table.delete())"
   ]
  },
  {
   "cell_type": "code",
   "execution_count": 60,
   "metadata": {
    "collapsed": false
   },
   "outputs": [
    {
     "data": {
      "text/plain": [
       "<sqlalchemy.engine.result.ResultProxy at 0x1c4b5e15160>"
      ]
     },
     "execution_count": 60,
     "metadata": {},
     "output_type": "execute_result"
    }
   ],
   "source": [
    "data = df.to_dict(orient='records')\n",
    "conn.execute(table.insert(), data)"
   ]
  },
  {
   "cell_type": "code",
   "execution_count": 61,
   "metadata": {
    "collapsed": false
   },
   "outputs": [
    {
     "data": {
      "text/plain": [
       "[(1, '2013-06-30', 'AMERICAN EXPRESS CO', '025816109', 145942, 1952142),\n",
       " (2, '2013-06-30', 'AMERICAN EXPRESS CO', '025816109', 1287771, 17225400),\n",
       " (3, '2013-06-30', 'AMERICAN EXPRESS CO', '025816109', 62786, 839832),\n",
       " (4, '2013-06-30', 'AMERICAN EXPRESS CO', '025816109', 145266, 1943100),\n",
       " (5, '2013-06-30', 'AMERICAN EXPRESS CO', '025816109', 597679, 7994634)]"
      ]
     },
     "execution_count": 61,
     "metadata": {},
     "output_type": "execute_result"
    }
   ],
   "source": [
    "conn.execute(\"select * from positions limit 5\").fetchall()"
   ]
  },
  {
   "cell_type": "code",
   "execution_count": null,
   "metadata": {
    "collapsed": true
   },
   "outputs": [],
   "source": []
  }
 ],
 "metadata": {
  "kernelspec": {
   "display_name": "Python 3",
   "language": "python",
   "name": "python3"
  },
  "language_info": {
   "codemirror_mode": {
    "name": "ipython",
    "version": 3
   },
   "file_extension": ".py",
   "mimetype": "text/x-python",
   "name": "python",
   "nbconvert_exporter": "python",
   "pygments_lexer": "ipython3",
   "version": "3.6.0"
  }
 },
 "nbformat": 4,
 "nbformat_minor": 2
}
