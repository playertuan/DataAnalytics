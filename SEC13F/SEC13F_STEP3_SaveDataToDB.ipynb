{
 "cells": [
  {
   "cell_type": "code",
   "execution_count": 1,
   "metadata": {
    "collapsed": true
   },
   "outputs": [],
   "source": [
    "import pandas as pd\n",
    "import numpy as np\n",
    "import os\n",
    "from config import *"
   ]
  },
  {
   "cell_type": "code",
   "execution_count": 2,
   "metadata": {
    "collapsed": true
   },
   "outputs": [],
   "source": [
    "csvfile = \"./sec13f_clean_data.csv\"\n",
    "df = pd.read_csv(csvfile,dtype=object)"
   ]
  },
  {
   "cell_type": "code",
   "execution_count": 3,
   "metadata": {
    "collapsed": false
   },
   "outputs": [
    {
     "data": {
      "text/html": [
       "<div>\n",
       "<table border=\"1\" class=\"dataframe\">\n",
       "  <thead>\n",
       "    <tr style=\"text-align: right;\">\n",
       "      <th></th>\n",
       "      <th>file_date</th>\n",
       "      <th>name</th>\n",
       "      <th>cusip</th>\n",
       "      <th>mval</th>\n",
       "      <th>shares</th>\n",
       "    </tr>\n",
       "  </thead>\n",
       "  <tbody>\n",
       "    <tr>\n",
       "      <th>0</th>\n",
       "      <td>2013-06-30</td>\n",
       "      <td>AMERICAN EXPRESS CO</td>\n",
       "      <td>025816109</td>\n",
       "      <td>145942</td>\n",
       "      <td>1952142</td>\n",
       "    </tr>\n",
       "    <tr>\n",
       "      <th>1</th>\n",
       "      <td>2013-06-30</td>\n",
       "      <td>AMERICAN EXPRESS CO</td>\n",
       "      <td>025816109</td>\n",
       "      <td>1287771</td>\n",
       "      <td>17225400</td>\n",
       "    </tr>\n",
       "    <tr>\n",
       "      <th>2</th>\n",
       "      <td>2013-06-30</td>\n",
       "      <td>AMERICAN EXPRESS CO</td>\n",
       "      <td>025816109</td>\n",
       "      <td>62786</td>\n",
       "      <td>839832</td>\n",
       "    </tr>\n",
       "    <tr>\n",
       "      <th>3</th>\n",
       "      <td>2013-06-30</td>\n",
       "      <td>AMERICAN EXPRESS CO</td>\n",
       "      <td>025816109</td>\n",
       "      <td>145266</td>\n",
       "      <td>1943100</td>\n",
       "    </tr>\n",
       "    <tr>\n",
       "      <th>4</th>\n",
       "      <td>2013-06-30</td>\n",
       "      <td>AMERICAN EXPRESS CO</td>\n",
       "      <td>025816109</td>\n",
       "      <td>597679</td>\n",
       "      <td>7994634</td>\n",
       "    </tr>\n",
       "  </tbody>\n",
       "</table>\n",
       "</div>"
      ],
      "text/plain": [
       "    file_date                 name      cusip     mval    shares\n",
       "0  2013-06-30  AMERICAN EXPRESS CO  025816109   145942   1952142\n",
       "1  2013-06-30  AMERICAN EXPRESS CO  025816109  1287771  17225400\n",
       "2  2013-06-30  AMERICAN EXPRESS CO  025816109    62786    839832\n",
       "3  2013-06-30  AMERICAN EXPRESS CO  025816109   145266   1943100\n",
       "4  2013-06-30  AMERICAN EXPRESS CO  025816109   597679   7994634"
      ]
     },
     "execution_count": 3,
     "metadata": {},
     "output_type": "execute_result"
    }
   ],
   "source": [
    "df.head()"
   ]
  },
  {
   "cell_type": "code",
   "execution_count": 4,
   "metadata": {
    "collapsed": false
   },
   "outputs": [],
   "source": [
    "import sqlalchemy\n",
    "from sqlalchemy import create_engine, MetaData\n",
    "from sqlalchemy.ext.declarative import declarative_base\n",
    "from sqlalchemy import Column, Integer, String, Numeric, Text, Float"
   ]
  },
  {
   "cell_type": "code",
   "execution_count": 5,
   "metadata": {
    "collapsed": false
   },
   "outputs": [
    {
     "name": "stdout",
     "output_type": "stream",
     "text": [
      "sec13f\n"
     ]
    }
   ],
   "source": [
    "# create an engine to postgresql db\n",
    "user = config['psql_user']\n",
    "password = config['psql_pwd']\n",
    "host = 'localhost'\n",
    "port = '5432'\n",
    "db = config['psql_db']\n",
    "url = 'postgresql://{}:{}@{}:{}/{}'\n",
    "url = url.format(user, password, host, port, db)\n",
    "print(db)\n",
    "\n",
    "# The return value of create_engine() is our connection object\n",
    "engine = sqlalchemy.create_engine(url, client_encoding='utf8')"
   ]
  },
  {
   "cell_type": "code",
   "execution_count": 6,
   "metadata": {
    "collapsed": false
   },
   "outputs": [],
   "source": [
    "# Create a connection to the engine called conn\n",
    "conn = engine.connect()"
   ]
  },
  {
   "cell_type": "code",
   "execution_count": 7,
   "metadata": {
    "collapsed": true
   },
   "outputs": [],
   "source": [
    "# Use `declarative_base` from SQLAlchemy to connect your class to your PostgreSQL database\n",
    "Base = declarative_base()"
   ]
  },
  {
   "cell_type": "code",
   "execution_count": 8,
   "metadata": {
    "collapsed": false
   },
   "outputs": [],
   "source": [
    "class Position(Base):\n",
    "    __tablename__ = 'positions'\n",
    "    id = Column(Integer, primary_key=True)\n",
    "    file_date = Column(Text)\n",
    "    name = Column(Text)\n",
    "    cusip = Column(Text)\n",
    "    mval = Column(Integer)\n",
    "    shares = Column (Integer)\n",
    "    \n",
    "    def __repr__(self):\n",
    "        return f\"file_date={self.file_date}, name={self.name}, cusip={self.cusip}, mval={self.mval}, shares={self.shares}\"\n",
    "    "
   ]
  },
  {
   "cell_type": "code",
   "execution_count": 9,
   "metadata": {
    "collapsed": true
   },
   "outputs": [],
   "source": [
    "# Use `create_all` to create the positions table in the database\n",
    "Base.metadata.create_all(engine)"
   ]
  },
  {
   "cell_type": "code",
   "execution_count": 10,
   "metadata": {
    "collapsed": true
   },
   "outputs": [],
   "source": [
    "# Use MetaData from SQLAlchemy to reflect the tables\\n\",\n",
    "metadata = MetaData(bind=engine)\n",
    "metadata.reflect()"
   ]
  },
  {
   "cell_type": "code",
   "execution_count": 11,
   "metadata": {
    "collapsed": false
   },
   "outputs": [],
   "source": [
    "# Save the reference to the `positions` table as a variable called `table`\n",
    "table = sqlalchemy.Table('positions', metadata, autoload=True)"
   ]
  },
  {
   "cell_type": "code",
   "execution_count": 12,
   "metadata": {
    "collapsed": false
   },
   "outputs": [
    {
     "data": {
      "text/plain": [
       "<sqlalchemy.engine.result.ResultProxy at 0x1b209402828>"
      ]
     },
     "execution_count": 12,
     "metadata": {},
     "output_type": "execute_result"
    }
   ],
   "source": [
    "# Use `table.delete()` to remove any existing data.\n",
    "conn.execute(table.delete())"
   ]
  },
  {
   "cell_type": "code",
   "execution_count": 13,
   "metadata": {
    "collapsed": false
   },
   "outputs": [
    {
     "data": {
      "text/plain": [
       "<sqlalchemy.engine.result.ResultProxy at 0x1b207ac5fd0>"
      ]
     },
     "execution_count": 13,
     "metadata": {},
     "output_type": "execute_result"
    }
   ],
   "source": [
    "data = df.to_dict(orient='records')\n",
    "conn.execute(table.insert(), data)"
   ]
  },
  {
   "cell_type": "code",
   "execution_count": 14,
   "metadata": {
    "collapsed": false
   },
   "outputs": [
    {
     "data": {
      "text/plain": [
       "[(1, '2013-06-30', 'AMERICAN EXPRESS CO', '025816109', 145942, 1952142),\n",
       " (2, '2013-06-30', 'AMERICAN EXPRESS CO', '025816109', 1287771, 17225400),\n",
       " (3, '2013-06-30', 'AMERICAN EXPRESS CO', '025816109', 62786, 839832),\n",
       " (4, '2013-06-30', 'AMERICAN EXPRESS CO', '025816109', 145266, 1943100),\n",
       " (5, '2013-06-30', 'AMERICAN EXPRESS CO', '025816109', 597679, 7994634)]"
      ]
     },
     "execution_count": 14,
     "metadata": {},
     "output_type": "execute_result"
    }
   ],
   "source": [
    "conn.execute(\"select * from positions limit 5\").fetchall()"
   ]
  },
  {
   "cell_type": "code",
   "execution_count": null,
   "metadata": {
    "collapsed": true
   },
   "outputs": [],
   "source": []
  }
 ],
 "metadata": {
  "kernelspec": {
   "display_name": "Python 3",
   "language": "python",
   "name": "python3"
  },
  "language_info": {
   "codemirror_mode": {
    "name": "ipython",
    "version": 3
   },
   "file_extension": ".py",
   "mimetype": "text/x-python",
   "name": "python",
   "nbconvert_exporter": "python",
   "pygments_lexer": "ipython3",
   "version": "3.6.0"
  }
 },
 "nbformat": 4,
 "nbformat_minor": 2
}
