{
 "cells": [
  {
   "cell_type": "code",
   "execution_count": 174,
   "metadata": {
    "collapsed": false
   },
   "outputs": [],
   "source": [
    "#!pip install citipy"
   ]
  },
  {
   "cell_type": "markdown",
   "metadata": {},
   "source": [
    "### Student: Angela Shane\n",
    "#### Homework 06: WeatherPy\n",
    "\n",
    "#### Analysis\n",
    "* Observation 1\n",
    "* Observation 2\n",
    "* Observation 3"
   ]
  },
  {
   "cell_type": "code",
   "execution_count": 175,
   "metadata": {
    "collapsed": false
   },
   "outputs": [],
   "source": [
    "import json\n",
    "import requests\n",
    "import pandas as pd\n",
    "from citipy import citipy\n",
    "from random import uniform\n",
    "import matplotlib.pyplot as plt\n",
    "import seaborn as sns\n",
    "from datetime import datetime"
   ]
  },
  {
   "cell_type": "code",
   "execution_count": 176,
   "metadata": {
    "collapsed": true
   },
   "outputs": [],
   "source": [
    "cities_df = pd.DataFrame(columns=(\"city\",\"country\",\"lat\",\"lng\",\"temp\",\"humidity\",\"cloudiness\",\"wind_speed\"))"
   ]
  },
  {
   "cell_type": "code",
   "execution_count": 177,
   "metadata": {
    "collapsed": false
   },
   "outputs": [],
   "source": [
    "def getCoordinates():\n",
    "   return uniform(-90, 90),uniform(-180,180)"
   ]
  },
  {
   "cell_type": "markdown",
   "metadata": {},
   "source": [
    "#### Generate Random Cities"
   ]
  },
  {
   "cell_type": "code",
   "execution_count": 178,
   "metadata": {
    "collapsed": false
   },
   "outputs": [
    {
     "data": {
      "text/html": [
       "<div>\n",
       "<table border=\"1\" class=\"dataframe\">\n",
       "  <thead>\n",
       "    <tr style=\"text-align: right;\">\n",
       "      <th></th>\n",
       "      <th>city</th>\n",
       "      <th>country</th>\n",
       "      <th>lat</th>\n",
       "      <th>lng</th>\n",
       "      <th>temp</th>\n",
       "      <th>humidity</th>\n",
       "      <th>cloudiness</th>\n",
       "      <th>wind_speed</th>\n",
       "    </tr>\n",
       "  </thead>\n",
       "  <tbody>\n",
       "    <tr>\n",
       "      <th>0</th>\n",
       "      <td>port alfred</td>\n",
       "      <td>za</td>\n",
       "      <td>-65.085176</td>\n",
       "      <td>39.382394</td>\n",
       "      <td></td>\n",
       "      <td></td>\n",
       "      <td></td>\n",
       "      <td></td>\n",
       "    </tr>\n",
       "    <tr>\n",
       "      <th>1</th>\n",
       "      <td>port hedland</td>\n",
       "      <td>au</td>\n",
       "      <td>-25.344922</td>\n",
       "      <td>121.281325</td>\n",
       "      <td></td>\n",
       "      <td></td>\n",
       "      <td></td>\n",
       "      <td></td>\n",
       "    </tr>\n",
       "    <tr>\n",
       "      <th>2</th>\n",
       "      <td>rikitea</td>\n",
       "      <td>pf</td>\n",
       "      <td>-77.611720</td>\n",
       "      <td>-125.665932</td>\n",
       "      <td></td>\n",
       "      <td></td>\n",
       "      <td></td>\n",
       "      <td></td>\n",
       "    </tr>\n",
       "    <tr>\n",
       "      <th>3</th>\n",
       "      <td>port elizabeth</td>\n",
       "      <td>za</td>\n",
       "      <td>-54.981464</td>\n",
       "      <td>28.585009</td>\n",
       "      <td></td>\n",
       "      <td></td>\n",
       "      <td></td>\n",
       "      <td></td>\n",
       "    </tr>\n",
       "    <tr>\n",
       "      <th>4</th>\n",
       "      <td>kholtoson</td>\n",
       "      <td>ru</td>\n",
       "      <td>49.730985</td>\n",
       "      <td>101.793781</td>\n",
       "      <td></td>\n",
       "      <td></td>\n",
       "      <td></td>\n",
       "      <td></td>\n",
       "    </tr>\n",
       "    <tr>\n",
       "      <th>5</th>\n",
       "      <td>albany</td>\n",
       "      <td>au</td>\n",
       "      <td>-89.381032</td>\n",
       "      <td>94.654439</td>\n",
       "      <td></td>\n",
       "      <td></td>\n",
       "      <td></td>\n",
       "      <td></td>\n",
       "    </tr>\n",
       "    <tr>\n",
       "      <th>6</th>\n",
       "      <td>iqaluit</td>\n",
       "      <td>ca</td>\n",
       "      <td>62.923611</td>\n",
       "      <td>-73.321897</td>\n",
       "      <td></td>\n",
       "      <td></td>\n",
       "      <td></td>\n",
       "      <td></td>\n",
       "    </tr>\n",
       "    <tr>\n",
       "      <th>7</th>\n",
       "      <td>xinan</td>\n",
       "      <td>cn</td>\n",
       "      <td>34.060009</td>\n",
       "      <td>118.369180</td>\n",
       "      <td></td>\n",
       "      <td></td>\n",
       "      <td></td>\n",
       "      <td></td>\n",
       "    </tr>\n",
       "    <tr>\n",
       "      <th>8</th>\n",
       "      <td>atar</td>\n",
       "      <td>mr</td>\n",
       "      <td>19.606517</td>\n",
       "      <td>-10.280338</td>\n",
       "      <td></td>\n",
       "      <td></td>\n",
       "      <td></td>\n",
       "      <td></td>\n",
       "    </tr>\n",
       "    <tr>\n",
       "      <th>9</th>\n",
       "      <td>cape town</td>\n",
       "      <td>za</td>\n",
       "      <td>-56.101375</td>\n",
       "      <td>-3.159132</td>\n",
       "      <td></td>\n",
       "      <td></td>\n",
       "      <td></td>\n",
       "      <td></td>\n",
       "    </tr>\n",
       "  </tbody>\n",
       "</table>\n",
       "</div>"
      ],
      "text/plain": [
       "             city country        lat         lng temp humidity cloudiness  \\\n",
       "0     port alfred      za -65.085176   39.382394                            \n",
       "1    port hedland      au -25.344922  121.281325                            \n",
       "2         rikitea      pf -77.611720 -125.665932                            \n",
       "3  port elizabeth      za -54.981464   28.585009                            \n",
       "4       kholtoson      ru  49.730985  101.793781                            \n",
       "5          albany      au -89.381032   94.654439                            \n",
       "6         iqaluit      ca  62.923611  -73.321897                            \n",
       "7           xinan      cn  34.060009  118.369180                            \n",
       "8            atar      mr  19.606517  -10.280338                            \n",
       "9       cape town      za -56.101375   -3.159132                            \n",
       "\n",
       "  wind_speed  \n",
       "0             \n",
       "1             \n",
       "2             \n",
       "3             \n",
       "4             \n",
       "5             \n",
       "6             \n",
       "7             \n",
       "8             \n",
       "9             "
      ]
     },
     "execution_count": 178,
     "metadata": {},
     "output_type": "execute_result"
    }
   ],
   "source": [
    "points = (getCoordinates() for x in range(10))\n",
    "for idx, point in enumerate(points):\n",
    "    city = citipy.nearest_city(point[0], point[1])\n",
    "    #print(f\"city: {city.city_name} country: {city.country_code}, coordinates: {point}\")\n",
    "    cities_df.loc[idx] = [city.city_name, city.country_code, point[0], point[1],'','','','']\n",
    "cities_df.head(10)"
   ]
  },
  {
   "cell_type": "code",
   "execution_count": 179,
   "metadata": {
    "collapsed": false
   },
   "outputs": [
    {
     "data": {
      "text/plain": [
       "'08/15/2017'"
      ]
     },
     "execution_count": 179,
     "metadata": {},
     "output_type": "execute_result"
    }
   ],
   "source": [
    "chart_date = datetime.now().strftime('%m/%d/%Y')\n",
    "chart_date"
   ]
  },
  {
   "cell_type": "markdown",
   "metadata": {},
   "source": [
    "#### Call Weather API to retrieve weather information for each city"
   ]
  },
  {
   "cell_type": "code",
   "execution_count": 180,
   "metadata": {
    "collapsed": false
   },
   "outputs": [
    {
     "name": "stdout",
     "output_type": "stream",
     "text": [
      "Now retrieving weather for #0, city: port alfred\n",
      "http://api.openweathermap.org/data/2.5/weather?appid=25bc90a1196e6f153eece0bc0b0fc9eb&lat=-65.08517615703147&lon=39.38239419575427&units=imperial&mode=json\n",
      "Now retrieving weather for #1, city: port hedland\n",
      "http://api.openweathermap.org/data/2.5/weather?appid=25bc90a1196e6f153eece0bc0b0fc9eb&lat=-25.344922416973816&lon=121.28132466437785&units=imperial&mode=json\n",
      "Now retrieving weather for #2, city: rikitea\n",
      "http://api.openweathermap.org/data/2.5/weather?appid=25bc90a1196e6f153eece0bc0b0fc9eb&lat=-77.61172019768658&lon=-125.6659319319227&units=imperial&mode=json\n",
      "Now retrieving weather for #3, city: port elizabeth\n",
      "http://api.openweathermap.org/data/2.5/weather?appid=25bc90a1196e6f153eece0bc0b0fc9eb&lat=-54.98146409998668&lon=28.585008732372387&units=imperial&mode=json\n",
      "Now retrieving weather for #4, city: kholtoson\n",
      "http://api.openweathermap.org/data/2.5/weather?appid=25bc90a1196e6f153eece0bc0b0fc9eb&lat=49.73098473647312&lon=101.7937805003076&units=imperial&mode=json\n",
      "Now retrieving weather for #5, city: albany\n",
      "http://api.openweathermap.org/data/2.5/weather?appid=25bc90a1196e6f153eece0bc0b0fc9eb&lat=-89.38103195041603&lon=94.65443870043782&units=imperial&mode=json\n",
      "Now retrieving weather for #6, city: iqaluit\n",
      "http://api.openweathermap.org/data/2.5/weather?appid=25bc90a1196e6f153eece0bc0b0fc9eb&lat=62.92361082269096&lon=-73.3218969962514&units=imperial&mode=json\n",
      "Now retrieving weather for #7, city: xinan\n",
      "http://api.openweathermap.org/data/2.5/weather?appid=25bc90a1196e6f153eece0bc0b0fc9eb&lat=34.06000859549644&lon=118.36917981689191&units=imperial&mode=json\n",
      "Now retrieving weather for #8, city: atar\n",
      "http://api.openweathermap.org/data/2.5/weather?appid=25bc90a1196e6f153eece0bc0b0fc9eb&lat=19.606516800320847&lon=-10.280338443604336&units=imperial&mode=json\n",
      "Now retrieving weather for #9, city: cape town\n",
      "http://api.openweathermap.org/data/2.5/weather?appid=25bc90a1196e6f153eece0bc0b0fc9eb&lat=-56.10137509294719&lon=-3.1591318223057385&units=imperial&mode=json\n"
     ]
    },
    {
     "data": {
      "text/html": [
       "<div>\n",
       "<table border=\"1\" class=\"dataframe\">\n",
       "  <thead>\n",
       "    <tr style=\"text-align: right;\">\n",
       "      <th></th>\n",
       "      <th>city</th>\n",
       "      <th>country</th>\n",
       "      <th>lat</th>\n",
       "      <th>lng</th>\n",
       "      <th>temp</th>\n",
       "      <th>humidity</th>\n",
       "      <th>cloudiness</th>\n",
       "      <th>wind_speed</th>\n",
       "    </tr>\n",
       "  </thead>\n",
       "  <tbody>\n",
       "    <tr>\n",
       "      <th>0</th>\n",
       "      <td>port alfred</td>\n",
       "      <td>za</td>\n",
       "      <td>-65.085176</td>\n",
       "      <td>39.382394</td>\n",
       "      <td>2.65</td>\n",
       "      <td>92</td>\n",
       "      <td>44</td>\n",
       "      <td>38.63</td>\n",
       "    </tr>\n",
       "    <tr>\n",
       "      <th>1</th>\n",
       "      <td>port hedland</td>\n",
       "      <td>au</td>\n",
       "      <td>-25.344922</td>\n",
       "      <td>121.281325</td>\n",
       "      <td>44.05</td>\n",
       "      <td>58</td>\n",
       "      <td>0</td>\n",
       "      <td>9.78</td>\n",
       "    </tr>\n",
       "    <tr>\n",
       "      <th>2</th>\n",
       "      <td>rikitea</td>\n",
       "      <td>pf</td>\n",
       "      <td>-77.611720</td>\n",
       "      <td>-125.665932</td>\n",
       "      <td>-16.43</td>\n",
       "      <td>71</td>\n",
       "      <td>24</td>\n",
       "      <td>39.53</td>\n",
       "    </tr>\n",
       "    <tr>\n",
       "      <th>3</th>\n",
       "      <td>port elizabeth</td>\n",
       "      <td>za</td>\n",
       "      <td>-54.981464</td>\n",
       "      <td>28.585009</td>\n",
       "      <td>25.15</td>\n",
       "      <td>100</td>\n",
       "      <td>64</td>\n",
       "      <td>31.03</td>\n",
       "    </tr>\n",
       "    <tr>\n",
       "      <th>4</th>\n",
       "      <td>kholtoson</td>\n",
       "      <td>ru</td>\n",
       "      <td>49.730985</td>\n",
       "      <td>101.793781</td>\n",
       "      <td>54.94</td>\n",
       "      <td>99</td>\n",
       "      <td>92</td>\n",
       "      <td>2.51</td>\n",
       "    </tr>\n",
       "    <tr>\n",
       "      <th>5</th>\n",
       "      <td>albany</td>\n",
       "      <td>au</td>\n",
       "      <td>-89.381032</td>\n",
       "      <td>94.654439</td>\n",
       "      <td>-59.36</td>\n",
       "      <td>0</td>\n",
       "      <td>32</td>\n",
       "      <td>16.93</td>\n",
       "    </tr>\n",
       "    <tr>\n",
       "      <th>6</th>\n",
       "      <td>iqaluit</td>\n",
       "      <td>ca</td>\n",
       "      <td>62.923611</td>\n",
       "      <td>-73.321897</td>\n",
       "      <td>41.26</td>\n",
       "      <td>97</td>\n",
       "      <td>8</td>\n",
       "      <td>3.74</td>\n",
       "    </tr>\n",
       "    <tr>\n",
       "      <th>7</th>\n",
       "      <td>xinan</td>\n",
       "      <td>cn</td>\n",
       "      <td>34.060009</td>\n",
       "      <td>118.369180</td>\n",
       "      <td>72.13</td>\n",
       "      <td>96</td>\n",
       "      <td>80</td>\n",
       "      <td>2.73</td>\n",
       "    </tr>\n",
       "    <tr>\n",
       "      <th>8</th>\n",
       "      <td>atar</td>\n",
       "      <td>mr</td>\n",
       "      <td>19.606517</td>\n",
       "      <td>-10.280338</td>\n",
       "      <td>92.74</td>\n",
       "      <td>25</td>\n",
       "      <td>64</td>\n",
       "      <td>7.2</td>\n",
       "    </tr>\n",
       "    <tr>\n",
       "      <th>9</th>\n",
       "      <td>cape town</td>\n",
       "      <td>za</td>\n",
       "      <td>-56.101375</td>\n",
       "      <td>-3.159132</td>\n",
       "      <td>25.78</td>\n",
       "      <td>97</td>\n",
       "      <td>64</td>\n",
       "      <td>14.47</td>\n",
       "    </tr>\n",
       "  </tbody>\n",
       "</table>\n",
       "</div>"
      ],
      "text/plain": [
       "             city country        lat         lng   temp humidity cloudiness  \\\n",
       "0     port alfred      za -65.085176   39.382394   2.65       92         44   \n",
       "1    port hedland      au -25.344922  121.281325  44.05       58          0   \n",
       "2         rikitea      pf -77.611720 -125.665932 -16.43       71         24   \n",
       "3  port elizabeth      za -54.981464   28.585009  25.15      100         64   \n",
       "4       kholtoson      ru  49.730985  101.793781  54.94       99         92   \n",
       "5          albany      au -89.381032   94.654439 -59.36        0         32   \n",
       "6         iqaluit      ca  62.923611  -73.321897  41.26       97          8   \n",
       "7           xinan      cn  34.060009  118.369180  72.13       96         80   \n",
       "8            atar      mr  19.606517  -10.280338  92.74       25         64   \n",
       "9       cape town      za -56.101375   -3.159132  25.78       97         64   \n",
       "\n",
       "  wind_speed  \n",
       "0      38.63  \n",
       "1       9.78  \n",
       "2      39.53  \n",
       "3      31.03  \n",
       "4       2.51  \n",
       "5      16.93  \n",
       "6       3.74  \n",
       "7       2.73  \n",
       "8        7.2  \n",
       "9      14.47  "
      ]
     },
     "execution_count": 180,
     "metadata": {},
     "output_type": "execute_result"
    }
   ],
   "source": [
    "api_key = \"25bc90a1196e6f153eece0bc0b0fc9eb\"\n",
    "url = \"http://api.openweathermap.org/data/2.5/weather?\"\n",
    "for idx, row in cities_df.iterrows():\n",
    "    print(\"Now retrieving weather for #%s, city: %s\" % ( idx, row['city']))\n",
    "    query_url = url + \"appid=\" + api_key + \"&lat=\" + str(row[\"lat\"]) + \"&lon=\" + str(row[\"lng\"]) + \"&units=imperial&mode=json\"\n",
    "    print(query_url)\n",
    "    weather_response = requests.get(query_url)\n",
    "    weather_json = weather_response.json()\n",
    "    try:\n",
    "        cities_df.set_value(idx,'temp',weather_json[\"main\"][\"temp\"])\n",
    "        cities_df.set_value(idx,'humidity',weather_json[\"main\"][\"humidity\"])\n",
    "        cities_df.set_value(idx,'cloudiness',weather_json[\"clouds\"][\"all\"])\n",
    "        cities_df.set_value(idx,'wind_speed',weather_json[\"wind\"][\"speed\"])\n",
    "    except:\n",
    "        print(\"skipping city %s\" % (row['city']))\n",
    "cities_df.head(10)"
   ]
  },
  {
   "cell_type": "markdown",
   "metadata": {},
   "source": [
    "#### Output city weather information to csv"
   ]
  },
  {
   "cell_type": "code",
   "execution_count": 181,
   "metadata": {
    "collapsed": false
   },
   "outputs": [],
   "source": [
    "cities_df.to_csv('weather_cities.csv')"
   ]
  },
  {
   "cell_type": "markdown",
   "metadata": {},
   "source": [
    "#### Generate series data for chart"
   ]
  },
  {
   "cell_type": "code",
   "execution_count": 182,
   "metadata": {
    "collapsed": false
   },
   "outputs": [],
   "source": [
    "axis_lat = []\n",
    "axis_temp = []\n",
    "axis_humd = []\n",
    "axis_cloud = []\n",
    "axis_wind = []\n",
    "\n",
    "for idx, row in cities_df.iterrows():\n",
    "    axis_lat.append(float(row[\"lat\"]))\n",
    "    axis_temp.append(float(row[\"temp\"]))\n",
    "    axis_humd.append(float(row[\"humidity\"]))\n",
    "    axis_cloud.append(float(row[\"cloudiness\"]))\n",
    "    axis_wind.append(float(row[\"wind_speed\"]))\n"
   ]
  },
  {
   "cell_type": "markdown",
   "metadata": {},
   "source": [
    "#### Chart city latitude versus temperature"
   ]
  },
  {
   "cell_type": "code",
   "execution_count": 183,
   "metadata": {
    "collapsed": false
   },
   "outputs": [
    {
     "data": {
      "image/png": "[encoded data removed]",
      "text/plain": [
       "<matplotlib.figure.Figure at 0x1f08985f908>"
      ]
     },
     "metadata": {},
     "output_type": "display_data"
    }
   ],
   "source": [
    "fig = plt.figure()\n",
    "ax = fig.add_subplot(111)\n",
    "ax.scatter(axis_lat, axis_temp, marker=\"o\",color=\"green\",s=100, linewidths=2,edgecolor='w',alpha=0.5)\n",
    "ax.set_title(\"City Latitude vs. Temperature (%s)\" % (chart_date))\n",
    "ax.set_xlabel(\"Latitude\")\n",
    "ax.set_ylabel(\"Temperature (F)\")\n",
    "sns.set()\n",
    "plt.savefig('lat_temp.png')\n",
    "plt.show()"
   ]
  },
  {
   "cell_type": "markdown",
   "metadata": {},
   "source": [
    "#### Chart city latitude versus humidity\n"
   ]
  },
  {
   "cell_type": "code",
   "execution_count": 184,
   "metadata": {
    "collapsed": false
   },
   "outputs": [
    {
     "data": {
      "image/png": "[encoded data removed]",
      "text/plain": [
       "<matplotlib.figure.Figure at 0x1f0899fa9e8>"
      ]
     },
     "metadata": {},
     "output_type": "display_data"
    }
   ],
   "source": [
    "fig = plt.figure()\n",
    "ax = fig.add_subplot(111)\n",
    "ax.scatter(axis_lat,axis_humd, marker=\"o\",color=\"blue\",s=100, linewidths=2,edgecolor='w',alpha=0.5)\n",
    "ax.set_title(\"City Latitude vs. Humidity (%s)\" % (chart_date))\n",
    "ax.set_xlabel(\"Latitude\")\n",
    "ax.set_ylabel(\"Humidity (%)\")\n",
    "sns.set()\n",
    "plt.savefig('lat_humidity.png')\n",
    "plt.show()"
   ]
  },
  {
   "cell_type": "markdown",
   "metadata": {},
   "source": [
    "#### Chart city latitude versus cloudiness"
   ]
  },
  {
   "cell_type": "code",
   "execution_count": 185,
   "metadata": {
    "collapsed": false
   },
   "outputs": [
    {
     "data": {
      "image/png": "[encoded data removed]",
      "text/plain": [
       "<matplotlib.figure.Figure at 0x1f0895c5fd0>"
      ]
     },
     "metadata": {},
     "output_type": "display_data"
    }
   ],
   "source": [
    "fig = plt.figure()\n",
    "ax = fig.add_subplot(111)\n",
    "ax.scatter(axis_lat, axis_cloud, marker=\"o\",color=\"red\",s=100, linewidths=2,edgecolor='w',alpha=0.5)\n",
    "ax.set_title(\"City Latitude vs. Cloudiness (%s)\" % (chart_date))\n",
    "ax.set_xlabel(\"Latitude\")\n",
    "ax.set_ylabel(\"Cloudiness (%)\")\n",
    "sns.set()\n",
    "plt.savefig('lat_cloud.png')\n",
    "plt.show()"
   ]
  },
  {
   "cell_type": "markdown",
   "metadata": {},
   "source": [
    "#### Chart city latitude versus wind speed"
   ]
  },
  {
   "cell_type": "code",
   "execution_count": 186,
   "metadata": {
    "collapsed": false
   },
   "outputs": [
    {
     "data": {
      "image/png": "[encoded data removed]",
      "text/plain": [
       "<matplotlib.figure.Figure at 0x1f089a30e10>"
      ]
     },
     "metadata": {},
     "output_type": "display_data"
    }
   ],
   "source": [
    "fig = plt.figure()\n",
    "ax = fig.add_subplot(111)\n",
    "ax.scatter( axis_lat,axis_wind,marker=\"o\",color=\"purple\",s=100, linewidths=2,edgecolor='w',alpha=0.5)\n",
    "ax.set_title(\"City Latitude vs. Wind Speed (%s)\" % (chart_date))\n",
    "ax.set_xlabel(\"Latitude\")\n",
    "ax.set_ylabel(\"Wind Speed (mph)\")\n",
    "sns.set()\n",
    "plt.savefig('lat_wind.png')\n",
    "plt.show()"
   ]
  }
 ],
 "metadata": {
  "kernelspec": {
   "display_name": "Python 3",
   "language": "python",
   "name": "python3"
  },
  "language_info": {
   "codemirror_mode": {
    "name": "ipython",
    "version": 3
   },
   "file_extension": ".py",
   "mimetype": "text/x-python",
   "name": "python",
   "nbconvert_exporter": "python",
   "pygments_lexer": "ipython3",
   "version": "3.6.0"
  }
 },
 "nbformat": 4,
 "nbformat_minor": 2
}
